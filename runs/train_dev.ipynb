{
 "cells": [
  {
   "cell_type": "code",
   "execution_count": null,
   "metadata": {},
   "outputs": [],
   "source": [
    "import os\n",
    "from utils import create_runs\n",
    "\n",
    "from stable_baselines3.common.env_util import make_atari_env\n",
    "\n",
    "\n",
    "BASE_DIR = \"/home/sequenzia/dev/atari-rl\"\n",
    "\n",
    "LOG_DIR = f\"{BASE_DIR}/trained-agents\"\n",
    "CONFIGS_DIR = f\"{BASE_DIR}/configs\"\n",
    "TENSORBOARD_DIR = f\"{BASE_DIR}/logs/tensorboard\"\n",
    "\n",
    "SEED = 43\n",
    "\n",
    "N_TIMESTEMPS = 10000\n",
    "\n",
    "SAVE_FREQ = 100000\n",
    "EVAL_FREQ = 10000\n",
    "EVAL_EPISODES = 5\n",
    "\n",
    "PROJECT_NAME = \"Solen-RL-Project-2\"\n",
    "\n",
    "os.environ[\"WANDB_API_KEY\"] = \"8c880e6018cf423b7714cf055c5fd6152e1ae117\"\n",
    "os.environ[\"WANDB_DIR\"] = f\"{BASE_DIR}/logs\"\n",
    "\n",
    "# ALGOS = [\"ppo\", \"a2c\"]\n",
    "\n",
    "# ENVS = [\"BreakoutNoFrameskip-v4\",\n",
    "#          \"PongNoFrameskip-v4\",\n",
    "#          \"SpaceInvadersNoFrameskip-v4\",\n",
    "#          \"MsPacmanNoFrameskip-v4\"]\n",
    "\n",
    "ALGOS = [\"ppo\"]\n",
    "\n",
    "ENVS = [\"BreakoutNoFrameskip-v4\"]\n",
    "\n",
    "runs = create_runs(algos=ALGOS,\n",
    "                   envs=ENVS,\n",
    "                   n_timesteps=N_TIMESTEMPS,\n",
    "                   log_folder=LOG_DIR,\n",
    "                   configs_dir=CONFIGS_DIR,\n",
    "                   tensorboard_log=TENSORBOARD_DIR,\n",
    "                   seed=SEED,\n",
    "                   save_freq=SAVE_FREQ,\n",
    "                   eval_freq=EVAL_FREQ,\n",
    "                   eval_episodes=EVAL_EPISODES,\n",
    "                   wandb_project_name=PROJECT_NAME,\n",
    "                   wandb_entity=\"appliedtheta\",\n",
    "                   device=\"cuda\",\n",
    "                   track=False)\n"
   ]
  },
  {
   "cell_type": "code",
   "execution_count": null,
   "metadata": {},
   "outputs": [],
   "source": [
    "runs[0].train()"
   ]
  },
  {
   "cell_type": "code",
   "execution_count": null,
   "metadata": {},
   "outputs": [],
   "source": []
  }
 ],
 "metadata": {
  "kernelspec": {
   "display_name": "gym",
   "language": "python",
   "name": "python3"
  },
  "language_info": {
   "codemirror_mode": {
    "name": "ipython",
    "version": 3
   },
   "file_extension": ".py",
   "mimetype": "text/x-python",
   "name": "python",
   "nbconvert_exporter": "python",
   "pygments_lexer": "ipython3",
   "version": "3.9.0"
  }
 },
 "nbformat": 4,
 "nbformat_minor": 2
}
