{
 "cells": [
  {
   "cell_type": "code",
   "execution_count": 1,
   "metadata": {},
   "outputs": [
    {
     "name": "stdout",
     "output_type": "stream",
     "text": [
      "----------- 0 -> ppo | BreakoutNoFrameskip-v4 -----------\n",
      "\n"
     ]
    }
   ],
   "source": [
    "import os\n",
    "from atari_rl import create_runs\n",
    "\n",
    "\n",
    "BASE_DIR = \"/home/sequenzia/dev/repos/atari-rl\"\n",
    "\n",
    "LOG_DIR = f\"{BASE_DIR}/agents\"\n",
    "CONFIGS_DIR = f\"{BASE_DIR}/configs\"\n",
    "TENSORBOARD_DIR = f\"{BASE_DIR}/logs/tensorboard\"\n",
    "\n",
    "SEED = 43\n",
    "\n",
    "N_TIMESTEMPS = 10000\n",
    "\n",
    "SAVE_FREQ = 100000\n",
    "EVAL_FREQ = 10000\n",
    "EVAL_EPISODES = 5\n",
    "\n",
    "PROJECT_NAME = \"Solen-RL-Project-2\"\n",
    "\n",
    "os.environ[\"WANDB_API_KEY\"] = \"8c880e6018cf423b7714cf055c5fd6152e1ae117\"\n",
    "os.environ[\"WANDB_DIR\"] = f\"{BASE_DIR}/logs\"\n",
    "\n",
    "# ALGOS = [\"ppo\", \"a2c\"]\n",
    "\n",
    "# ENVS = [\"BreakoutNoFrameskip-v4\",\n",
    "#          \"PongNoFrameskip-v4\",\n",
    "#          \"SpaceInvadersNoFrameskip-v4\",\n",
    "#          \"MsPacmanNoFrameskip-v4\"]\n",
    "\n",
    "ALGOS = [\"ppo\"]\n",
    "\n",
    "ENVS = [\"BreakoutNoFrameskip-v4\"]\n",
    "\n",
    "runs = create_runs(algos=ALGOS,\n",
    "                   envs=ENVS,\n",
    "                   n_timesteps=N_TIMESTEMPS,\n",
    "                   log_folder=LOG_DIR,\n",
    "                   configs_dir=CONFIGS_DIR,\n",
    "                   tensorboard_log=TENSORBOARD_DIR,\n",
    "                   seed=SEED,\n",
    "                   save_freq=SAVE_FREQ,\n",
    "                   eval_freq=EVAL_FREQ,\n",
    "                   eval_episodes=EVAL_EPISODES,\n",
    "                   wandb_project_name=PROJECT_NAME,\n",
    "                   wandb_entity=\"appliedtheta\",\n",
    "                   device=\"cuda\",\n",
    "                   track=True)\n"
   ]
  },
  {
   "cell_type": "code",
   "execution_count": 2,
   "metadata": {},
   "outputs": [
    {
     "name": "stdout",
     "output_type": "stream",
     "text": [
      "========== BreakoutNoFrameskip-v4  |  ppo ==========\n",
      "Seed: 43\n"
     ]
    },
    {
     "name": "stderr",
     "output_type": "stream",
     "text": [
      "Failed to detect the name of this notebook, you can set it manually with the WANDB_NOTEBOOK_NAME environment variable to enable code saving.\n",
      "\u001b[34m\u001b[1mwandb\u001b[0m: Currently logged in as: \u001b[33mappliedtheta\u001b[0m. Use \u001b[1m`wandb login --relogin`\u001b[0m to force relogin\n"
     ]
    },
    {
     "data": {
      "text/html": [
       "wandb version 0.16.2 is available!  To upgrade, please run:\n",
       " $ pip install wandb --upgrade"
      ],
      "text/plain": [
       "<IPython.core.display.HTML object>"
      ]
     },
     "metadata": {},
     "output_type": "display_data"
    },
    {
     "data": {
      "text/html": [
       "Tracking run with wandb version 0.16.1"
      ],
      "text/plain": [
       "<IPython.core.display.HTML object>"
      ]
     },
     "metadata": {},
     "output_type": "display_data"
    },
    {
     "data": {
      "text/html": [
       "Run data is saved locally in <code>/home/sequenzia/dev/repos/atari-rl/logs/wandb/run-20240126_203058-n0y6d2yq</code>"
      ],
      "text/plain": [
       "<IPython.core.display.HTML object>"
      ]
     },
     "metadata": {},
     "output_type": "display_data"
    },
    {
     "data": {
      "text/html": [
       "Syncing run <strong><a href='https://wandb.ai/appliedtheta/Solen-RL-Project-2/runs/n0y6d2yq' target=\"_blank\">BreakoutNoFrameskip-v4__ppo__1706319057</a></strong> to <a href='https://wandb.ai/appliedtheta/Solen-RL-Project-2' target=\"_blank\">Weights & Biases</a> (<a href='https://wandb.me/run' target=\"_blank\">docs</a>)<br/>"
      ],
      "text/plain": [
       "<IPython.core.display.HTML object>"
      ]
     },
     "metadata": {},
     "output_type": "display_data"
    },
    {
     "data": {
      "text/html": [
       " View project at <a href='https://wandb.ai/appliedtheta/Solen-RL-Project-2' target=\"_blank\">https://wandb.ai/appliedtheta/Solen-RL-Project-2</a>"
      ],
      "text/plain": [
       "<IPython.core.display.HTML object>"
      ]
     },
     "metadata": {},
     "output_type": "display_data"
    },
    {
     "data": {
      "text/html": [
       " View run at <a href='https://wandb.ai/appliedtheta/Solen-RL-Project-2/runs/n0y6d2yq' target=\"_blank\">https://wandb.ai/appliedtheta/Solen-RL-Project-2/runs/n0y6d2yq</a>"
      ],
      "text/plain": [
       "<IPython.core.display.HTML object>"
      ]
     },
     "metadata": {},
     "output_type": "display_data"
    },
    {
     "name": "stdout",
     "output_type": "stream",
     "text": [
      "Loading hyperparameters from: /home/sequenzia/dev/repos/atari-rl/configs/ppo.yml\n",
      "Default hyperparameters for environment (ones being tuned will be overridden):\n",
      "OrderedDict([('batch_size', 256),\n",
      "             ('clip_range', 'lin_0.1'),\n",
      "             ('ent_coef', 0.01),\n",
      "             ('env_wrapper',\n",
      "              ['stable_baselines3.common.atari_wrappers.AtariWrapper']),\n",
      "             ('frame_stack', 4),\n",
      "             ('learning_rate', 'lin_2.5e-4'),\n",
      "             ('n_envs', 16),\n",
      "             ('n_epochs', 5),\n",
      "             ('n_steps', 128),\n",
      "             ('n_timesteps', 10000000.0),\n",
      "             ('policy', 'CnnPolicy'),\n",
      "             ('vf_coef', 0.5)])\n",
      "Using 16 environments\n",
      "Overwriting n_timesteps with n=10000\n",
      "Creating test environment\n",
      "Stacking 4 frames\n",
      "Wrapping the env in a VecTransposeImage.\n"
     ]
    },
    {
     "name": "stderr",
     "output_type": "stream",
     "text": [
      "A.L.E: Arcade Learning Environment (version 0.8.1+53f58b7)\n",
      "[Powered by Stella]\n"
     ]
    },
    {
     "name": "stdout",
     "output_type": "stream",
     "text": [
      "Stacking 4 frames\n",
      "Wrapping the env in a VecTransposeImage.\n",
      "Using cuda device\n",
      "Log path: /home/sequenzia/dev/repos/atari-rl/agents/ppo/BreakoutNoFrameskip-v4_2\n",
      "Logging to /home/sequenzia/dev/repos/atari-rl/logs/tensorboard/BreakoutNoFrameskip-v4__ppo__1706319057/BreakoutNoFrameskip-v4/PPO_1\n",
      "---------------------------------\n",
      "| rollout/           |          |\n",
      "|    ep_len_mean     | 516      |\n",
      "|    ep_rew_mean     | 0        |\n",
      "| time/              |          |\n",
      "|    fps             | 490      |\n",
      "|    iterations      | 1        |\n",
      "|    time_elapsed    | 4        |\n",
      "|    total_timesteps | 2048     |\n",
      "---------------------------------\n",
      "-----------------------------------------\n",
      "| rollout/                |             |\n",
      "|    ep_len_mean          | 614         |\n",
      "|    ep_rew_mean          | 0.611       |\n",
      "| time/                   |             |\n",
      "|    fps                  | 608         |\n",
      "|    iterations           | 2           |\n",
      "|    time_elapsed         | 6           |\n",
      "|    total_timesteps      | 4096        |\n",
      "| train/                  |             |\n",
      "|    approx_kl            | 0.001072326 |\n",
      "|    clip_fraction        | 0.00127     |\n",
      "|    clip_range           | 0.0795      |\n",
      "|    entropy_loss         | -1.39       |\n",
      "|    explained_variance   | -0.0462     |\n",
      "|    learning_rate        | 0.000199    |\n",
      "|    loss                 | 0.00902     |\n",
      "|    n_updates            | 5           |\n",
      "|    policy_gradient_loss | -0.000224   |\n",
      "|    value_loss           | 0.0713      |\n",
      "-----------------------------------------\n",
      "-----------------------------------------\n",
      "| rollout/                |             |\n",
      "|    ep_len_mean          | 693         |\n",
      "|    ep_rew_mean          | 1           |\n",
      "| time/                   |             |\n",
      "|    fps                  | 676         |\n",
      "|    iterations           | 3           |\n",
      "|    time_elapsed         | 9           |\n",
      "|    total_timesteps      | 6144        |\n",
      "| train/                  |             |\n",
      "|    approx_kl            | 0.000455772 |\n",
      "|    clip_fraction        | 0           |\n",
      "|    clip_range           | 0.059       |\n",
      "|    entropy_loss         | -1.39       |\n",
      "|    explained_variance   | 0.0355      |\n",
      "|    learning_rate        | 0.000148    |\n",
      "|    loss                 | 0.018       |\n",
      "|    n_updates            | 10          |\n",
      "|    policy_gradient_loss | -0.000192   |\n",
      "|    value_loss           | 0.0738      |\n",
      "-----------------------------------------\n",
      "-------------------------------------------\n",
      "| rollout/                |               |\n",
      "|    ep_len_mean          | 718           |\n",
      "|    ep_rew_mean          | 1.21          |\n",
      "| time/                   |               |\n",
      "|    fps                  | 709           |\n",
      "|    iterations           | 4             |\n",
      "|    time_elapsed         | 11            |\n",
      "|    total_timesteps      | 8192          |\n",
      "| train/                  |               |\n",
      "|    approx_kl            | 0.00031920042 |\n",
      "|    clip_fraction        | 0.0279        |\n",
      "|    clip_range           | 0.0386        |\n",
      "|    entropy_loss         | -1.39         |\n",
      "|    explained_variance   | 0.0803        |\n",
      "|    learning_rate        | 9.64e-05      |\n",
      "|    loss                 | 0.0185        |\n",
      "|    n_updates            | 15            |\n",
      "|    policy_gradient_loss | -0.00049      |\n",
      "|    value_loss           | 0.0752        |\n",
      "-------------------------------------------\n",
      "Eval num_timesteps=10000, episode_reward=1.80 +/- 0.98\n",
      "Episode length: 812.40 +/- 184.43\n",
      "-------------------------------------------\n",
      "| eval/                   |               |\n",
      "|    mean_ep_length       | 812           |\n",
      "|    mean_reward          | 1.8           |\n",
      "| time/                   |               |\n",
      "|    total_timesteps      | 10000         |\n",
      "| train/                  |               |\n",
      "|    approx_kl            | 5.7293364e-05 |\n",
      "|    clip_fraction        | 0.0248        |\n",
      "|    clip_range           | 0.0181        |\n",
      "|    entropy_loss         | -1.39         |\n",
      "|    explained_variance   | 0.17          |\n",
      "|    learning_rate        | 4.52e-05      |\n",
      "|    loss                 | 0.0162        |\n",
      "|    n_updates            | 20            |\n",
      "|    policy_gradient_loss | -0.000234     |\n",
      "|    value_loss           | 0.0588        |\n",
      "-------------------------------------------\n",
      "New best mean reward!\n",
      "---------------------------------\n",
      "| rollout/           |          |\n",
      "|    ep_len_mean     | 703      |\n",
      "|    ep_rew_mean     | 1.13     |\n",
      "| time/              |          |\n",
      "|    fps             | 648      |\n",
      "|    iterations      | 5        |\n",
      "|    time_elapsed    | 15       |\n",
      "|    total_timesteps | 10240    |\n",
      "---------------------------------\n",
      "Saving to /home/sequenzia/dev/repos/atari-rl/agents/ppo/BreakoutNoFrameskip-v4_2\n"
     ]
    }
   ],
   "source": [
    "runs[0].train()"
   ]
  },
  {
   "cell_type": "code",
   "execution_count": null,
   "metadata": {},
   "outputs": [],
   "source": []
  }
 ],
 "metadata": {
  "kernelspec": {
   "display_name": "gym",
   "language": "python",
   "name": "python3"
  },
  "language_info": {
   "codemirror_mode": {
    "name": "ipython",
    "version": 3
   },
   "file_extension": ".py",
   "mimetype": "text/x-python",
   "name": "python",
   "nbconvert_exporter": "python",
   "pygments_lexer": "ipython3",
   "version": "3.9.0"
  }
 },
 "nbformat": 4,
 "nbformat_minor": 2
}
