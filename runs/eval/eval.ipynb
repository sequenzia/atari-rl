{
 "cells": [
  {
   "cell_type": "code",
   "execution_count": 1,
   "metadata": {},
   "outputs": [
    {
     "name": "stdout",
     "output_type": "stream",
     "text": [
      "\n",
      "Loading /home/sequenzia/dev/repos/atari-rl/agents/ppo/ALE-Breakout-v5_1/best_model.zip\n",
      "\n"
     ]
    },
    {
     "name": "stderr",
     "output_type": "stream",
     "text": [
      "A.L.E: Arcade Learning Environment (version 0.8.1+53f58b7)\n",
      "[Powered by Stella]\n",
      "A.L.E: Arcade Learning Environment (version 0.8.1+53f58b7)\n",
      "[Powered by Stella]\n"
     ]
    },
    {
     "name": "stdout",
     "output_type": "stream",
     "text": [
      "Stacking 4 frames\n",
      "\n",
      "\n",
      "PPO_Breakout: 1 EPISODE: 1\n",
      "Episode Score: 38.00\n",
      "Episode Length: 1148\n",
      "\n",
      "\n",
      "PPO_Breakout: 2 EPISODE: 1\n",
      "Episode Score: 54.00\n",
      "Episode Length: 1263\n",
      "\n",
      "\n",
      "PPO_Breakout: 1 EPISODE: 2\n",
      "Episode Score: 22.00\n",
      "Episode Length: 934\n",
      "\n",
      "\n",
      "PPO_Breakout: 2 EPISODE: 2\n",
      "Episode Score: 36.00\n",
      "Episode Length: 977\n",
      "\n",
      "\n",
      "PPO_Breakout: 2 EPISODE: 3\n",
      "Episode Score: 20.00\n",
      "Episode Length: 673\n",
      "\n",
      "\n",
      "PPO_Breakout: 1 EPISODE: 3\n",
      "Episode Score: 57.00\n",
      "Episode Length: 1242\n",
      "\n",
      "\n",
      "PPO_Breakout: 2 EPISODE: 4\n",
      "Episode Score: 24.00\n",
      "Episode Length: 844\n",
      "\n",
      "\n",
      "PPO_Breakout: 1 EPISODE: 4\n",
      "Episode Score: 28.00\n",
      "Episode Length: 1036\n",
      "\n",
      "\n",
      "PPO_Breakout: 2 EPISODE: 5\n",
      "Episode Score: 21.00\n",
      "Episode Length: 767\n",
      "\n",
      "\n",
      "PPO_Breakout: 2 EPISODE: 6\n",
      "Episode Score: 16.00\n",
      "Episode Length: 709\n",
      "\n",
      "\n",
      "PPO_Breakout: 1 EPISODE: 5\n",
      "Episode Score: 51.00\n",
      "Episode Length: 1099\n",
      "\n",
      "\n",
      "PPO_Breakout: 2 EPISODE: 7\n",
      "Episode Score: 22.00\n",
      "Episode Length: 865\n",
      "\n",
      "\n",
      "PPO_Breakout: 1 EPISODE: 6\n",
      "Episode Score: 31.00\n",
      "Episode Length: 1061\n",
      "\n",
      "\n",
      "PPO_Breakout: 2 EPISODE: 8\n",
      "Episode Score: 37.00\n",
      "Episode Length: 1053\n",
      "\n",
      "\n",
      "PPO_Breakout: 1 EPISODE: 7\n",
      "Episode Score: 53.00\n",
      "Episode Length: 1219\n",
      "\n",
      "\n",
      "PPO_Breakout: 2 EPISODE: 9\n",
      "Episode Score: 66.00\n",
      "Episode Length: 1487\n",
      "\n",
      "\n",
      "PPO_Breakout: 1 EPISODE: 8\n",
      "Episode Score: 31.00\n",
      "Episode Length: 1004\n",
      "\n",
      "\n",
      "PPO_Breakout: 1 EPISODE: 9\n",
      "Episode Score: 10.00\n",
      "Episode Length: 552\n",
      "\n",
      "\n",
      "PPO_Breakout: 2 EPISODE: 10\n",
      "Episode Score: 61.00\n",
      "Episode Length: 1266\n",
      "\n",
      "\n",
      "PPO_Breakout: 1 EPISODE: 10\n",
      "Episode Score: 24.00\n",
      "Episode Length: 929\n",
      "\n",
      "\n",
      "PPO_Breakout: 2 EPISODE: 11\n",
      "Episode Score: 64.00\n",
      "Episode Length: 1289\n",
      "\n",
      "\n",
      "PPO_Breakout: 1 EPISODE: 11\n",
      "Episode Score: 41.00\n",
      "Episode Length: 1209\n",
      "\n",
      "\n",
      "PPO_Breakout: 2 EPISODE: 12\n",
      "Episode Score: 23.00\n",
      "Episode Length: 732\n",
      "\n",
      "\n",
      "PPO_Breakout: 1 EPISODE: 12\n",
      "Episode Score: 41.00\n",
      "Episode Length: 1161\n",
      "\n",
      "\n",
      "PPO_Breakout: 2 EPISODE: 13\n",
      "Episode Score: 30.00\n",
      "Episode Length: 1045\n",
      "\n",
      "\n",
      "PPO_Breakout: 1 EPISODE: 13\n",
      "Episode Score: 36.00\n",
      "Episode Length: 1060\n",
      "\n",
      "\n",
      "PPO_Breakout: 2 EPISODE: 14\n",
      "Episode Score: 39.00\n",
      "Episode Length: 936\n",
      "\n",
      "\n",
      "PPO_Breakout: 1 EPISODE: 14\n",
      "Episode Score: 43.00\n",
      "Episode Length: 1105\n",
      "\n",
      "\n",
      "PPO_Breakout: 2 EPISODE: 15\n",
      "Episode Score: 25.00\n",
      "Episode Length: 971\n",
      "\n",
      "\n",
      "PPO_Breakout: 2 EPISODE: 16\n",
      "Episode Score: 25.00\n",
      "Episode Length: 919\n",
      "\n",
      "\n",
      "PPO_Breakout: 1 EPISODE: 15\n",
      "Episode Score: 43.00\n",
      "Episode Length: 1208\n",
      "\n",
      "\n",
      "PPO_Breakout: 2 EPISODE: 17\n",
      "Episode Score: 37.00\n",
      "Episode Length: 1113\n",
      "\n",
      "\n",
      "PPO_Breakout: 1 EPISODE: 16\n",
      "Episode Score: 35.00\n",
      "Episode Length: 913\n",
      "\n",
      "\n",
      "PPO_Breakout: 1 EPISODE: 17\n",
      "Episode Score: 23.00\n",
      "Episode Length: 815\n",
      "\n",
      "\n",
      "PPO_Breakout: 2 EPISODE: 18\n",
      "Episode Score: 34.00\n",
      "Episode Length: 1175\n",
      "\n",
      "\n",
      "PPO_Breakout: 1 EPISODE: 18\n",
      "Episode Score: 26.00\n",
      "Episode Length: 730\n",
      "\n",
      "\n",
      "PPO_Breakout: 2 EPISODE: 19\n",
      "Episode Score: 14.00\n",
      "Episode Length: 577\n",
      "\n",
      "\n",
      "PPO_Breakout: 1 EPISODE: 19\n",
      "Episode Score: 55.00\n",
      "Episode Length: 1175\n",
      "\n",
      "\n",
      "PPO_Breakout: 2 EPISODE: 20\n",
      "Episode Score: 46.00\n",
      "Episode Length: 1258\n",
      "\n",
      "\n",
      "PPO_Breakout: 1 EPISODE: 20\n",
      "Episode Score: 14.00\n",
      "Episode Length: 624\n",
      "\n",
      "\n",
      "PPO_Breakout: 2 EPISODE: 21\n",
      "Episode Score: 26.00\n",
      "Episode Length: 928\n",
      "\n",
      "\n",
      "PPO_Breakout: 1 EPISODE: 21\n",
      "Episode Score: 24.00\n",
      "Episode Length: 885\n",
      "\n",
      "\n",
      "PPO_Breakout: 2 EPISODE: 22\n",
      "Episode Score: 27.00\n",
      "Episode Length: 941\n",
      "\n",
      "\n",
      "PPO_Breakout: 2 EPISODE: 23\n",
      "Episode Score: 14.00\n",
      "Episode Length: 568\n",
      "\n",
      "\n",
      "PPO_Breakout: 1 EPISODE: 22\n",
      "Episode Score: 49.00\n",
      "Episode Length: 1250\n",
      "\n",
      "\n",
      "PPO_Breakout: 2 EPISODE: 24\n",
      "Episode Score: 34.00\n",
      "Episode Length: 1037\n",
      "\n",
      "\n",
      "PPO_Breakout: 1 EPISODE: 23\n",
      "Episode Score: 31.00\n",
      "Episode Length: 1154\n",
      "\n",
      "\n",
      "PPO_Breakout: 2 EPISODE: 25\n",
      "Episode Score: 26.00\n",
      "Episode Length: 712\n",
      "\n",
      "\n",
      "PPO_Breakout: 1 EPISODE: 24\n",
      "Episode Score: 30.00\n",
      "Episode Length: 1077\n",
      "\n",
      "\n",
      "PPO_Breakout: 2 EPISODE: 26\n",
      "Episode Score: 19.00\n",
      "Episode Length: 755\n",
      "\n",
      "\n",
      "PPO_Breakout: 1 EPISODE: 25\n",
      "Episode Score: 27.00\n",
      "Episode Length: 771\n",
      "\n",
      "\n",
      "PPO_Breakout: 2 EPISODE: 27\n",
      "Episode Score: 31.00\n",
      "Episode Length: 999\n",
      "\n",
      "\n",
      "PPO_Breakout: 1 EPISODE: 26\n",
      "Episode Score: 48.00\n",
      "Episode Length: 1388\n",
      "\n",
      "\n",
      "PPO_Breakout: 2 EPISODE: 28\n",
      "Episode Score: 33.00\n",
      "Episode Length: 990\n",
      "\n",
      "\n",
      "PPO_Breakout: 1 EPISODE: 27\n",
      "Episode Score: 39.00\n",
      "Episode Length: 1153\n",
      "\n",
      "\n",
      "PPO_Breakout: 2 EPISODE: 29\n",
      "Episode Score: 39.00\n",
      "Episode Length: 1152\n",
      "\n",
      "\n",
      "PPO_Breakout: 2 EPISODE: 30\n",
      "Episode Score: 29.00\n",
      "Episode Length: 853\n",
      "\n",
      "\n",
      "PPO_Breakout: 1 EPISODE: 28\n",
      "Episode Score: 31.00\n",
      "Episode Length: 1096\n",
      "\n",
      "\n",
      "PPO_Breakout: 2 EPISODE: 31\n",
      "Episode Score: 48.00\n",
      "Episode Length: 1168\n",
      "\n",
      "\n",
      "PPO_Breakout: 1 EPISODE: 29\n",
      "Episode Score: 40.00\n",
      "Episode Length: 1031\n",
      "\n",
      "\n",
      "PPO_Breakout: 1 EPISODE: 30\n",
      "Episode Score: 27.00\n",
      "Episode Length: 960\n",
      "\n",
      "\n",
      "PPO_Breakout: 2 EPISODE: 32\n",
      "Episode Score: 52.00\n",
      "Episode Length: 1197\n",
      "\n",
      "\n",
      "PPO_Breakout: 1 EPISODE: 31\n",
      "Episode Score: 31.00\n",
      "Episode Length: 874\n",
      "\n",
      "\n",
      "PPO_Breakout: 2 EPISODE: 33\n",
      "Episode Score: 44.00\n",
      "Episode Length: 1251\n",
      "\n",
      "\n",
      "PPO_Breakout: 1 EPISODE: 32\n",
      "Episode Score: 40.00\n",
      "Episode Length: 1079\n",
      "\n",
      "\n",
      "PPO_Breakout: 2 EPISODE: 34\n",
      "Episode Score: 40.00\n",
      "Episode Length: 1172\n",
      "\n",
      "\n",
      "PPO_Breakout: 1 EPISODE: 33\n",
      "Episode Score: 37.00\n",
      "Episode Length: 1001\n",
      "\n",
      "\n",
      "PPO_Breakout: 2 EPISODE: 35\n",
      "Episode Score: 22.00\n",
      "Episode Length: 884\n",
      "\n",
      "\n",
      "PPO_Breakout: 1 EPISODE: 34\n",
      "Episode Score: 36.00\n",
      "Episode Length: 1041\n",
      "\n",
      "\n",
      "PPO_Breakout: 2 EPISODE: 36\n",
      "Episode Score: 82.00\n",
      "Episode Length: 1590\n",
      "\n",
      "\n",
      "PPO_Breakout: 1 EPISODE: 35\n",
      "Episode Score: 37.00\n",
      "Episode Length: 1181\n",
      "\n",
      "\n",
      "PPO_Breakout: 1 EPISODE: 36\n",
      "Episode Score: 46.00\n",
      "Episode Length: 1128\n",
      "\n",
      "\n",
      "PPO_Breakout: 2 EPISODE: 37\n",
      "Episode Score: 53.00\n",
      "Episode Length: 1298\n",
      "\n",
      "\n",
      "PPO_Breakout: 1 EPISODE: 37\n",
      "Episode Score: 57.00\n",
      "Episode Length: 1330\n",
      "\n",
      "\n",
      "PPO_Breakout: 2 EPISODE: 38\n",
      "Episode Score: 55.00\n",
      "Episode Length: 1286\n",
      "\n",
      "\n",
      "PPO_Breakout: 2 EPISODE: 39\n",
      "Episode Score: 16.00\n",
      "Episode Length: 745\n",
      "\n",
      "\n",
      "PPO_Breakout: 1 EPISODE: 38\n",
      "Episode Score: 49.00\n",
      "Episode Length: 1120\n",
      "\n",
      "\n",
      "PPO_Breakout: 2 EPISODE: 40\n",
      "Episode Score: 33.00\n",
      "Episode Length: 985\n",
      "\n",
      "\n",
      "PPO_Breakout: 1 EPISODE: 39\n",
      "Episode Score: 33.00\n",
      "Episode Length: 1084\n",
      "\n",
      "\n",
      "PPO_Breakout: 1 EPISODE: 40\n",
      "Episode Score: 16.00\n",
      "Episode Length: 711\n",
      "\n",
      "\n",
      "PPO_Breakout: 2 EPISODE: 41\n",
      "Episode Score: 43.00\n",
      "Episode Length: 1163\n",
      "\n",
      "\n",
      "PPO_Breakout: 2 EPISODE: 42\n",
      "Episode Score: 31.00\n",
      "Episode Length: 1018\n",
      "\n",
      "\n",
      "PPO_Breakout: 1 EPISODE: 41\n",
      "Episode Score: 65.00\n",
      "Episode Length: 1257\n"
     ]
    },
    {
     "name": "stderr",
     "output_type": "stream",
     "text": [
      "Failed to detect the name of this notebook, you can set it manually with the WANDB_NOTEBOOK_NAME environment variable to enable code saving.\n",
      "\u001b[34m\u001b[1mwandb\u001b[0m: Currently logged in as: \u001b[33mappliedtheta\u001b[0m. Use \u001b[1m`wandb login --relogin`\u001b[0m to force relogin\n"
     ]
    },
    {
     "data": {
      "text/html": [
       "Tracking run with wandb version 0.16.3"
      ],
      "text/plain": [
       "<IPython.core.display.HTML object>"
      ]
     },
     "metadata": {},
     "output_type": "display_data"
    },
    {
     "data": {
      "text/html": [
       "Run data is saved locally in <code>/home/sequenzia/dev/repos/atari-rl/logs/wandb/run-20240213_014704-ix0kaq8e</code>"
      ],
      "text/plain": [
       "<IPython.core.display.HTML object>"
      ]
     },
     "metadata": {},
     "output_type": "display_data"
    },
    {
     "data": {
      "text/html": [
       "Syncing run <strong><a href='https://wandb.ai/appliedtheta/solen-rl-project-eval-2/runs/ix0kaq8e' target=\"_blank\">PPO_Breakout_1_2024-02-13-01-45-49</a></strong> to <a href='https://wandb.ai/appliedtheta/solen-rl-project-eval-2' target=\"_blank\">Weights & Biases</a> (<a href='https://wandb.me/run' target=\"_blank\">docs</a>)<br/>"
      ],
      "text/plain": [
       "<IPython.core.display.HTML object>"
      ]
     },
     "metadata": {},
     "output_type": "display_data"
    },
    {
     "data": {
      "text/html": [
       " View project at <a href='https://wandb.ai/appliedtheta/solen-rl-project-eval-2' target=\"_blank\">https://wandb.ai/appliedtheta/solen-rl-project-eval-2</a>"
      ],
      "text/plain": [
       "<IPython.core.display.HTML object>"
      ]
     },
     "metadata": {},
     "output_type": "display_data"
    },
    {
     "data": {
      "text/html": [
       " View run at <a href='https://wandb.ai/appliedtheta/solen-rl-project-eval-2/runs/ix0kaq8e' target=\"_blank\">https://wandb.ai/appliedtheta/solen-rl-project-eval-2/runs/ix0kaq8e</a>"
      ],
      "text/plain": [
       "<IPython.core.display.HTML object>"
      ]
     },
     "metadata": {},
     "output_type": "display_data"
    },
    {
     "data": {
      "application/vnd.jupyter.widget-view+json": {
       "model_id": "9ade138a22794db5a09a6ef44f092398",
       "version_major": 2,
       "version_minor": 0
      },
      "text/plain": [
       "VBox(children=(Label(value='0.018 MB of 0.018 MB uploaded\\r'), FloatProgress(value=1.0, max=1.0)))"
      ]
     },
     "metadata": {},
     "output_type": "display_data"
    },
    {
     "data": {
      "text/html": [
       "<style>\n",
       "    table.wandb td:nth-child(1) { padding: 0 10px; text-align: left ; width: auto;} td:nth-child(2) {text-align: left ; width: 100%}\n",
       "    .wandb-row { display: flex; flex-direction: row; flex-wrap: wrap; justify-content: flex-start; width: 100% }\n",
       "    .wandb-col { display: flex; flex-direction: column; flex-basis: 100%; flex: 1; padding: 10px; }\n",
       "    </style>\n",
       "<div class=\"wandb-row\"><div class=\"wandb-col\"><h3>Run history:</h3><br/><table class=\"wandb\"><tr><td>PPO_Breakout/episode_length</td><td>▅▃▁▃▂▄▄▅▄▆▅▅▄▄▃▃▂▂▅▁▃▆▅▄▂▇▅▃▅▃▆▅▃█▅▆▂▄▂▆</td></tr><tr><td>PPO_Breakout/episode_lives</td><td>▁▁▁▁▁▁▁▁▁▁▁▁▁▁▁▁▁▁▁▁▁▁▁▁▁▁▁▁▁▁▁▁▁▁▁▁▁▁▁▁</td></tr><tr><td>PPO_Breakout/episode_score</td><td>▃▂▂▂▂▅▃▅▃▆▄▄▃▄▂▃▂▂▅▁▂▅▃▃▂▅▄▃▅▂▄▄▂█▄▅▁▃▁▆</td></tr><tr><td>PPO_Breakout/episode_time</td><td>▁▁▁▁▂▂▂▂▂▃▃▃▃▃▃▄▄▄▄▄▅▅▅▅▅▅▆▆▆▆▆▆▇▇▇▇▇███</td></tr><tr><td>PPO_Breakout/run_frame_number</td><td>▁▁▁▁▂▂▂▂▂▂▃▃▃▃▃▄▄▄▄▄▄▅▅▅▅▅▅▆▆▆▆▆▇▇▇▇▇███</td></tr></table><br/></div><div class=\"wandb-col\"><h3>Run summary:</h3><br/><table class=\"wandb\"><tr><td>PPO_Breakout/episode_length</td><td>1257</td></tr><tr><td>PPO_Breakout/episode_lives</td><td>0</td></tr><tr><td>PPO_Breakout/episode_score</td><td>65.0</td></tr><tr><td>PPO_Breakout/episode_time</td><td>68.99475</td></tr><tr><td>PPO_Breakout/run_frame_number</td><td>171109</td></tr></table><br/></div></div>"
      ],
      "text/plain": [
       "<IPython.core.display.HTML object>"
      ]
     },
     "metadata": {},
     "output_type": "display_data"
    },
    {
     "data": {
      "text/html": [
       " View run <strong style=\"color:#cdcd00\">PPO_Breakout_1_2024-02-13-01-45-49</strong> at: <a href='https://wandb.ai/appliedtheta/solen-rl-project-eval-2/runs/ix0kaq8e' target=\"_blank\">https://wandb.ai/appliedtheta/solen-rl-project-eval-2/runs/ix0kaq8e</a><br/>Synced 5 W&B file(s), 0 media file(s), 0 artifact file(s) and 0 other file(s)"
      ],
      "text/plain": [
       "<IPython.core.display.HTML object>"
      ]
     },
     "metadata": {},
     "output_type": "display_data"
    },
    {
     "data": {
      "text/html": [
       "Find logs at: <code>/home/sequenzia/dev/repos/atari-rl/logs/wandb/run-20240213_014704-ix0kaq8e/logs</code>"
      ],
      "text/plain": [
       "<IPython.core.display.HTML object>"
      ]
     },
     "metadata": {},
     "output_type": "display_data"
    },
    {
     "name": "stdout",
     "output_type": "stream",
     "text": [
      "\n",
      "Loading /home/sequenzia/dev/repos/atari-rl/agents/ppo/ALE-Pong-v5_1/best_model.zip\n",
      "\n"
     ]
    },
    {
     "name": "stderr",
     "output_type": "stream",
     "text": [
      "A.L.E: Arcade Learning Environment (version 0.8.1+53f58b7)\n",
      "[Powered by Stella]\n",
      "A.L.E: Arcade Learning Environment (version 0.8.1+53f58b7)\n",
      "[Powered by Stella]\n"
     ]
    },
    {
     "name": "stdout",
     "output_type": "stream",
     "text": [
      "Stacking 4 frames\n",
      "\n",
      "\n",
      "PPO_Pong: 2 EPISODE: 1\n",
      "Episode Score: 2.00\n",
      "Episode Length: 6218\n",
      "\n",
      "\n",
      "PPO_Pong: 1 EPISODE: 1\n",
      "Episode Score: -4.00\n",
      "Episode Length: 6292\n",
      "\n",
      "\n",
      "PPO_Pong: 1 EPISODE: 2\n",
      "Episode Score: -11.00\n",
      "Episode Length: 4009\n",
      "\n",
      "\n",
      "PPO_Pong: 2 EPISODE: 2\n",
      "Episode Score: 9.00\n",
      "Episode Length: 4771\n",
      "\n",
      "\n",
      "PPO_Pong: 2 EPISODE: 3\n",
      "Episode Score: 2.00\n",
      "Episode Length: 5837\n",
      "\n",
      "\n",
      "PPO_Pong: 1 EPISODE: 3\n",
      "Episode Score: 4.00\n",
      "Episode Length: 7502\n",
      "\n",
      "\n",
      "PPO_Pong: 2 EPISODE: 4\n",
      "Episode Score: 4.00\n",
      "Episode Length: 4935\n",
      "\n",
      "\n",
      "PPO_Pong: 1 EPISODE: 4\n",
      "Episode Score: 5.00\n",
      "Episode Length: 6082\n",
      "\n",
      "\n",
      "PPO_Pong: 2 EPISODE: 5\n",
      "Episode Score: 1.00\n",
      "Episode Length: 5984\n",
      "\n",
      "\n",
      "PPO_Pong: 1 EPISODE: 5\n",
      "Episode Score: 8.00\n",
      "Episode Length: 4700\n",
      "\n",
      "\n",
      "PPO_Pong: 2 EPISODE: 6\n",
      "Episode Score: 10.00\n",
      "Episode Length: 5836\n",
      "\n",
      "\n",
      "PPO_Pong: 1 EPISODE: 6\n",
      "Episode Score: 8.00\n",
      "Episode Length: 6186\n",
      "\n",
      "\n",
      "PPO_Pong: 2 EPISODE: 7\n",
      "Episode Score: 11.00\n",
      "Episode Length: 5042\n"
     ]
    },
    {
     "data": {
      "text/html": [
       "Tracking run with wandb version 0.16.3"
      ],
      "text/plain": [
       "<IPython.core.display.HTML object>"
      ]
     },
     "metadata": {},
     "output_type": "display_data"
    },
    {
     "data": {
      "text/html": [
       "Run data is saved locally in <code>/home/sequenzia/dev/repos/atari-rl/logs/wandb/run-20240213_014823-445htkp9</code>"
      ],
      "text/plain": [
       "<IPython.core.display.HTML object>"
      ]
     },
     "metadata": {},
     "output_type": "display_data"
    },
    {
     "data": {
      "text/html": [
       "Syncing run <strong><a href='https://wandb.ai/appliedtheta/solen-rl-project-eval-2/runs/445htkp9' target=\"_blank\">PPO_Pong_1_2024-02-13-01-47-19</a></strong> to <a href='https://wandb.ai/appliedtheta/solen-rl-project-eval-2' target=\"_blank\">Weights & Biases</a> (<a href='https://wandb.me/run' target=\"_blank\">docs</a>)<br/>"
      ],
      "text/plain": [
       "<IPython.core.display.HTML object>"
      ]
     },
     "metadata": {},
     "output_type": "display_data"
    },
    {
     "data": {
      "text/html": [
       " View project at <a href='https://wandb.ai/appliedtheta/solen-rl-project-eval-2' target=\"_blank\">https://wandb.ai/appliedtheta/solen-rl-project-eval-2</a>"
      ],
      "text/plain": [
       "<IPython.core.display.HTML object>"
      ]
     },
     "metadata": {},
     "output_type": "display_data"
    },
    {
     "data": {
      "text/html": [
       " View run at <a href='https://wandb.ai/appliedtheta/solen-rl-project-eval-2/runs/445htkp9' target=\"_blank\">https://wandb.ai/appliedtheta/solen-rl-project-eval-2/runs/445htkp9</a>"
      ],
      "text/plain": [
       "<IPython.core.display.HTML object>"
      ]
     },
     "metadata": {},
     "output_type": "display_data"
    },
    {
     "data": {
      "application/vnd.jupyter.widget-view+json": {
       "model_id": "4e68a8fdb9ed41a9a76e792a014babc5",
       "version_major": 2,
       "version_minor": 0
      },
      "text/plain": [
       "VBox(children=(Label(value='0.018 MB of 0.018 MB uploaded\\r'), FloatProgress(value=1.0, max=1.0)))"
      ]
     },
     "metadata": {},
     "output_type": "display_data"
    },
    {
     "data": {
      "text/html": [
       "<style>\n",
       "    table.wandb td:nth-child(1) { padding: 0 10px; text-align: left ; width: auto;} td:nth-child(2) {text-align: left ; width: 100%}\n",
       "    .wandb-row { display: flex; flex-direction: row; flex-wrap: wrap; justify-content: flex-start; width: 100% }\n",
       "    .wandb-col { display: flex; flex-direction: column; flex-basis: 100%; flex: 1; padding: 10px; }\n",
       "    </style>\n",
       "<div class=\"wandb-row\"><div class=\"wandb-col\"><h3>Run history:</h3><br/><table class=\"wandb\"><tr><td>PPO_Pong/episode_length</td><td>▅▆▁▃▅█▃▅▅▂▅▅▃</td></tr><tr><td>PPO_Pong/episode_lives</td><td>▁▁▁▁▁▁▁▁▁▁▁▁▁</td></tr><tr><td>PPO_Pong/episode_score</td><td>▅▃▁▇▅▆▆▆▅▇█▇█</td></tr><tr><td>PPO_Pong/episode_time</td><td>▁▁▂▂▃▄▄▅▆▆▇▇█</td></tr><tr><td>PPO_Pong/run_frame_number</td><td>▁▁▂▂▃▄▄▅▆▆▇▇█</td></tr></table><br/></div><div class=\"wandb-col\"><h3>Run summary:</h3><br/><table class=\"wandb\"><tr><td>PPO_Pong/episode_length</td><td>5042</td></tr><tr><td>PPO_Pong/episode_lives</td><td>0</td></tr><tr><td>PPO_Pong/episode_score</td><td>11.0</td></tr><tr><td>PPO_Pong/episode_time</td><td>58.03403</td></tr><tr><td>PPO_Pong/run_frame_number</td><td>154484</td></tr></table><br/></div></div>"
      ],
      "text/plain": [
       "<IPython.core.display.HTML object>"
      ]
     },
     "metadata": {},
     "output_type": "display_data"
    },
    {
     "data": {
      "text/html": [
       " View run <strong style=\"color:#cdcd00\">PPO_Pong_1_2024-02-13-01-47-19</strong> at: <a href='https://wandb.ai/appliedtheta/solen-rl-project-eval-2/runs/445htkp9' target=\"_blank\">https://wandb.ai/appliedtheta/solen-rl-project-eval-2/runs/445htkp9</a><br/>Synced 5 W&B file(s), 0 media file(s), 0 artifact file(s) and 0 other file(s)"
      ],
      "text/plain": [
       "<IPython.core.display.HTML object>"
      ]
     },
     "metadata": {},
     "output_type": "display_data"
    },
    {
     "data": {
      "text/html": [
       "Find logs at: <code>/home/sequenzia/dev/repos/atari-rl/logs/wandb/run-20240213_014823-445htkp9/logs</code>"
      ],
      "text/plain": [
       "<IPython.core.display.HTML object>"
      ]
     },
     "metadata": {},
     "output_type": "display_data"
    },
    {
     "name": "stdout",
     "output_type": "stream",
     "text": [
      "\n",
      "Loading /home/sequenzia/dev/repos/atari-rl/agents/ppo/ALE-SpaceInvaders-v5_1/best_model.zip\n",
      "\n"
     ]
    },
    {
     "name": "stderr",
     "output_type": "stream",
     "text": [
      "A.L.E: Arcade Learning Environment (version 0.8.1+53f58b7)\n",
      "[Powered by Stella]\n",
      "A.L.E: Arcade Learning Environment (version 0.8.1+53f58b7)\n",
      "[Powered by Stella]\n"
     ]
    },
    {
     "name": "stdout",
     "output_type": "stream",
     "text": [
      "Stacking 4 frames\n",
      "\n",
      "\n",
      "PPO_SpaceInvaders: 1 EPISODE: 1\n",
      "Episode Score: 905.00\n",
      "Episode Length: 989\n",
      "\n",
      "\n",
      "PPO_SpaceInvaders: 2 EPISODE: 1\n",
      "Episode Score: 1140.00\n",
      "Episode Length: 1574\n",
      "\n",
      "\n",
      "PPO_SpaceInvaders: 1 EPISODE: 2\n",
      "Episode Score: 980.00\n",
      "Episode Length: 1280\n",
      "\n",
      "\n",
      "PPO_SpaceInvaders: 2 EPISODE: 2\n",
      "Episode Score: 1110.00\n",
      "Episode Length: 1142\n",
      "\n",
      "\n",
      "PPO_SpaceInvaders: 1 EPISODE: 3\n",
      "Episode Score: 1430.00\n",
      "Episode Length: 1510\n",
      "\n",
      "\n",
      "PPO_SpaceInvaders: 2 EPISODE: 3\n",
      "Episode Score: 1215.00\n",
      "Episode Length: 1353\n",
      "\n",
      "\n",
      "PPO_SpaceInvaders: 2 EPISODE: 4\n",
      "Episode Score: 600.00\n",
      "Episode Length: 1002\n",
      "\n",
      "\n",
      "PPO_SpaceInvaders: 1 EPISODE: 4\n",
      "Episode Score: 1100.00\n",
      "Episode Length: 1459\n",
      "\n",
      "\n",
      "PPO_SpaceInvaders: 1 EPISODE: 5\n",
      "Episode Score: 455.00\n",
      "Episode Length: 710\n",
      "\n",
      "\n",
      "PPO_SpaceInvaders: 2 EPISODE: 5\n",
      "Episode Score: 1345.00\n",
      "Episode Length: 1642\n",
      "\n",
      "\n",
      "PPO_SpaceInvaders: 1 EPISODE: 6\n",
      "Episode Score: 1320.00\n",
      "Episode Length: 1303\n",
      "\n",
      "\n",
      "PPO_SpaceInvaders: 2 EPISODE: 6\n",
      "Episode Score: 1140.00\n",
      "Episode Length: 1079\n",
      "\n",
      "\n",
      "PPO_SpaceInvaders: 1 EPISODE: 7\n",
      "Episode Score: 1150.00\n",
      "Episode Length: 1428\n",
      "\n",
      "\n",
      "PPO_SpaceInvaders: 2 EPISODE: 7\n",
      "Episode Score: 1145.00\n",
      "Episode Length: 1566\n",
      "\n",
      "\n",
      "PPO_SpaceInvaders: 1 EPISODE: 8\n",
      "Episode Score: 1045.00\n",
      "Episode Length: 1523\n",
      "\n",
      "\n",
      "PPO_SpaceInvaders: 2 EPISODE: 8\n",
      "Episode Score: 1005.00\n",
      "Episode Length: 1433\n",
      "\n",
      "\n",
      "PPO_SpaceInvaders: 1 EPISODE: 9\n",
      "Episode Score: 730.00\n",
      "Episode Length: 1000\n",
      "\n",
      "\n",
      "PPO_SpaceInvaders: 1 EPISODE: 10\n",
      "Episode Score: 940.00\n",
      "Episode Length: 1062\n",
      "\n",
      "\n",
      "PPO_SpaceInvaders: 2 EPISODE: 9\n",
      "Episode Score: 1095.00\n",
      "Episode Length: 1486\n",
      "\n",
      "\n",
      "PPO_SpaceInvaders: 2 EPISODE: 10\n",
      "Episode Score: 520.00\n",
      "Episode Length: 792\n",
      "\n",
      "\n",
      "PPO_SpaceInvaders: 1 EPISODE: 11\n",
      "Episode Score: 1035.00\n",
      "Episode Length: 1275\n",
      "\n",
      "\n",
      "PPO_SpaceInvaders: 2 EPISODE: 11\n",
      "Episode Score: 605.00\n",
      "Episode Length: 895\n",
      "\n",
      "\n",
      "PPO_SpaceInvaders: 1 EPISODE: 12\n",
      "Episode Score: 605.00\n",
      "Episode Length: 1112\n",
      "\n",
      "\n",
      "PPO_SpaceInvaders: 2 EPISODE: 12\n",
      "Episode Score: 1025.00\n",
      "Episode Length: 1415\n",
      "\n",
      "\n",
      "PPO_SpaceInvaders: 1 EPISODE: 13\n",
      "Episode Score: 1120.00\n",
      "Episode Length: 1550\n",
      "\n",
      "\n",
      "PPO_SpaceInvaders: 2 EPISODE: 13\n",
      "Episode Score: 800.00\n",
      "Episode Length: 1030\n",
      "\n",
      "\n",
      "PPO_SpaceInvaders: 2 EPISODE: 14\n",
      "Episode Score: 1180.00\n",
      "Episode Length: 1599\n",
      "\n",
      "\n",
      "PPO_SpaceInvaders: 1 EPISODE: 14\n",
      "Episode Score: 1590.00\n",
      "Episode Length: 1913\n",
      "\n",
      "\n",
      "PPO_SpaceInvaders: 2 EPISODE: 15\n",
      "Episode Score: 600.00\n",
      "Episode Length: 1020\n",
      "\n",
      "\n",
      "PPO_SpaceInvaders: 2 EPISODE: 16\n",
      "Episode Score: 580.00\n",
      "Episode Length: 1010\n",
      "\n",
      "\n",
      "PPO_SpaceInvaders: 1 EPISODE: 15\n",
      "Episode Score: 1155.00\n",
      "Episode Length: 1918\n",
      "\n",
      "\n",
      "PPO_SpaceInvaders: 2 EPISODE: 17\n",
      "Episode Score: 800.00\n",
      "Episode Length: 774\n",
      "\n",
      "\n",
      "PPO_SpaceInvaders: 1 EPISODE: 16\n",
      "Episode Score: 1070.00\n",
      "Episode Length: 1311\n",
      "\n",
      "\n",
      "PPO_SpaceInvaders: 2 EPISODE: 18\n",
      "Episode Score: 965.00\n",
      "Episode Length: 1140\n",
      "\n",
      "\n",
      "PPO_SpaceInvaders: 1 EPISODE: 17\n",
      "Episode Score: 1265.00\n",
      "Episode Length: 1382\n",
      "\n",
      "\n",
      "PPO_SpaceInvaders: 2 EPISODE: 19\n",
      "Episode Score: 1375.00\n",
      "Episode Length: 1495\n",
      "\n",
      "\n",
      "PPO_SpaceInvaders: 1 EPISODE: 18\n",
      "Episode Score: 725.00\n",
      "Episode Length: 681\n",
      "\n",
      "\n",
      "PPO_SpaceInvaders: 1 EPISODE: 19\n",
      "Episode Score: 710.00\n",
      "Episode Length: 880\n",
      "\n",
      "\n",
      "PPO_SpaceInvaders: 2 EPISODE: 20\n",
      "Episode Score: 1095.00\n",
      "Episode Length: 1465\n",
      "\n",
      "\n",
      "PPO_SpaceInvaders: 1 EPISODE: 20\n",
      "Episode Score: 1110.00\n",
      "Episode Length: 1250\n",
      "\n",
      "\n",
      "PPO_SpaceInvaders: 2 EPISODE: 21\n",
      "Episode Score: 1145.00\n",
      "Episode Length: 1338\n",
      "\n",
      "\n",
      "PPO_SpaceInvaders: 1 EPISODE: 21\n",
      "Episode Score: 775.00\n",
      "Episode Length: 1012\n",
      "\n",
      "\n",
      "PPO_SpaceInvaders: 2 EPISODE: 22\n",
      "Episode Score: 985.00\n",
      "Episode Length: 1288\n",
      "\n",
      "\n",
      "PPO_SpaceInvaders: 1 EPISODE: 22\n",
      "Episode Score: 1290.00\n",
      "Episode Length: 1653\n",
      "\n",
      "\n",
      "PPO_SpaceInvaders: 2 EPISODE: 23\n",
      "Episode Score: 1145.00\n",
      "Episode Length: 1325\n",
      "\n",
      "\n",
      "PPO_SpaceInvaders: 1 EPISODE: 23\n",
      "Episode Score: 575.00\n",
      "Episode Length: 700\n",
      "\n",
      "\n",
      "PPO_SpaceInvaders: 2 EPISODE: 24\n",
      "Episode Score: 850.00\n",
      "Episode Length: 887\n",
      "\n",
      "\n",
      "PPO_SpaceInvaders: 1 EPISODE: 24\n",
      "Episode Score: 915.00\n",
      "Episode Length: 1128\n",
      "\n",
      "\n",
      "PPO_SpaceInvaders: 2 EPISODE: 25\n",
      "Episode Score: 1140.00\n",
      "Episode Length: 1232\n",
      "\n",
      "\n",
      "PPO_SpaceInvaders: 1 EPISODE: 25\n",
      "Episode Score: 1200.00\n",
      "Episode Length: 1350\n",
      "\n",
      "\n",
      "PPO_SpaceInvaders: 2 EPISODE: 26\n",
      "Episode Score: 1345.00\n",
      "Episode Length: 1532\n",
      "\n",
      "\n",
      "PPO_SpaceInvaders: 1 EPISODE: 26\n",
      "Episode Score: 1090.00\n",
      "Episode Length: 1503\n",
      "\n",
      "\n",
      "PPO_SpaceInvaders: 2 EPISODE: 27\n",
      "Episode Score: 1480.00\n",
      "Episode Length: 1275\n",
      "\n",
      "\n",
      "PPO_SpaceInvaders: 1 EPISODE: 27\n",
      "Episode Score: 1035.00\n",
      "Episode Length: 1320\n",
      "\n",
      "\n",
      "PPO_SpaceInvaders: 2 EPISODE: 28\n",
      "Episode Score: 600.00\n",
      "Episode Length: 985\n",
      "\n",
      "\n",
      "PPO_SpaceInvaders: 1 EPISODE: 28\n",
      "Episode Score: 1210.00\n",
      "Episode Length: 1342\n",
      "\n",
      "\n",
      "PPO_SpaceInvaders: 2 EPISODE: 29\n",
      "Episode Score: 1015.00\n",
      "Episode Length: 1335\n",
      "\n",
      "\n",
      "PPO_SpaceInvaders: 1 EPISODE: 29\n",
      "Episode Score: 700.00\n",
      "Episode Length: 1080\n",
      "\n",
      "\n",
      "PPO_SpaceInvaders: 2 EPISODE: 30\n",
      "Episode Score: 1005.00\n",
      "Episode Length: 1426\n",
      "\n",
      "\n",
      "PPO_SpaceInvaders: 1 EPISODE: 30\n",
      "Episode Score: 785.00\n",
      "Episode Length: 1085\n",
      "\n",
      "\n",
      "PPO_SpaceInvaders: 2 EPISODE: 31\n",
      "Episode Score: 995.00\n",
      "Episode Length: 1217\n",
      "\n",
      "\n",
      "PPO_SpaceInvaders: 1 EPISODE: 31\n",
      "Episode Score: 825.00\n",
      "Episode Length: 1060\n",
      "\n",
      "\n",
      "PPO_SpaceInvaders: 1 EPISODE: 32\n",
      "Episode Score: 985.00\n",
      "Episode Length: 1288\n",
      "\n",
      "\n",
      "PPO_SpaceInvaders: 2 EPISODE: 32\n",
      "Episode Score: 1215.00\n",
      "Episode Length: 1641\n",
      "\n",
      "\n",
      "PPO_SpaceInvaders: 2 EPISODE: 33\n",
      "Episode Score: 810.00\n",
      "Episode Length: 891\n",
      "\n",
      "\n",
      "PPO_SpaceInvaders: 1 EPISODE: 33\n",
      "Episode Score: 845.00\n",
      "Episode Length: 1224\n"
     ]
    },
    {
     "data": {
      "text/html": [
       "Tracking run with wandb version 0.16.3"
      ],
      "text/plain": [
       "<IPython.core.display.HTML object>"
      ]
     },
     "metadata": {},
     "output_type": "display_data"
    },
    {
     "data": {
      "text/html": [
       "Run data is saved locally in <code>/home/sequenzia/dev/repos/atari-rl/logs/wandb/run-20240213_014944-b6qpc6l0</code>"
      ],
      "text/plain": [
       "<IPython.core.display.HTML object>"
      ]
     },
     "metadata": {},
     "output_type": "display_data"
    },
    {
     "data": {
      "text/html": [
       "Syncing run <strong><a href='https://wandb.ai/appliedtheta/solen-rl-project-eval-2/runs/b6qpc6l0' target=\"_blank\">PPO_SpaceInvaders_1_2024-02-13-01-48-38</a></strong> to <a href='https://wandb.ai/appliedtheta/solen-rl-project-eval-2' target=\"_blank\">Weights & Biases</a> (<a href='https://wandb.me/run' target=\"_blank\">docs</a>)<br/>"
      ],
      "text/plain": [
       "<IPython.core.display.HTML object>"
      ]
     },
     "metadata": {},
     "output_type": "display_data"
    },
    {
     "data": {
      "text/html": [
       " View project at <a href='https://wandb.ai/appliedtheta/solen-rl-project-eval-2' target=\"_blank\">https://wandb.ai/appliedtheta/solen-rl-project-eval-2</a>"
      ],
      "text/plain": [
       "<IPython.core.display.HTML object>"
      ]
     },
     "metadata": {},
     "output_type": "display_data"
    },
    {
     "data": {
      "text/html": [
       " View run at <a href='https://wandb.ai/appliedtheta/solen-rl-project-eval-2/runs/b6qpc6l0' target=\"_blank\">https://wandb.ai/appliedtheta/solen-rl-project-eval-2/runs/b6qpc6l0</a>"
      ],
      "text/plain": [
       "<IPython.core.display.HTML object>"
      ]
     },
     "metadata": {},
     "output_type": "display_data"
    },
    {
     "data": {
      "application/vnd.jupyter.widget-view+json": {
       "model_id": "f2e319d3955a426b90a97ca73f9072f8",
       "version_major": 2,
       "version_minor": 0
      },
      "text/plain": [
       "VBox(children=(Label(value='0.018 MB of 0.018 MB uploaded\\r'), FloatProgress(value=1.0, max=1.0)))"
      ]
     },
     "metadata": {},
     "output_type": "display_data"
    },
    {
     "data": {
      "text/html": [
       "<style>\n",
       "    table.wandb td:nth-child(1) { padding: 0 10px; text-align: left ; width: auto;} td:nth-child(2) {text-align: left ; width: 100%}\n",
       "    .wandb-row { display: flex; flex-direction: row; flex-wrap: wrap; justify-content: flex-start; width: 100% }\n",
       "    .wandb-col { display: flex; flex-direction: column; flex-basis: 100%; flex: 1; padding: 10px; }\n",
       "    </style>\n",
       "<div class=\"wandb-row\"><div class=\"wandb-col\"><h3>Run history:</h3><br/><table class=\"wandb\"><tr><td>PPO_SpaceInvaders/episode_length</td><td>▃▇▄▆▃▁▅▄▇▆▃▇▅▃▆▄█▃▃▂▄▁▇▇▆▃█▁▂▅▇▇▆▆▆▆▅▄█▃</td></tr><tr><td>PPO_SpaceInvaders/episode_lives</td><td>▁▁▁▁▁▁▁▁▁▁▁▁▁▁▁▁▁▁▁▁▁▁▁▁▁▁▁▁▁▁▁▁▁▁▁▁▁▁▁▁</td></tr><tr><td>PPO_SpaceInvaders/episode_score</td><td>▄▆▆▇▂▁█▆▆▅▃▆▅▂▅▄▇▂▂▄▅▃█▆▆▃▇▂▄▆█▆▅▇▅▅▅▄▇▄</td></tr><tr><td>PPO_SpaceInvaders/episode_time</td><td>▁▁▁▂▂▂▂▂▂▃▃▃▃▃▄▄▄▄▄▄▅▅▅▅▅▅▆▆▆▆▆▇▇▇▇▇████</td></tr><tr><td>PPO_SpaceInvaders/run_frame_number</td><td>▁▁▁▂▂▂▂▂▂▃▃▃▃▃▃▄▄▄▄▄▅▅▅▅▅▅▆▆▆▆▆▇▇▇▇▇████</td></tr></table><br/></div><div class=\"wandb-col\"><h3>Run summary:</h3><br/><table class=\"wandb\"><tr><td>PPO_SpaceInvaders/episode_length</td><td>891</td></tr><tr><td>PPO_SpaceInvaders/episode_lives</td><td>0</td></tr><tr><td>PPO_SpaceInvaders/episode_score</td><td>810.0</td></tr><tr><td>PPO_SpaceInvaders/episode_time</td><td>61.50854</td></tr><tr><td>PPO_SpaceInvaders/run_frame_number</td><td>165070</td></tr></table><br/></div></div>"
      ],
      "text/plain": [
       "<IPython.core.display.HTML object>"
      ]
     },
     "metadata": {},
     "output_type": "display_data"
    },
    {
     "data": {
      "text/html": [
       " View run <strong style=\"color:#cdcd00\">PPO_SpaceInvaders_1_2024-02-13-01-48-38</strong> at: <a href='https://wandb.ai/appliedtheta/solen-rl-project-eval-2/runs/b6qpc6l0' target=\"_blank\">https://wandb.ai/appliedtheta/solen-rl-project-eval-2/runs/b6qpc6l0</a><br/>Synced 5 W&B file(s), 0 media file(s), 0 artifact file(s) and 0 other file(s)"
      ],
      "text/plain": [
       "<IPython.core.display.HTML object>"
      ]
     },
     "metadata": {},
     "output_type": "display_data"
    },
    {
     "data": {
      "text/html": [
       "Find logs at: <code>/home/sequenzia/dev/repos/atari-rl/logs/wandb/run-20240213_014944-b6qpc6l0/logs</code>"
      ],
      "text/plain": [
       "<IPython.core.display.HTML object>"
      ]
     },
     "metadata": {},
     "output_type": "display_data"
    },
    {
     "name": "stdout",
     "output_type": "stream",
     "text": [
      "\n",
      "Loading /home/sequenzia/dev/repos/atari-rl/agents/a2c/ALE-Breakout-v5_1/best_model.zip\n",
      "\n"
     ]
    },
    {
     "name": "stderr",
     "output_type": "stream",
     "text": [
      "A.L.E: Arcade Learning Environment (version 0.8.1+53f58b7)\n",
      "[Powered by Stella]\n",
      "A.L.E: Arcade Learning Environment (version 0.8.1+53f58b7)\n",
      "[Powered by Stella]\n"
     ]
    },
    {
     "name": "stdout",
     "output_type": "stream",
     "text": [
      "Stacking 4 frames\n",
      "\n",
      "\n",
      "A2C_Breakout: 2 EPISODE: 1\n",
      "Episode Score: 43.00\n",
      "Episode Length: 1228\n",
      "\n",
      "\n",
      "A2C_Breakout: 1 EPISODE: 1\n",
      "Episode Score: 40.00\n",
      "Episode Length: 1300\n",
      "\n",
      "\n",
      "A2C_Breakout: 1 EPISODE: 2\n",
      "Episode Score: 41.00\n",
      "Episode Length: 1136\n",
      "\n",
      "\n",
      "A2C_Breakout: 2 EPISODE: 2\n",
      "Episode Score: 59.00\n",
      "Episode Length: 1317\n",
      "\n",
      "\n",
      "A2C_Breakout: 1 EPISODE: 3\n",
      "Episode Score: 29.00\n",
      "Episode Length: 1014\n",
      "\n",
      "\n",
      "A2C_Breakout: 2 EPISODE: 3\n",
      "Episode Score: 44.00\n",
      "Episode Length: 1258\n",
      "\n",
      "\n",
      "A2C_Breakout: 1 EPISODE: 4\n",
      "Episode Score: 31.00\n",
      "Episode Length: 988\n",
      "\n",
      "\n",
      "A2C_Breakout: 2 EPISODE: 4\n",
      "Episode Score: 30.00\n",
      "Episode Length: 1088\n",
      "\n",
      "\n",
      "A2C_Breakout: 1 EPISODE: 5\n",
      "Episode Score: 20.00\n",
      "Episode Length: 790\n",
      "\n",
      "\n",
      "A2C_Breakout: 2 EPISODE: 5\n",
      "Episode Score: 62.00\n",
      "Episode Length: 1064\n",
      "\n",
      "\n",
      "A2C_Breakout: 1 EPISODE: 6\n",
      "Episode Score: 30.00\n",
      "Episode Length: 1008\n",
      "\n",
      "\n",
      "A2C_Breakout: 2 EPISODE: 6\n",
      "Episode Score: 33.00\n",
      "Episode Length: 1061\n",
      "\n",
      "\n",
      "A2C_Breakout: 1 EPISODE: 7\n",
      "Episode Score: 59.00\n",
      "Episode Length: 1372\n",
      "\n",
      "\n",
      "A2C_Breakout: 2 EPISODE: 7\n",
      "Episode Score: 43.00\n",
      "Episode Length: 1136\n",
      "\n",
      "\n",
      "A2C_Breakout: 1 EPISODE: 8\n",
      "Episode Score: 42.00\n",
      "Episode Length: 1239\n",
      "\n",
      "\n",
      "A2C_Breakout: 2 EPISODE: 8\n",
      "Episode Score: 51.00\n",
      "Episode Length: 1349\n",
      "\n",
      "\n",
      "A2C_Breakout: 1 EPISODE: 9\n",
      "Episode Score: 43.00\n",
      "Episode Length: 1296\n",
      "\n",
      "\n",
      "A2C_Breakout: 2 EPISODE: 9\n",
      "Episode Score: 15.00\n",
      "Episode Length: 750\n",
      "\n",
      "\n",
      "A2C_Breakout: 1 EPISODE: 10\n",
      "Episode Score: 41.00\n",
      "Episode Length: 1247\n",
      "\n",
      "\n",
      "A2C_Breakout: 2 EPISODE: 10\n",
      "Episode Score: 53.00\n",
      "Episode Length: 1328\n",
      "\n",
      "\n",
      "A2C_Breakout: 1 EPISODE: 11\n",
      "Episode Score: 39.00\n",
      "Episode Length: 871\n",
      "\n",
      "\n",
      "A2C_Breakout: 2 EPISODE: 11\n",
      "Episode Score: 42.00\n",
      "Episode Length: 1011\n",
      "\n",
      "\n",
      "A2C_Breakout: 2 EPISODE: 12\n",
      "Episode Score: 35.00\n",
      "Episode Length: 1040\n",
      "\n",
      "\n",
      "A2C_Breakout: 1 EPISODE: 12\n",
      "Episode Score: 80.00\n",
      "Episode Length: 1584\n",
      "\n",
      "\n",
      "A2C_Breakout: 2 EPISODE: 13\n",
      "Episode Score: 29.00\n",
      "Episode Length: 1100\n",
      "\n",
      "\n",
      "A2C_Breakout: 1 EPISODE: 13\n",
      "Episode Score: 69.00\n",
      "Episode Length: 1508\n",
      "\n",
      "\n",
      "A2C_Breakout: 2 EPISODE: 14\n",
      "Episode Score: 30.00\n",
      "Episode Length: 894\n",
      "\n",
      "\n",
      "A2C_Breakout: 2 EPISODE: 15\n",
      "Episode Score: 8.00\n",
      "Episode Length: 414\n",
      "\n",
      "\n",
      "A2C_Breakout: 1 EPISODE: 14\n",
      "Episode Score: 44.00\n",
      "Episode Length: 1253\n",
      "\n",
      "\n",
      "A2C_Breakout: 2 EPISODE: 16\n",
      "Episode Score: 38.00\n",
      "Episode Length: 1097\n",
      "\n",
      "\n",
      "A2C_Breakout: 2 EPISODE: 17\n",
      "Episode Score: 19.00\n",
      "Episode Length: 624\n",
      "\n",
      "\n",
      "A2C_Breakout: 1 EPISODE: 15\n",
      "Episode Score: 58.00\n",
      "Episode Length: 1452\n",
      "\n",
      "\n",
      "A2C_Breakout: 1 EPISODE: 16\n",
      "Episode Score: 38.00\n",
      "Episode Length: 979\n",
      "\n",
      "\n",
      "A2C_Breakout: 2 EPISODE: 18\n",
      "Episode Score: 73.00\n",
      "Episode Length: 1474\n",
      "\n",
      "\n",
      "A2C_Breakout: 1 EPISODE: 17\n",
      "Episode Score: 36.00\n",
      "Episode Length: 865\n",
      "\n",
      "\n",
      "A2C_Breakout: 2 EPISODE: 19\n",
      "Episode Score: 49.00\n",
      "Episode Length: 1392\n",
      "\n",
      "\n",
      "A2C_Breakout: 1 EPISODE: 18\n",
      "Episode Score: 55.00\n",
      "Episode Length: 1229\n",
      "\n",
      "\n",
      "A2C_Breakout: 2 EPISODE: 20\n",
      "Episode Score: 49.00\n",
      "Episode Length: 1206\n",
      "\n",
      "\n",
      "A2C_Breakout: 1 EPISODE: 19\n",
      "Episode Score: 85.00\n",
      "Episode Length: 1334\n",
      "\n",
      "\n",
      "A2C_Breakout: 1 EPISODE: 20\n",
      "Episode Score: 18.00\n",
      "Episode Length: 635\n",
      "\n",
      "\n",
      "A2C_Breakout: 2 EPISODE: 21\n",
      "Episode Score: 50.00\n",
      "Episode Length: 1209\n",
      "\n",
      "\n",
      "A2C_Breakout: 2 EPISODE: 22\n",
      "Episode Score: 36.00\n",
      "Episode Length: 1068\n",
      "\n",
      "\n",
      "A2C_Breakout: 1 EPISODE: 21\n",
      "Episode Score: 51.00\n",
      "Episode Length: 1120\n",
      "\n",
      "\n",
      "A2C_Breakout: 2 EPISODE: 23\n",
      "Episode Score: 37.00\n",
      "Episode Length: 1070\n",
      "\n",
      "\n",
      "A2C_Breakout: 1 EPISODE: 22\n",
      "Episode Score: 56.00\n",
      "Episode Length: 1372\n",
      "\n",
      "\n",
      "A2C_Breakout: 2 EPISODE: 24\n",
      "Episode Score: 30.00\n",
      "Episode Length: 859\n",
      "\n",
      "\n",
      "A2C_Breakout: 1 EPISODE: 23\n",
      "Episode Score: 33.00\n",
      "Episode Length: 1000\n",
      "\n",
      "\n",
      "A2C_Breakout: 2 EPISODE: 25\n",
      "Episode Score: 52.00\n",
      "Episode Length: 1329\n",
      "\n",
      "\n",
      "A2C_Breakout: 1 EPISODE: 24\n",
      "Episode Score: 53.00\n",
      "Episode Length: 1209\n",
      "\n",
      "\n",
      "A2C_Breakout: 2 EPISODE: 26\n",
      "Episode Score: 52.00\n",
      "Episode Length: 1194\n",
      "\n",
      "\n",
      "A2C_Breakout: 1 EPISODE: 25\n",
      "Episode Score: 64.00\n",
      "Episode Length: 1246\n",
      "\n",
      "\n",
      "A2C_Breakout: 2 EPISODE: 27\n",
      "Episode Score: 27.00\n",
      "Episode Length: 808\n",
      "\n",
      "\n",
      "A2C_Breakout: 1 EPISODE: 26\n",
      "Episode Score: 43.00\n",
      "Episode Length: 1070\n",
      "\n",
      "\n",
      "A2C_Breakout: 2 EPISODE: 28\n",
      "Episode Score: 26.00\n",
      "Episode Length: 1001\n",
      "\n",
      "\n",
      "A2C_Breakout: 1 EPISODE: 27\n",
      "Episode Score: 31.00\n",
      "Episode Length: 1046\n",
      "\n",
      "\n",
      "A2C_Breakout: 2 EPISODE: 29\n",
      "Episode Score: 29.00\n",
      "Episode Length: 986\n",
      "\n",
      "\n",
      "A2C_Breakout: 2 EPISODE: 30\n",
      "Episode Score: 22.00\n",
      "Episode Length: 803\n",
      "\n",
      "\n",
      "A2C_Breakout: 1 EPISODE: 28\n",
      "Episode Score: 40.00\n",
      "Episode Length: 1151\n",
      "\n",
      "\n",
      "A2C_Breakout: 1 EPISODE: 29\n",
      "Episode Score: 33.00\n",
      "Episode Length: 1028\n",
      "\n",
      "\n",
      "A2C_Breakout: 2 EPISODE: 31\n",
      "Episode Score: 62.00\n",
      "Episode Length: 1391\n",
      "\n",
      "\n",
      "A2C_Breakout: 1 EPISODE: 30\n",
      "Episode Score: 48.00\n",
      "Episode Length: 1158\n",
      "\n",
      "\n",
      "A2C_Breakout: 2 EPISODE: 32\n",
      "Episode Score: 38.00\n",
      "Episode Length: 1023\n",
      "\n",
      "\n",
      "A2C_Breakout: 2 EPISODE: 33\n",
      "Episode Score: 20.00\n",
      "Episode Length: 806\n",
      "\n",
      "\n",
      "A2C_Breakout: 1 EPISODE: 31\n",
      "Episode Score: 39.00\n",
      "Episode Length: 1073\n",
      "\n",
      "\n",
      "A2C_Breakout: 2 EPISODE: 34\n",
      "Episode Score: 49.00\n",
      "Episode Length: 1175\n",
      "\n",
      "\n",
      "A2C_Breakout: 1 EPISODE: 32\n",
      "Episode Score: 61.00\n",
      "Episode Length: 1522\n",
      "\n",
      "\n",
      "A2C_Breakout: 2 EPISODE: 35\n",
      "Episode Score: 38.00\n",
      "Episode Length: 1122\n",
      "\n",
      "\n",
      "A2C_Breakout: 1 EPISODE: 33\n",
      "Episode Score: 39.00\n",
      "Episode Length: 1087\n",
      "\n",
      "\n",
      "A2C_Breakout: 2 EPISODE: 36\n",
      "Episode Score: 30.00\n",
      "Episode Length: 1013\n",
      "\n",
      "\n",
      "A2C_Breakout: 2 EPISODE: 37\n",
      "Episode Score: 7.00\n",
      "Episode Length: 410\n",
      "\n",
      "\n",
      "A2C_Breakout: 1 EPISODE: 34\n",
      "Episode Score: 36.00\n",
      "Episode Length: 959\n",
      "\n",
      "\n",
      "A2C_Breakout: 2 EPISODE: 38\n",
      "Episode Score: 48.00\n",
      "Episode Length: 1227\n",
      "\n",
      "\n",
      "A2C_Breakout: 1 EPISODE: 35\n",
      "Episode Score: 52.00\n",
      "Episode Length: 1144\n",
      "\n",
      "\n",
      "A2C_Breakout: 2 EPISODE: 39\n",
      "Episode Score: 23.00\n",
      "Episode Length: 732\n",
      "\n",
      "\n",
      "A2C_Breakout: 1 EPISODE: 36\n",
      "Episode Score: 85.00\n",
      "Episode Length: 1512\n",
      "\n",
      "\n",
      "A2C_Breakout: 2 EPISODE: 40\n",
      "Episode Score: 47.00\n",
      "Episode Length: 1113\n"
     ]
    },
    {
     "data": {
      "text/html": [
       "Tracking run with wandb version 0.16.3"
      ],
      "text/plain": [
       "<IPython.core.display.HTML object>"
      ]
     },
     "metadata": {},
     "output_type": "display_data"
    },
    {
     "data": {
      "text/html": [
       "Run data is saved locally in <code>/home/sequenzia/dev/repos/atari-rl/logs/wandb/run-20240213_015111-ftawaxzk</code>"
      ],
      "text/plain": [
       "<IPython.core.display.HTML object>"
      ]
     },
     "metadata": {},
     "output_type": "display_data"
    },
    {
     "data": {
      "text/html": [
       "Syncing run <strong><a href='https://wandb.ai/appliedtheta/solen-rl-project-eval-2/runs/ftawaxzk' target=\"_blank\">A2C_Breakout_1_2024-02-13-01-49-58</a></strong> to <a href='https://wandb.ai/appliedtheta/solen-rl-project-eval-2' target=\"_blank\">Weights & Biases</a> (<a href='https://wandb.me/run' target=\"_blank\">docs</a>)<br/>"
      ],
      "text/plain": [
       "<IPython.core.display.HTML object>"
      ]
     },
     "metadata": {},
     "output_type": "display_data"
    },
    {
     "data": {
      "text/html": [
       " View project at <a href='https://wandb.ai/appliedtheta/solen-rl-project-eval-2' target=\"_blank\">https://wandb.ai/appliedtheta/solen-rl-project-eval-2</a>"
      ],
      "text/plain": [
       "<IPython.core.display.HTML object>"
      ]
     },
     "metadata": {},
     "output_type": "display_data"
    },
    {
     "data": {
      "text/html": [
       " View run at <a href='https://wandb.ai/appliedtheta/solen-rl-project-eval-2/runs/ftawaxzk' target=\"_blank\">https://wandb.ai/appliedtheta/solen-rl-project-eval-2/runs/ftawaxzk</a>"
      ],
      "text/plain": [
       "<IPython.core.display.HTML object>"
      ]
     },
     "metadata": {},
     "output_type": "display_data"
    },
    {
     "data": {
      "application/vnd.jupyter.widget-view+json": {
       "model_id": "cfd1a23cb8f34de3b789621667f8806c",
       "version_major": 2,
       "version_minor": 0
      },
      "text/plain": [
       "VBox(children=(Label(value='0.002 MB of 0.002 MB uploaded\\r'), FloatProgress(value=1.0, max=1.0)))"
      ]
     },
     "metadata": {},
     "output_type": "display_data"
    },
    {
     "data": {
      "text/html": [
       "<style>\n",
       "    table.wandb td:nth-child(1) { padding: 0 10px; text-align: left ; width: auto;} td:nth-child(2) {text-align: left ; width: 100%}\n",
       "    .wandb-row { display: flex; flex-direction: row; flex-wrap: wrap; justify-content: flex-start; width: 100% }\n",
       "    .wandb-col { display: flex; flex-direction: column; flex-basis: 100%; flex: 1; padding: 10px; }\n",
       "    </style>\n",
       "<div class=\"wandb-row\"><div class=\"wandb-col\"><h3>Run history:</h3><br/><table class=\"wandb\"><tr><td>A2C_Breakout/episode_length</td><td>▆▆▆▆▅▅▅▅▇▃▆▅██▄▆▂▄▄▆▇▂▅▇▅▆▆▃▅▄▅▇▅▅█▅▁▅▃▅</td></tr><tr><td>A2C_Breakout/episode_lives</td><td>▁▁▁▁▁▁▁▁▁▁▁▁▁▁▁▁▁▁▁▁▁▁▁▁▁▁▁▁▁▁▁▁▁▁▁▁▁▁▁▁</td></tr><tr><td>A2C_Breakout/episode_score</td><td>▄▄▆▄▃▆▃▄▅▂▅▄█▇▃▄▂▄▄▅█▂▅▅▃▅▆▃▃▃▄▆▄▄▆▄▁▅▂▅</td></tr><tr><td>A2C_Breakout/episode_time</td><td>▁▁▁▁▂▂▂▂▂▃▃▃▃▃▃▄▄▄▄▄▅▅▅▅▅▆▆▆▆▆▆▇▇▇▇▇▇███</td></tr><tr><td>A2C_Breakout/run_frame_number</td><td>▁▁▁▁▂▂▂▂▂▃▃▃▃▃▃▄▄▄▄▄▅▅▅▅▅▆▆▆▆▆▆▇▇▇▇▇▇███</td></tr></table><br/></div><div class=\"wandb-col\"><h3>Run summary:</h3><br/><table class=\"wandb\"><tr><td>A2C_Breakout/episode_length</td><td>1113</td></tr><tr><td>A2C_Breakout/episode_lives</td><td>0</td></tr><tr><td>A2C_Breakout/episode_score</td><td>47.0</td></tr><tr><td>A2C_Breakout/episode_time</td><td>67.89857</td></tr><tr><td>A2C_Breakout/run_frame_number</td><td>168619</td></tr></table><br/></div></div>"
      ],
      "text/plain": [
       "<IPython.core.display.HTML object>"
      ]
     },
     "metadata": {},
     "output_type": "display_data"
    },
    {
     "data": {
      "text/html": [
       " View run <strong style=\"color:#cdcd00\">A2C_Breakout_1_2024-02-13-01-49-58</strong> at: <a href='https://wandb.ai/appliedtheta/solen-rl-project-eval-2/runs/ftawaxzk' target=\"_blank\">https://wandb.ai/appliedtheta/solen-rl-project-eval-2/runs/ftawaxzk</a><br/>Synced 5 W&B file(s), 0 media file(s), 0 artifact file(s) and 0 other file(s)"
      ],
      "text/plain": [
       "<IPython.core.display.HTML object>"
      ]
     },
     "metadata": {},
     "output_type": "display_data"
    },
    {
     "data": {
      "text/html": [
       "Find logs at: <code>/home/sequenzia/dev/repos/atari-rl/logs/wandb/run-20240213_015111-ftawaxzk/logs</code>"
      ],
      "text/plain": [
       "<IPython.core.display.HTML object>"
      ]
     },
     "metadata": {},
     "output_type": "display_data"
    },
    {
     "name": "stdout",
     "output_type": "stream",
     "text": [
      "\n",
      "Loading /home/sequenzia/dev/repos/atari-rl/agents/a2c/ALE-Pong-v5_1/best_model.zip\n",
      "\n"
     ]
    },
    {
     "name": "stderr",
     "output_type": "stream",
     "text": [
      "A.L.E: Arcade Learning Environment (version 0.8.1+53f58b7)\n",
      "[Powered by Stella]\n",
      "A.L.E: Arcade Learning Environment (version 0.8.1+53f58b7)\n",
      "[Powered by Stella]\n"
     ]
    },
    {
     "name": "stdout",
     "output_type": "stream",
     "text": [
      "Stacking 4 frames\n",
      "\n",
      "\n",
      "A2C_Pong: 2 EPISODE: 1\n",
      "Episode Score: -8.00\n",
      "Episode Length: 5074\n",
      "\n",
      "\n",
      "A2C_Pong: 1 EPISODE: 1\n",
      "Episode Score: -3.00\n",
      "Episode Length: 6027\n",
      "\n",
      "\n",
      "A2C_Pong: 2 EPISODE: 2\n",
      "Episode Score: -1.00\n",
      "Episode Length: 6133\n",
      "\n",
      "\n",
      "A2C_Pong: 1 EPISODE: 2\n",
      "Episode Score: 3.00\n",
      "Episode Length: 6137\n",
      "\n",
      "\n",
      "A2C_Pong: 1 EPISODE: 3\n",
      "Episode Score: -13.00\n",
      "Episode Length: 3475\n",
      "\n",
      "\n",
      "A2C_Pong: 2 EPISODE: 3\n",
      "Episode Score: 2.00\n",
      "Episode Length: 5917\n",
      "\n",
      "\n",
      "A2C_Pong: 1 EPISODE: 4\n",
      "Episode Score: -7.00\n",
      "Episode Length: 5572\n",
      "\n",
      "\n",
      "A2C_Pong: 2 EPISODE: 4\n",
      "Episode Score: 8.00\n",
      "Episode Length: 5775\n",
      "\n",
      "\n",
      "A2C_Pong: 2 EPISODE: 5\n",
      "Episode Score: -15.00\n",
      "Episode Length: 3342\n",
      "\n",
      "\n",
      "A2C_Pong: 1 EPISODE: 5\n",
      "Episode Score: -4.00\n",
      "Episode Length: 6152\n",
      "\n",
      "\n",
      "A2C_Pong: 1 EPISODE: 6\n",
      "Episode Score: -9.00\n",
      "Episode Length: 4754\n",
      "\n",
      "\n",
      "A2C_Pong: 2 EPISODE: 6\n",
      "Episode Score: 2.00\n",
      "Episode Length: 6590\n",
      "\n",
      "\n",
      "A2C_Pong: 1 EPISODE: 7\n",
      "Episode Score: -4.00\n",
      "Episode Length: 5629\n",
      "\n",
      "\n",
      "A2C_Pong: 2 EPISODE: 7\n",
      "Episode Score: 4.00\n",
      "Episode Length: 6325\n"
     ]
    },
    {
     "data": {
      "text/html": [
       "Tracking run with wandb version 0.16.3"
      ],
      "text/plain": [
       "<IPython.core.display.HTML object>"
      ]
     },
     "metadata": {},
     "output_type": "display_data"
    },
    {
     "data": {
      "text/html": [
       "Run data is saved locally in <code>/home/sequenzia/dev/repos/atari-rl/logs/wandb/run-20240213_015231-g5q2n3k1</code>"
      ],
      "text/plain": [
       "<IPython.core.display.HTML object>"
      ]
     },
     "metadata": {},
     "output_type": "display_data"
    },
    {
     "data": {
      "text/html": [
       "Syncing run <strong><a href='https://wandb.ai/appliedtheta/solen-rl-project-eval-2/runs/g5q2n3k1' target=\"_blank\">A2C_Pong_1_2024-02-13-01-51-25</a></strong> to <a href='https://wandb.ai/appliedtheta/solen-rl-project-eval-2' target=\"_blank\">Weights & Biases</a> (<a href='https://wandb.me/run' target=\"_blank\">docs</a>)<br/>"
      ],
      "text/plain": [
       "<IPython.core.display.HTML object>"
      ]
     },
     "metadata": {},
     "output_type": "display_data"
    },
    {
     "data": {
      "text/html": [
       " View project at <a href='https://wandb.ai/appliedtheta/solen-rl-project-eval-2' target=\"_blank\">https://wandb.ai/appliedtheta/solen-rl-project-eval-2</a>"
      ],
      "text/plain": [
       "<IPython.core.display.HTML object>"
      ]
     },
     "metadata": {},
     "output_type": "display_data"
    },
    {
     "data": {
      "text/html": [
       " View run at <a href='https://wandb.ai/appliedtheta/solen-rl-project-eval-2/runs/g5q2n3k1' target=\"_blank\">https://wandb.ai/appliedtheta/solen-rl-project-eval-2/runs/g5q2n3k1</a>"
      ],
      "text/plain": [
       "<IPython.core.display.HTML object>"
      ]
     },
     "metadata": {},
     "output_type": "display_data"
    },
    {
     "data": {
      "application/vnd.jupyter.widget-view+json": {
       "model_id": "9115e38ba7f44a29bb48cde6524c0efc",
       "version_major": 2,
       "version_minor": 0
      },
      "text/plain": [
       "VBox(children=(Label(value='0.018 MB of 0.018 MB uploaded\\r'), FloatProgress(value=1.0, max=1.0)))"
      ]
     },
     "metadata": {},
     "output_type": "display_data"
    },
    {
     "data": {
      "text/html": [
       "<style>\n",
       "    table.wandb td:nth-child(1) { padding: 0 10px; text-align: left ; width: auto;} td:nth-child(2) {text-align: left ; width: 100%}\n",
       "    .wandb-row { display: flex; flex-direction: row; flex-wrap: wrap; justify-content: flex-start; width: 100% }\n",
       "    .wandb-col { display: flex; flex-direction: column; flex-basis: 100%; flex: 1; padding: 10px; }\n",
       "    </style>\n",
       "<div class=\"wandb-row\"><div class=\"wandb-col\"><h3>Run history:</h3><br/><table class=\"wandb\"><tr><td>A2C_Pong/episode_length</td><td>▅▇▇▇▁▇▆▆▁▇▄█▆▇</td></tr><tr><td>A2C_Pong/episode_lives</td><td>▁▁▁▁▁▁▁▁▁▁▁▁▁▁</td></tr><tr><td>A2C_Pong/episode_score</td><td>▃▅▅▆▂▆▃█▁▄▃▆▄▇</td></tr><tr><td>A2C_Pong/episode_time</td><td>▁▁▂▂▃▃▄▅▅▆▇▇██</td></tr><tr><td>A2C_Pong/run_frame_number</td><td>▁▁▂▂▃▃▄▅▅▆▇▇██</td></tr></table><br/></div><div class=\"wandb-col\"><h3>Run summary:</h3><br/><table class=\"wandb\"><tr><td>A2C_Pong/episode_length</td><td>6325</td></tr><tr><td>A2C_Pong/episode_lives</td><td>0</td></tr><tr><td>A2C_Pong/episode_score</td><td>4.0</td></tr><tr><td>A2C_Pong/episode_time</td><td>60.37914</td></tr><tr><td>A2C_Pong/run_frame_number</td><td>156612</td></tr></table><br/></div></div>"
      ],
      "text/plain": [
       "<IPython.core.display.HTML object>"
      ]
     },
     "metadata": {},
     "output_type": "display_data"
    },
    {
     "data": {
      "text/html": [
       " View run <strong style=\"color:#cdcd00\">A2C_Pong_1_2024-02-13-01-51-25</strong> at: <a href='https://wandb.ai/appliedtheta/solen-rl-project-eval-2/runs/g5q2n3k1' target=\"_blank\">https://wandb.ai/appliedtheta/solen-rl-project-eval-2/runs/g5q2n3k1</a><br/>Synced 5 W&B file(s), 0 media file(s), 0 artifact file(s) and 0 other file(s)"
      ],
      "text/plain": [
       "<IPython.core.display.HTML object>"
      ]
     },
     "metadata": {},
     "output_type": "display_data"
    },
    {
     "data": {
      "text/html": [
       "Find logs at: <code>/home/sequenzia/dev/repos/atari-rl/logs/wandb/run-20240213_015231-g5q2n3k1/logs</code>"
      ],
      "text/plain": [
       "<IPython.core.display.HTML object>"
      ]
     },
     "metadata": {},
     "output_type": "display_data"
    },
    {
     "name": "stdout",
     "output_type": "stream",
     "text": [
      "\n",
      "Loading /home/sequenzia/dev/repos/atari-rl/agents/a2c/ALE-SpaceInvaders-v5_1/best_model.zip\n",
      "\n"
     ]
    },
    {
     "name": "stderr",
     "output_type": "stream",
     "text": [
      "A.L.E: Arcade Learning Environment (version 0.8.1+53f58b7)\n",
      "[Powered by Stella]\n",
      "A.L.E: Arcade Learning Environment (version 0.8.1+53f58b7)\n",
      "[Powered by Stella]\n"
     ]
    },
    {
     "name": "stdout",
     "output_type": "stream",
     "text": [
      "Stacking 4 frames\n",
      "\n",
      "\n",
      "A2C_SpaceInvaders: 1 EPISODE: 1\n",
      "Episode Score: 1295.00\n",
      "Episode Length: 1293\n",
      "\n",
      "\n",
      "A2C_SpaceInvaders: 2 EPISODE: 1\n",
      "Episode Score: 1715.00\n",
      "Episode Length: 1917\n",
      "\n",
      "\n",
      "A2C_SpaceInvaders: 1 EPISODE: 2\n",
      "Episode Score: 895.00\n",
      "Episode Length: 1081\n",
      "\n",
      "\n",
      "A2C_SpaceInvaders: 2 EPISODE: 2\n",
      "Episode Score: 1385.00\n",
      "Episode Length: 1449\n",
      "\n",
      "\n",
      "A2C_SpaceInvaders: 1 EPISODE: 3\n",
      "Episode Score: 1450.00\n",
      "Episode Length: 1744\n",
      "\n",
      "\n",
      "A2C_SpaceInvaders: 2 EPISODE: 3\n",
      "Episode Score: 1235.00\n",
      "Episode Length: 1405\n",
      "\n",
      "\n",
      "A2C_SpaceInvaders: 1 EPISODE: 4\n",
      "Episode Score: 680.00\n",
      "Episode Length: 1038\n",
      "\n",
      "\n",
      "A2C_SpaceInvaders: 1 EPISODE: 5\n",
      "Episode Score: 935.00\n",
      "Episode Length: 1127\n",
      "\n",
      "\n",
      "A2C_SpaceInvaders: 2 EPISODE: 4\n",
      "Episode Score: 1605.00\n",
      "Episode Length: 1879\n",
      "\n",
      "\n",
      "A2C_SpaceInvaders: 1 EPISODE: 6\n",
      "Episode Score: 610.00\n",
      "Episode Length: 748\n",
      "\n",
      "\n",
      "A2C_SpaceInvaders: 2 EPISODE: 5\n",
      "Episode Score: 1095.00\n",
      "Episode Length: 1327\n",
      "\n",
      "\n",
      "A2C_SpaceInvaders: 1 EPISODE: 7\n",
      "Episode Score: 1555.00\n",
      "Episode Length: 1929\n",
      "\n",
      "\n",
      "A2C_SpaceInvaders: 2 EPISODE: 6\n",
      "Episode Score: 985.00\n",
      "Episode Length: 1286\n",
      "\n",
      "\n",
      "A2C_SpaceInvaders: 2 EPISODE: 7\n",
      "Episode Score: 1185.00\n",
      "Episode Length: 1353\n",
      "\n",
      "\n",
      "A2C_SpaceInvaders: 1 EPISODE: 8\n",
      "Episode Score: 1785.00\n",
      "Episode Length: 1721\n",
      "\n",
      "\n",
      "A2C_SpaceInvaders: 1 EPISODE: 9\n",
      "Episode Score: 600.00\n",
      "Episode Length: 786\n",
      "\n",
      "\n",
      "A2C_SpaceInvaders: 2 EPISODE: 8\n",
      "Episode Score: 1345.00\n",
      "Episode Length: 1638\n",
      "\n",
      "\n",
      "A2C_SpaceInvaders: 1 EPISODE: 10\n",
      "Episode Score: 1640.00\n",
      "Episode Length: 1724\n",
      "\n",
      "\n",
      "A2C_SpaceInvaders: 2 EPISODE: 9\n",
      "Episode Score: 925.00\n",
      "Episode Length: 1276\n",
      "\n",
      "\n",
      "A2C_SpaceInvaders: 1 EPISODE: 11\n",
      "Episode Score: 1130.00\n",
      "Episode Length: 1376\n",
      "\n",
      "\n",
      "A2C_SpaceInvaders: 2 EPISODE: 10\n",
      "Episode Score: 1435.00\n",
      "Episode Length: 1739\n",
      "\n",
      "\n",
      "A2C_SpaceInvaders: 1 EPISODE: 12\n",
      "Episode Score: 600.00\n",
      "Episode Length: 772\n",
      "\n",
      "\n",
      "A2C_SpaceInvaders: 2 EPISODE: 11\n",
      "Episode Score: 600.00\n",
      "Episode Length: 1013\n",
      "\n",
      "\n",
      "A2C_SpaceInvaders: 1 EPISODE: 13\n",
      "Episode Score: 1120.00\n",
      "Episode Length: 1264\n",
      "\n",
      "\n",
      "A2C_SpaceInvaders: 2 EPISODE: 12\n",
      "Episode Score: 1205.00\n",
      "Episode Length: 1440\n",
      "\n",
      "\n",
      "A2C_SpaceInvaders: 1 EPISODE: 14\n",
      "Episode Score: 1195.00\n",
      "Episode Length: 1288\n",
      "\n",
      "\n",
      "A2C_SpaceInvaders: 1 EPISODE: 15\n",
      "Episode Score: 1625.00\n",
      "Episode Length: 1865\n",
      "\n",
      "\n",
      "A2C_SpaceInvaders: 2 EPISODE: 13\n",
      "Episode Score: 1805.00\n",
      "Episode Length: 1997\n",
      "\n",
      "\n",
      "A2C_SpaceInvaders: 2 EPISODE: 14\n",
      "Episode Score: 1100.00\n",
      "Episode Length: 1284\n",
      "\n",
      "\n",
      "A2C_SpaceInvaders: 1 EPISODE: 16\n",
      "Episode Score: 1230.00\n",
      "Episode Length: 1522\n",
      "\n",
      "\n",
      "A2C_SpaceInvaders: 1 EPISODE: 17\n",
      "Episode Score: 1235.00\n",
      "Episode Length: 1509\n",
      "\n",
      "\n",
      "A2C_SpaceInvaders: 2 EPISODE: 15\n",
      "Episode Score: 1850.00\n",
      "Episode Length: 2055\n",
      "\n",
      "\n",
      "A2C_SpaceInvaders: 1 EPISODE: 18\n",
      "Episode Score: 615.00\n",
      "Episode Length: 663\n",
      "\n",
      "\n",
      "A2C_SpaceInvaders: 2 EPISODE: 16\n",
      "Episode Score: 1235.00\n",
      "Episode Length: 1464\n",
      "\n",
      "\n",
      "A2C_SpaceInvaders: 1 EPISODE: 19\n",
      "Episode Score: 1050.00\n",
      "Episode Length: 1149\n",
      "\n",
      "\n",
      "A2C_SpaceInvaders: 2 EPISODE: 17\n",
      "Episode Score: 750.00\n",
      "Episode Length: 949\n",
      "\n",
      "\n",
      "A2C_SpaceInvaders: 1 EPISODE: 20\n",
      "Episode Score: 775.00\n",
      "Episode Length: 957\n",
      "\n",
      "\n",
      "A2C_SpaceInvaders: 2 EPISODE: 18\n",
      "Episode Score: 1235.00\n",
      "Episode Length: 1436\n",
      "\n",
      "\n",
      "A2C_SpaceInvaders: 1 EPISODE: 21\n",
      "Episode Score: 2260.00\n",
      "Episode Length: 2100\n",
      "\n",
      "\n",
      "A2C_SpaceInvaders: 2 EPISODE: 19\n",
      "Episode Score: 605.00\n",
      "Episode Length: 872\n",
      "\n",
      "\n",
      "A2C_SpaceInvaders: 2 EPISODE: 20\n",
      "Episode Score: 600.00\n",
      "Episode Length: 728\n",
      "\n",
      "\n",
      "A2C_SpaceInvaders: 1 EPISODE: 22\n",
      "Episode Score: 1205.00\n",
      "Episode Length: 1339\n",
      "\n",
      "\n",
      "A2C_SpaceInvaders: 2 EPISODE: 21\n",
      "Episode Score: 1365.00\n",
      "Episode Length: 1638\n",
      "\n",
      "\n",
      "A2C_SpaceInvaders: 2 EPISODE: 22\n",
      "Episode Score: 545.00\n",
      "Episode Length: 678\n",
      "\n",
      "\n",
      "A2C_SpaceInvaders: 1 EPISODE: 23\n",
      "Episode Score: 1830.00\n",
      "Episode Length: 1942\n",
      "\n",
      "\n",
      "A2C_SpaceInvaders: 2 EPISODE: 23\n",
      "Episode Score: 1020.00\n",
      "Episode Length: 1341\n",
      "\n",
      "\n",
      "A2C_SpaceInvaders: 1 EPISODE: 24\n",
      "Episode Score: 1050.00\n",
      "Episode Length: 1281\n",
      "\n",
      "\n",
      "A2C_SpaceInvaders: 1 EPISODE: 25\n",
      "Episode Score: 1250.00\n",
      "Episode Length: 1392\n",
      "\n",
      "\n",
      "A2C_SpaceInvaders: 2 EPISODE: 24\n",
      "Episode Score: 1780.00\n",
      "Episode Length: 2004\n",
      "\n",
      "\n",
      "A2C_SpaceInvaders: 1 EPISODE: 26\n",
      "Episode Score: 435.00\n",
      "Episode Length: 693\n",
      "\n",
      "\n",
      "A2C_SpaceInvaders: 1 EPISODE: 27\n",
      "Episode Score: 680.00\n",
      "Episode Length: 959\n",
      "\n",
      "\n",
      "A2C_SpaceInvaders: 2 EPISODE: 25\n",
      "Episode Score: 1230.00\n",
      "Episode Length: 1572\n",
      "\n",
      "\n",
      "A2C_SpaceInvaders: 1 EPISODE: 28\n",
      "Episode Score: 490.00\n",
      "Episode Length: 743\n",
      "\n",
      "\n",
      "A2C_SpaceInvaders: 1 EPISODE: 29\n",
      "Episode Score: 730.00\n",
      "Episode Length: 1102\n",
      "\n",
      "\n",
      "A2C_SpaceInvaders: 2 EPISODE: 26\n",
      "Episode Score: 1835.00\n",
      "Episode Length: 2015\n",
      "\n",
      "\n",
      "A2C_SpaceInvaders: 1 EPISODE: 30\n",
      "Episode Score: 545.00\n",
      "Episode Length: 791\n",
      "\n",
      "\n",
      "A2C_SpaceInvaders: 2 EPISODE: 27\n",
      "Episode Score: 465.00\n",
      "Episode Length: 756\n",
      "\n",
      "\n",
      "A2C_SpaceInvaders: 2 EPISODE: 28\n",
      "Episode Score: 570.00\n",
      "Episode Length: 875\n",
      "\n",
      "\n",
      "A2C_SpaceInvaders: 1 EPISODE: 31\n",
      "Episode Score: 1325.00\n",
      "Episode Length: 1540\n",
      "\n",
      "\n",
      "A2C_SpaceInvaders: 1 EPISODE: 32\n",
      "Episode Score: 320.00\n",
      "Episode Length: 479\n",
      "\n",
      "\n",
      "A2C_SpaceInvaders: 2 EPISODE: 29\n",
      "Episode Score: 805.00\n",
      "Episode Length: 942\n"
     ]
    },
    {
     "data": {
      "text/html": [
       "Tracking run with wandb version 0.16.3"
      ],
      "text/plain": [
       "<IPython.core.display.HTML object>"
      ]
     },
     "metadata": {},
     "output_type": "display_data"
    },
    {
     "data": {
      "text/html": [
       "Run data is saved locally in <code>/home/sequenzia/dev/repos/atari-rl/logs/wandb/run-20240213_015348-hn0wv16t</code>"
      ],
      "text/plain": [
       "<IPython.core.display.HTML object>"
      ]
     },
     "metadata": {},
     "output_type": "display_data"
    },
    {
     "data": {
      "text/html": [
       "Syncing run <strong><a href='https://wandb.ai/appliedtheta/solen-rl-project-eval-2/runs/hn0wv16t' target=\"_blank\">A2C_SpaceInvaders_1_2024-02-13-01-52-46</a></strong> to <a href='https://wandb.ai/appliedtheta/solen-rl-project-eval-2' target=\"_blank\">Weights & Biases</a> (<a href='https://wandb.me/run' target=\"_blank\">docs</a>)<br/>"
      ],
      "text/plain": [
       "<IPython.core.display.HTML object>"
      ]
     },
     "metadata": {},
     "output_type": "display_data"
    },
    {
     "data": {
      "text/html": [
       " View project at <a href='https://wandb.ai/appliedtheta/solen-rl-project-eval-2' target=\"_blank\">https://wandb.ai/appliedtheta/solen-rl-project-eval-2</a>"
      ],
      "text/plain": [
       "<IPython.core.display.HTML object>"
      ]
     },
     "metadata": {},
     "output_type": "display_data"
    },
    {
     "data": {
      "text/html": [
       " View run at <a href='https://wandb.ai/appliedtheta/solen-rl-project-eval-2/runs/hn0wv16t' target=\"_blank\">https://wandb.ai/appliedtheta/solen-rl-project-eval-2/runs/hn0wv16t</a>"
      ],
      "text/plain": [
       "<IPython.core.display.HTML object>"
      ]
     },
     "metadata": {},
     "output_type": "display_data"
    },
    {
     "data": {
      "application/vnd.jupyter.widget-view+json": {
       "model_id": "4ffb6afd42c944ee9e2352fb42a145fa",
       "version_major": 2,
       "version_minor": 0
      },
      "text/plain": [
       "VBox(children=(Label(value='0.002 MB of 0.018 MB uploaded\\r'), FloatProgress(value=0.12730093071354706, max=1.…"
      ]
     },
     "metadata": {},
     "output_type": "display_data"
    },
    {
     "data": {
      "text/html": [
       "<style>\n",
       "    table.wandb td:nth-child(1) { padding: 0 10px; text-align: left ; width: auto;} td:nth-child(2) {text-align: left ; width: 100%}\n",
       "    .wandb-row { display: flex; flex-direction: row; flex-wrap: wrap; justify-content: flex-start; width: 100% }\n",
       "    .wandb-col { display: flex; flex-direction: column; flex-basis: 100%; flex: 1; padding: 10px; }\n",
       "    </style>\n",
       "<div class=\"wandb-row\"><div class=\"wandb-col\"><h3>Run history:</h3><br/><table class=\"wandb\"><tr><td>A2C_SpaceInvaders/episode_length</td><td>▄▇▅▆▃▃▁▄▄▄▂▆▄▆▂▄▅▇▇▅▅▁▅▂▂█▁▄▁▇▄▅▁▂▁▃▂▁▅▂</td></tr><tr><td>A2C_SpaceInvaders/episode_lives</td><td>▁▁▁▁▁▁▁▁▁▁▁▁▁▁▁▁▁▁▁▁▁▁▁▁▁▁▁▁▁▁▁▁▁▁▁▁▁▁▁▁</td></tr><tr><td>A2C_SpaceInvaders/episode_score</td><td>▄▆▅▅▂▃▂▄▃▄▂▄▃▅▂▄▄▆▆▄▄▂▄▂▂█▂▄▁▆▃▄▁▂▁▂▁▁▄▂</td></tr><tr><td>A2C_SpaceInvaders/episode_time</td><td>▁▁▁▂▂▂▂▂▂▃▃▃▃▄▄▄▄▄▄▅▅▅▅▅▅▆▆▆▆▆▇▇▇▇▇▇████</td></tr><tr><td>A2C_SpaceInvaders/run_frame_number</td><td>▁▁▁▂▂▂▂▂▂▃▃▃▃▄▄▄▄▄▄▅▅▅▅▅▅▆▆▆▆▆▇▇▇▇▇▇████</td></tr></table><br/></div><div class=\"wandb-col\"><h3>Run summary:</h3><br/><table class=\"wandb\"><tr><td>A2C_SpaceInvaders/episode_length</td><td>942</td></tr><tr><td>A2C_SpaceInvaders/episode_lives</td><td>0</td></tr><tr><td>A2C_SpaceInvaders/episode_score</td><td>805.0</td></tr><tr><td>A2C_SpaceInvaders/episode_time</td><td>56.65741</td></tr><tr><td>A2C_SpaceInvaders/run_frame_number</td><td>161258</td></tr></table><br/></div></div>"
      ],
      "text/plain": [
       "<IPython.core.display.HTML object>"
      ]
     },
     "metadata": {},
     "output_type": "display_data"
    },
    {
     "data": {
      "text/html": [
       " View run <strong style=\"color:#cdcd00\">A2C_SpaceInvaders_1_2024-02-13-01-52-46</strong> at: <a href='https://wandb.ai/appliedtheta/solen-rl-project-eval-2/runs/hn0wv16t' target=\"_blank\">https://wandb.ai/appliedtheta/solen-rl-project-eval-2/runs/hn0wv16t</a><br/>Synced 5 W&B file(s), 0 media file(s), 0 artifact file(s) and 0 other file(s)"
      ],
      "text/plain": [
       "<IPython.core.display.HTML object>"
      ]
     },
     "metadata": {},
     "output_type": "display_data"
    },
    {
     "data": {
      "text/html": [
       "Find logs at: <code>/home/sequenzia/dev/repos/atari-rl/logs/wandb/run-20240213_015348-hn0wv16t/logs</code>"
      ],
      "text/plain": [
       "<IPython.core.display.HTML object>"
      ]
     },
     "metadata": {},
     "output_type": "display_data"
    }
   ],
   "source": [
    "import os\n",
    "import sys\n",
    "\n",
    "import importlib\n",
    "import numpy as np\n",
    "import pandas as pd\n",
    "from pathlib import Path\n",
    "\n",
    "MODULE_NAME = \"infer\"\n",
    "MAIN_PATH = \"/home/sequenzia/dev/repos/atari-rl\"\n",
    "\n",
    "PROJECT = \"solen-rl-project-eval-2\"\n",
    "\n",
    "NO_RENDER = True\n",
    "\n",
    "N_ENVS = 2\n",
    "N_STEPS = 10000\n",
    "\n",
    "module_path = f\"{MAIN_PATH}/utils/{MODULE_NAME}.py\"\n",
    "agents_path = f\"{MAIN_PATH}/agents\"\n",
    "data_path = f\"{MAIN_PATH}/data\"\n",
    "\n",
    "spec = importlib.util.spec_from_file_location(MODULE_NAME, module_path)\n",
    "infer = importlib.util.module_from_spec(spec)\n",
    "sys.modules[MODULE_NAME] = infer\n",
    "spec.loader.exec_module(infer)\n",
    "\n",
    "all_infer_logs = {}\n",
    "all_infer_data = {}\n",
    "\n",
    "\n",
    "# ------------------------------------------------------------------------ #\n",
    "\n",
    "ALGOS = [\"ppo\", \"a2c\"]\n",
    "\n",
    "GAMES = [\"Breakout\",\n",
    "         \"Pong\",\n",
    "         \"SpaceInvaders\"]\n",
    "        #  \"Qbert\"]\n",
    "        #  \"Seaquest\",\n",
    "        #  \"Centipede\",\n",
    "        #  \"MsPacman\",\n",
    "        #  \"Asterix\",\n",
    "        #  \"Asteroids\",\n",
    "        #  \"Assault\"]\n",
    "\n",
    "for algo in ALGOS:\n",
    "\n",
    "    for game in GAMES:\n",
    "        \n",
    "        ENV_ID = f\"ALE/{game}-v5\"\n",
    "\n",
    "        RUN_KEY = f\"{algo.upper()}_{game}\"\n",
    "\n",
    "        infer_logs = infer.infer(run_key=RUN_KEY,\n",
    "                                 env_id=ENV_ID,\n",
    "                                 algo=algo,\n",
    "                                 game=game,\n",
    "                                 agents_path=agents_path,\n",
    "                                 n_envs=N_ENVS,\n",
    "                                 n_steps=N_STEPS,\n",
    "                                 no_render=NO_RENDER,\n",
    "                                 project=PROJECT,\n",
    "                                 debug_on=False)\n",
    "        \n",
    "        # all_infer_logs[RUN_KEY] = infer_logs\n",
    "        \n",
    "        infer_data_np = np.empty((0,5))\n",
    "\n",
    "        for idx in range(len(infer_logs)):\n",
    "\n",
    "            infer_data_np = np.vstack((infer_data_np, \n",
    "                                       np.array([infer_logs[idx].scores, \n",
    "                                                 infer_logs[idx].times, \n",
    "                                                 infer_logs[idx].lengths,\n",
    "                                                 infer_logs[idx].frame_numbers,\n",
    "                                                 infer_logs[idx].run_frame_numbers]).T))\n",
    "\n",
    "        infer_data = pd.DataFrame(infer_data_np, \n",
    "                                  columns=[\"scores\", \n",
    "                                           \"times\", \n",
    "                                           \"lengths\", \n",
    "                                           \"frame_numbers\", \n",
    "                                           \"run_frame_numbers\"])\n",
    "\n",
    "        all_infer_data[RUN_KEY] = infer_data\n"
   ]
  },
  {
   "cell_type": "code",
   "execution_count": null,
   "metadata": {},
   "outputs": [],
   "source": [
    "all_infer_data['A2C_Pong']"
   ]
  },
  {
   "cell_type": "code",
   "execution_count": null,
   "metadata": {},
   "outputs": [],
   "source": [
    "losses = [223,2232,4,5,6,7,8,9,10,11,12,13,14,15,16,17,18,19,20]\n",
    "\n",
    "{f\"losses/loss-{ii}\": loss for ii, loss in enumerate(losses)}"
   ]
  },
  {
   "cell_type": "code",
   "execution_count": null,
   "metadata": {},
   "outputs": [],
   "source": [
    "import wandb\n",
    "\n",
    "wandb.init(project=PROJECT,\n",
    "           name=\"ppo_breakout_eval_14\",\n",
    "           group=\"ppo\",\n",
    "           job_type=\"eval\",\n",
    "           settings=wandb.Settings(disable_job_creation=True))\n",
    "\n",
    "\n",
    "run_frame_numbers = []\n",
    "\n",
    "episode_scores = []\n",
    "episode_times = []\n",
    "episode_lengths = []\n",
    "episode_lives = []\n",
    "episode_frame_numbers = []\n",
    "\n",
    "\n",
    "for infer_log in all_infer_logs['PPO_Breakout']:\n",
    "\n",
    "    for episode in infer_log.episode_logs:\n",
    "\n",
    "        run_frame_numbers.append((episode.run_frame_number, episode.run_frame_number))\n",
    "\n",
    "        episode_scores.append((episode.run_frame_number, episode.episode_score))\n",
    "        episode_lengths.append((episode.run_frame_number, episode.episode_length))\n",
    "        episode_times.append((episode.run_frame_number, episode.episode_time))\n",
    "        episode_lives.append((episode.run_frame_number, episode.episode_lives))\n",
    "        episode_frame_numbers.append((episode.run_frame_number, episode.episode_frame_number))\n",
    "\n",
    "\n",
    "run_frame_numbers.sort(key=lambda x: x[0])\n",
    "\n",
    "episode_scores.sort(key=lambda x: x[0])\n",
    "episode_lengths.sort(key=lambda x: x[0])\n",
    "episode_times.sort(key=lambda x: x[0])\n",
    "episode_lives.sort(key=lambda x: x[0])\n",
    "episode_frame_numbers.sort(key=lambda x: x[0])\n",
    "\n",
    "\n",
    "for idx, run_frame_number in enumerate(run_frame_numbers):\n",
    "\n",
    "    wandb.log(data={\"episode_score\": episode_scores[idx][1],\n",
    "                    \"episode_time\": episode_times[idx][1],\n",
    "                    \"episode_length\": episode_lengths[idx][1],\n",
    "                    \"episode_lives\": episode_lives[idx][1],\n",
    "                    \"run_frame_number\": run_frame_number[0]},\n",
    "                    step=run_frame_number[0])\n",
    "\n",
    "wandb.finish()\n",
    "\n",
    "\n"
   ]
  },
  {
   "cell_type": "code",
   "execution_count": null,
   "metadata": {},
   "outputs": [],
   "source": [
    "episode_frame_numbers"
   ]
  },
  {
   "cell_type": "code",
   "execution_count": null,
   "metadata": {},
   "outputs": [],
   "source": [
    "_run_frame_numbers"
   ]
  },
  {
   "cell_type": "code",
   "execution_count": null,
   "metadata": {},
   "outputs": [],
   "source": [
    "    # wandb.log(data={f\"episode_times/time-{idx}\": time for idx, time in enumerate(episode_times)})\n",
    "    # wandb.log(data={f\"episode_lengths/length-{idx}\": length for idx, length in enumerate(episode_lengths)})\n",
    "    # wandb.log(data={f\"episode_lives/lives-{idx}\": lives for idx, lives in enumerate(episode_lives)})\n",
    "    # wandb.log(data={f\"episode_frame_numbers/frame_number-{idx}\": frame_number for idx, frame_number in enumerate(episode_frame_numbers)})\n",
    "    # wandb.log(data={f\"run_frame_numbers/frame_number-{idx}\": frame_number for idx, frame_number in enumerate(run_frame_numbers)})\n"
   ]
  },
  {
   "cell_type": "code",
   "execution_count": null,
   "metadata": {},
   "outputs": [],
   "source": [
    "wandb_log"
   ]
  },
  {
   "cell_type": "code",
   "execution_count": null,
   "metadata": {},
   "outputs": [],
   "source": [
    "import wandb\n",
    "\n",
    "wandb.init(project=PROJECT,\n",
    "           name=\"ppo_breakout_eval\",\n",
    "           group=\"ppo\",\n",
    "           job_type=\"eval\")\n",
    "\n",
    "wandb_tbl = wandb.Table(dataframe=all_infer_data['PPO_Breakout'])\n",
    "\n",
    "wandb.log({\"ppo_breakout_eval\": wandb_tbl})\n",
    "\n",
    "wandb.finish()"
   ]
  },
  {
   "cell_type": "code",
   "execution_count": null,
   "metadata": {},
   "outputs": [],
   "source": [
    "all_infer_logs"
   ]
  },
  {
   "cell_type": "code",
   "execution_count": null,
   "metadata": {},
   "outputs": [],
   "source": [
    "all_infer_data['PPO_BREAKOUT']"
   ]
  },
  {
   "cell_type": "code",
   "execution_count": null,
   "metadata": {},
   "outputs": [],
   "source": [
    "all_infer_data['A2C_BREAKOUT']"
   ]
  }
 ],
 "metadata": {
  "kernelspec": {
   "display_name": "gym",
   "language": "python",
   "name": "python3"
  },
  "language_info": {
   "codemirror_mode": {
    "name": "ipython",
    "version": 3
   },
   "file_extension": ".py",
   "mimetype": "text/x-python",
   "name": "python",
   "nbconvert_exporter": "python",
   "pygments_lexer": "ipython3",
   "version": "3.9.0"
  }
 },
 "nbformat": 4,
 "nbformat_minor": 2
}
