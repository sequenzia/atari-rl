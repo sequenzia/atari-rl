{
 "cells": [
  {
   "cell_type": "code",
   "execution_count": 1,
   "metadata": {},
   "outputs": [
    {
     "name": "stdout",
     "output_type": "stream",
     "text": [
      "\n",
      "Loading /home/sequenzia/dev/repos/atari-rl/agents/dqn/ALE-Breakout-v5_1/best_model.zip\n",
      "\n",
      "Stacking 4 frames\n"
     ]
    },
    {
     "name": "stderr",
     "output_type": "stream",
     "text": [
      "A.L.E: Arcade Learning Environment (version 0.8.1+53f58b7)\n",
      "[Powered by Stella]\n",
      "/home/sequenzia/dev/repos/stable-baselines3/stable_baselines3/common/save_util.py:166: UserWarning: Could not deserialize object exploration_schedule. Consider using `custom_objects` argument to replace this object.\n",
      "Exception: Can't get attribute '_function_setstate' on <module 'cloudpickle.cloudpickle' from '/home/sequenzia/anaconda3/envs/gym/lib/python3.9/site-packages/cloudpickle/cloudpickle.py'>\n",
      "  warnings.warn(\n"
     ]
    },
    {
     "name": "stdout",
     "output_type": "stream",
     "text": [
      "\n",
      "\n",
      "DQN_Breakout: 1 EPISODE: 1\n",
      "Episode Score: 20.00\n",
      "Episode Length: 812\n",
      "\n",
      "\n",
      "DQN_Breakout: 1 EPISODE: 2\n",
      "Episode Score: 28.00\n",
      "Episode Length: 984\n",
      "\n",
      "\n",
      "DQN_Breakout: 1 EPISODE: 3\n",
      "Episode Score: 21.00\n",
      "Episode Length: 898\n",
      "\n",
      "\n",
      "DQN_Breakout: 1 EPISODE: 4\n",
      "Episode Score: 24.00\n",
      "Episode Length: 894\n",
      "\n",
      "\n",
      "DQN_Breakout: 1 EPISODE: 5\n",
      "Episode Score: 19.00\n",
      "Episode Length: 749\n",
      "\n",
      "\n",
      "DQN_Breakout: 1 EPISODE: 6\n",
      "Episode Score: 32.00\n",
      "Episode Length: 978\n",
      "\n",
      "\n",
      "DQN_Breakout: 1 EPISODE: 7\n",
      "Episode Score: 29.00\n",
      "Episode Length: 1144\n",
      "\n",
      "\n",
      "DQN_Breakout: 1 EPISODE: 8\n",
      "Episode Score: 35.00\n",
      "Episode Length: 941\n",
      "\n",
      "\n",
      "DQN_Breakout: 1 EPISODE: 9\n",
      "Episode Score: 43.00\n",
      "Episode Length: 1222\n",
      "\n",
      "\n",
      "DQN_Breakout: 1 EPISODE: 10\n",
      "Episode Score: 19.00\n",
      "Episode Length: 722\n",
      "\n",
      "\n",
      "DQN_Breakout: 1 EPISODE: 11\n",
      "Episode Score: 31.00\n",
      "Episode Length: 831\n",
      "\n",
      "\n",
      "DQN_Breakout: 1 EPISODE: 12\n",
      "Episode Score: 18.00\n",
      "Episode Length: 828\n",
      "\n",
      "\n",
      "DQN_Breakout: 1 EPISODE: 13\n",
      "Episode Score: 25.00\n",
      "Episode Length: 814\n",
      "\n",
      "\n",
      "DQN_Breakout: 1 EPISODE: 14\n",
      "Episode Score: 33.00\n",
      "Episode Length: 986\n",
      "\n",
      "\n",
      "DQN_Breakout: 1 EPISODE: 15\n",
      "Episode Score: 25.00\n",
      "Episode Length: 942\n",
      "\n",
      "\n",
      "DQN_Breakout: 1 EPISODE: 16\n",
      "Episode Score: 31.00\n",
      "Episode Length: 966\n",
      "\n",
      "\n",
      "DQN_Breakout: 1 EPISODE: 17\n",
      "Episode Score: 21.00\n",
      "Episode Length: 789\n",
      "\n",
      "\n",
      "DQN_Breakout: 1 EPISODE: 18\n",
      "Episode Score: 37.00\n",
      "Episode Length: 1067\n",
      "\n",
      "\n",
      "DQN_Breakout: 1 EPISODE: 19\n",
      "Episode Score: 34.00\n",
      "Episode Length: 969\n",
      "\n",
      "\n",
      "DQN_Breakout: 1 EPISODE: 20\n",
      "Episode Score: 50.00\n",
      "Episode Length: 1318\n",
      "\n",
      "\n",
      "DQN_Breakout: 1 EPISODE: 21\n",
      "Episode Score: 45.00\n",
      "Episode Length: 1233\n",
      "\n",
      "\n",
      "DQN_Breakout: 1 EPISODE: 22\n",
      "Episode Score: 36.00\n",
      "Episode Length: 1260\n",
      "\n",
      "\n",
      "DQN_Breakout: 1 EPISODE: 23\n",
      "Episode Score: 27.00\n",
      "Episode Length: 897\n",
      "\n",
      "\n",
      "DQN_Breakout: 1 EPISODE: 24\n",
      "Episode Score: 35.00\n",
      "Episode Length: 1078\n",
      "\n",
      "\n",
      "DQN_Breakout: 1 EPISODE: 25\n",
      "Episode Score: 35.00\n",
      "Episode Length: 1067\n",
      "\n",
      "\n",
      "DQN_Breakout: 1 EPISODE: 26\n",
      "Episode Score: 29.00\n",
      "Episode Length: 927\n",
      "\n",
      "\n",
      "DQN_Breakout: 1 EPISODE: 27\n",
      "Episode Score: 52.00\n",
      "Episode Length: 1429\n",
      "\n",
      "\n",
      "DQN_Breakout: 1 EPISODE: 28\n",
      "Episode Score: 21.00\n",
      "Episode Length: 793\n",
      "\n",
      "\n",
      "DQN_Breakout: 1 EPISODE: 29\n",
      "Episode Score: 39.00\n",
      "Episode Length: 1245\n",
      "\n",
      "\n",
      "DQN_Breakout: 1 EPISODE: 30\n",
      "Episode Score: 27.00\n",
      "Episode Length: 968\n",
      "\n",
      "\n",
      "DQN_Breakout: 1 EPISODE: 31\n",
      "Episode Score: 34.00\n",
      "Episode Length: 1071\n",
      "\n",
      "\n",
      "DQN_Breakout: 1 EPISODE: 32\n",
      "Episode Score: 44.00\n",
      "Episode Length: 1129\n",
      "\n",
      "\n",
      "DQN_Breakout: 1 EPISODE: 33\n",
      "Episode Score: 16.00\n",
      "Episode Length: 829\n",
      "\n",
      "\n",
      "DQN_Breakout: 1 EPISODE: 34\n",
      "Episode Score: 32.00\n",
      "Episode Length: 959\n",
      "\n",
      "\n",
      "DQN_Breakout: 1 EPISODE: 35\n",
      "Episode Score: 21.00\n",
      "Episode Length: 810\n",
      "\n",
      "\n",
      "DQN_Breakout: 1 EPISODE: 36\n",
      "Episode Score: 25.00\n",
      "Episode Length: 1004\n",
      "\n",
      "\n",
      "DQN_Breakout: 1 EPISODE: 37\n",
      "Episode Score: 38.00\n",
      "Episode Length: 955\n",
      "\n",
      "\n",
      "DQN_Breakout: 1 EPISODE: 38\n",
      "Episode Score: 37.00\n",
      "Episode Length: 971\n",
      "\n",
      "\n",
      "DQN_Breakout: 1 EPISODE: 39\n",
      "Episode Score: 26.00\n",
      "Episode Length: 859\n",
      "\n",
      "\n",
      "DQN_Breakout: 1 EPISODE: 40\n",
      "Episode Score: 29.00\n",
      "Episode Length: 1013\n",
      "\n",
      "\n",
      "DQN_Breakout: 1 EPISODE: 41\n",
      "Episode Score: 26.00\n",
      "Episode Length: 889\n",
      "\n",
      "\n",
      "DQN_Breakout: 1 EPISODE: 42\n",
      "Episode Score: 32.00\n",
      "Episode Length: 1044\n",
      "\n",
      "\n",
      "DQN_Breakout: 1 EPISODE: 43\n",
      "Episode Score: 26.00\n",
      "Episode Length: 838\n"
     ]
    },
    {
     "name": "stderr",
     "output_type": "stream",
     "text": [
      "ERROR:wandb.jupyter:Failed to detect the name of this notebook, you can set it manually with the WANDB_NOTEBOOK_NAME environment variable to enable code saving.\n",
      "\u001b[34m\u001b[1mwandb\u001b[0m: Currently logged in as: \u001b[33mappliedtheta\u001b[0m. Use \u001b[1m`wandb login --relogin`\u001b[0m to force relogin\n"
     ]
    },
    {
     "data": {
      "text/html": [
       "Tracking run with wandb version 0.16.3"
      ],
      "text/plain": [
       "<IPython.core.display.HTML object>"
      ]
     },
     "metadata": {},
     "output_type": "display_data"
    },
    {
     "data": {
      "text/html": [
       "Run data is saved locally in <code>/home/sequenzia/dev/repos/atari-rl/logs/wandb/run-20240213_230121-p3blkviq</code>"
      ],
      "text/plain": [
       "<IPython.core.display.HTML object>"
      ]
     },
     "metadata": {},
     "output_type": "display_data"
    },
    {
     "data": {
      "text/html": [
       "Syncing run <strong><a href='https://wandb.ai/appliedtheta/solen-rl-project-eval-2/runs/p3blkviq' target=\"_blank\">DQN_Breakout_1_2024-02-13-23-00-32</a></strong> to <a href='https://wandb.ai/appliedtheta/solen-rl-project-eval-2' target=\"_blank\">Weights & Biases</a> (<a href='https://wandb.me/run' target=\"_blank\">docs</a>)<br/>"
      ],
      "text/plain": [
       "<IPython.core.display.HTML object>"
      ]
     },
     "metadata": {},
     "output_type": "display_data"
    },
    {
     "data": {
      "text/html": [
       " View project at <a href='https://wandb.ai/appliedtheta/solen-rl-project-eval-2' target=\"_blank\">https://wandb.ai/appliedtheta/solen-rl-project-eval-2</a>"
      ],
      "text/plain": [
       "<IPython.core.display.HTML object>"
      ]
     },
     "metadata": {},
     "output_type": "display_data"
    },
    {
     "data": {
      "text/html": [
       " View run at <a href='https://wandb.ai/appliedtheta/solen-rl-project-eval-2/runs/p3blkviq' target=\"_blank\">https://wandb.ai/appliedtheta/solen-rl-project-eval-2/runs/p3blkviq</a>"
      ],
      "text/plain": [
       "<IPython.core.display.HTML object>"
      ]
     },
     "metadata": {},
     "output_type": "display_data"
    },
    {
     "data": {
      "application/vnd.jupyter.widget-view+json": {
       "model_id": "f3a8891542454689b6aa382a84248f52",
       "version_major": 2,
       "version_minor": 0
      },
      "text/plain": [
       "VBox(children=(Label(value='0.000 MB of 0.002 MB uploaded\\r'), FloatProgress(value=0.0, max=1.0)))"
      ]
     },
     "metadata": {},
     "output_type": "display_data"
    },
    {
     "data": {
      "text/html": [
       "<style>\n",
       "    table.wandb td:nth-child(1) { padding: 0 10px; text-align: left ; width: auto;} td:nth-child(2) {text-align: left ; width: 100%}\n",
       "    .wandb-row { display: flex; flex-direction: row; flex-wrap: wrap; justify-content: flex-start; width: 100% }\n",
       "    .wandb-col { display: flex; flex-direction: column; flex-basis: 100%; flex: 1; padding: 10px; }\n",
       "    </style>\n",
       "<div class=\"wandb-row\"><div class=\"wandb-col\"><h3>Run history:</h3><br/><table class=\"wandb\"><tr><td>DQN_Breakout/episode_length</td><td>▂▄▃▃▁▄▅▃▆▁▂▂▂▃▃▂▄▃▇▆▆▃▅▄▃█▆▃▄▅▂▃▂▄▃▃▂▄▃▂</td></tr><tr><td>DQN_Breakout/episode_score</td><td>▂▃▂▃▂▄▄▅▆▂▄▁▃▃▄▂▅▅█▇▅▃▅▅▄█▅▃▅▆▁▄▂▃▅▅▃▄▃▃</td></tr><tr><td>episode_length</td><td>▂▄▃▃▁▄▅▃▆▁▂▂▂▃▃▂▄▃▇▆▆▃▅▄▃█▆▃▄▅▂▃▂▄▃▃▂▄▃▂</td></tr><tr><td>episode_lives</td><td>▁▁▁▁▁▁▁▁▁▁▁▁▁▁▁▁▁▁▁▁▁▁▁▁▁▁▁▁▁▁▁▁▁▁▁▁▁▁▁▁</td></tr><tr><td>episode_score</td><td>▂▃▂▃▂▄▄▅▆▂▄▁▃▃▄▂▅▅█▇▅▃▅▅▄█▅▃▅▆▁▄▂▃▅▅▃▄▃▃</td></tr><tr><td>episode_time</td><td>▁▁▁▁▂▂▂▂▂▂▃▃▃▃▃▄▄▄▄▄▄▅▅▅▅▅▆▆▆▆▆▇▇▇▇▇▇▇██</td></tr><tr><td>run_frame_number</td><td>▁▁▁▁▂▂▂▂▂▂▃▃▃▃▃▃▄▄▄▄▄▅▅▅▅▅▆▆▆▆▆▇▇▇▇▇▇███</td></tr></table><br/></div><div class=\"wandb-col\"><h3>Run summary:</h3><br/><table class=\"wandb\"><tr><td>DQN_Breakout/episode_length</td><td>838</td></tr><tr><td>DQN_Breakout/episode_score</td><td>26.0</td></tr><tr><td>episode_length</td><td>838</td></tr><tr><td>episode_lives</td><td>0</td></tr><tr><td>episode_score</td><td>26.0</td></tr><tr><td>episode_time</td><td>46.26211</td></tr><tr><td>run_frame_number</td><td>168413</td></tr></table><br/></div></div>"
      ],
      "text/plain": [
       "<IPython.core.display.HTML object>"
      ]
     },
     "metadata": {},
     "output_type": "display_data"
    },
    {
     "data": {
      "text/html": [
       " View run <strong style=\"color:#cdcd00\">DQN_Breakout_1_2024-02-13-23-00-32</strong> at: <a href='https://wandb.ai/appliedtheta/solen-rl-project-eval-2/runs/p3blkviq' target=\"_blank\">https://wandb.ai/appliedtheta/solen-rl-project-eval-2/runs/p3blkviq</a><br/>Synced 5 W&B file(s), 0 media file(s), 0 artifact file(s) and 0 other file(s)"
      ],
      "text/plain": [
       "<IPython.core.display.HTML object>"
      ]
     },
     "metadata": {},
     "output_type": "display_data"
    },
    {
     "data": {
      "text/html": [
       "Find logs at: <code>/home/sequenzia/dev/repos/atari-rl/logs/wandb/run-20240213_230121-p3blkviq/logs</code>"
      ],
      "text/plain": [
       "<IPython.core.display.HTML object>"
      ]
     },
     "metadata": {},
     "output_type": "display_data"
    },
    {
     "name": "stdout",
     "output_type": "stream",
     "text": [
      "Saving to /home/sequenzia/dev/repos/atari-rl/data/evals/DQN_2024-02-13-23-00-32/breakout.parquet\n",
      "\n",
      "Loading /home/sequenzia/dev/repos/atari-rl/agents/dqn/ALE-Pong-v5_1/best_model.zip\n",
      "\n",
      "Stacking 4 frames\n"
     ]
    },
    {
     "name": "stderr",
     "output_type": "stream",
     "text": [
      "/home/sequenzia/dev/repos/stable-baselines3/stable_baselines3/common/save_util.py:166: UserWarning: Could not deserialize object exploration_schedule. Consider using `custom_objects` argument to replace this object.\n",
      "Exception: Can't get attribute '_function_setstate' on <module 'cloudpickle.cloudpickle' from '/home/sequenzia/anaconda3/envs/gym/lib/python3.9/site-packages/cloudpickle/cloudpickle.py'>\n",
      "  warnings.warn(\n"
     ]
    },
    {
     "name": "stdout",
     "output_type": "stream",
     "text": [
      "\n",
      "\n",
      "DQN_Pong: 1 EPISODE: 1\n",
      "Episode Score: 9.00\n",
      "Episode Length: 3617\n",
      "\n",
      "\n",
      "DQN_Pong: 1 EPISODE: 2\n",
      "Episode Score: 16.00\n",
      "Episode Length: 3105\n",
      "\n",
      "\n",
      "DQN_Pong: 1 EPISODE: 3\n",
      "Episode Score: 3.00\n",
      "Episode Length: 4169\n",
      "\n",
      "\n",
      "DQN_Pong: 1 EPISODE: 4\n",
      "Episode Score: 17.00\n",
      "Episode Length: 2692\n",
      "\n",
      "\n",
      "DQN_Pong: 1 EPISODE: 5\n",
      "Episode Score: 9.00\n",
      "Episode Length: 3541\n",
      "\n",
      "\n",
      "DQN_Pong: 1 EPISODE: 6\n",
      "Episode Score: 10.00\n",
      "Episode Length: 3920\n",
      "\n",
      "\n",
      "DQN_Pong: 1 EPISODE: 7\n",
      "Episode Score: 13.00\n",
      "Episode Length: 2956\n",
      "\n",
      "\n",
      "DQN_Pong: 1 EPISODE: 8\n",
      "Episode Score: 15.00\n",
      "Episode Length: 3182\n",
      "\n",
      "\n",
      "DQN_Pong: 1 EPISODE: 9\n",
      "Episode Score: 13.00\n",
      "Episode Length: 3544\n",
      "\n",
      "\n",
      "DQN_Pong: 1 EPISODE: 10\n",
      "Episode Score: 10.00\n",
      "Episode Length: 2940\n",
      "\n",
      "\n",
      "DQN_Pong: 1 EPISODE: 11\n",
      "Episode Score: 5.00\n",
      "Episode Length: 3665\n"
     ]
    },
    {
     "data": {
      "text/html": [
       "Tracking run with wandb version 0.16.3"
      ],
      "text/plain": [
       "<IPython.core.display.HTML object>"
      ]
     },
     "metadata": {},
     "output_type": "display_data"
    },
    {
     "data": {
      "text/html": [
       "Run data is saved locally in <code>/home/sequenzia/dev/repos/atari-rl/logs/wandb/run-20240213_230217-spypkbop</code>"
      ],
      "text/plain": [
       "<IPython.core.display.HTML object>"
      ]
     },
     "metadata": {},
     "output_type": "display_data"
    },
    {
     "data": {
      "text/html": [
       "Syncing run <strong><a href='https://wandb.ai/appliedtheta/solen-rl-project-eval-2/runs/spypkbop' target=\"_blank\">DQN_Pong_1_2024-02-13-23-01-37</a></strong> to <a href='https://wandb.ai/appliedtheta/solen-rl-project-eval-2' target=\"_blank\">Weights & Biases</a> (<a href='https://wandb.me/run' target=\"_blank\">docs</a>)<br/>"
      ],
      "text/plain": [
       "<IPython.core.display.HTML object>"
      ]
     },
     "metadata": {},
     "output_type": "display_data"
    },
    {
     "data": {
      "text/html": [
       " View project at <a href='https://wandb.ai/appliedtheta/solen-rl-project-eval-2' target=\"_blank\">https://wandb.ai/appliedtheta/solen-rl-project-eval-2</a>"
      ],
      "text/plain": [
       "<IPython.core.display.HTML object>"
      ]
     },
     "metadata": {},
     "output_type": "display_data"
    },
    {
     "data": {
      "text/html": [
       " View run at <a href='https://wandb.ai/appliedtheta/solen-rl-project-eval-2/runs/spypkbop' target=\"_blank\">https://wandb.ai/appliedtheta/solen-rl-project-eval-2/runs/spypkbop</a>"
      ],
      "text/plain": [
       "<IPython.core.display.HTML object>"
      ]
     },
     "metadata": {},
     "output_type": "display_data"
    },
    {
     "data": {
      "application/vnd.jupyter.widget-view+json": {
       "model_id": "b49fa826dea943e18319bb16319adbbb",
       "version_major": 2,
       "version_minor": 0
      },
      "text/plain": [
       "VBox(children=(Label(value='0.018 MB of 0.018 MB uploaded\\r'), FloatProgress(value=1.0, max=1.0)))"
      ]
     },
     "metadata": {},
     "output_type": "display_data"
    },
    {
     "data": {
      "text/html": [
       "<style>\n",
       "    table.wandb td:nth-child(1) { padding: 0 10px; text-align: left ; width: auto;} td:nth-child(2) {text-align: left ; width: 100%}\n",
       "    .wandb-row { display: flex; flex-direction: row; flex-wrap: wrap; justify-content: flex-start; width: 100% }\n",
       "    .wandb-col { display: flex; flex-direction: column; flex-basis: 100%; flex: 1; padding: 10px; }\n",
       "    </style>\n",
       "<div class=\"wandb-row\"><div class=\"wandb-col\"><h3>Run history:</h3><br/><table class=\"wandb\"><tr><td>DQN_Pong/episode_length</td><td>▅▃█▁▅▇▂▃▅▂▆</td></tr><tr><td>DQN_Pong/episode_score</td><td>▄▇▁█▄▅▆▇▆▅▂</td></tr><tr><td>episode_length</td><td>▅▃█▁▅▇▂▃▅▂▆</td></tr><tr><td>episode_lives</td><td>▁▁▁▁▁▁▁▁▁▁▁</td></tr><tr><td>episode_score</td><td>▄▇▁█▄▅▆▇▆▅▂</td></tr><tr><td>episode_time</td><td>▁▂▃▃▄▅▅▆▇▇█</td></tr><tr><td>run_frame_number</td><td>▁▂▃▃▄▅▅▆▇▇█</td></tr></table><br/></div><div class=\"wandb-col\"><h3>Run summary:</h3><br/><table class=\"wandb\"><tr><td>DQN_Pong/episode_length</td><td>3665</td></tr><tr><td>DQN_Pong/episode_score</td><td>5.0</td></tr><tr><td>episode_length</td><td>3665</td></tr><tr><td>episode_lives</td><td>0</td></tr><tr><td>episode_score</td><td>5.0</td></tr><tr><td>episode_time</td><td>37.1377</td></tr><tr><td>run_frame_number</td><td>149305</td></tr></table><br/></div></div>"
      ],
      "text/plain": [
       "<IPython.core.display.HTML object>"
      ]
     },
     "metadata": {},
     "output_type": "display_data"
    },
    {
     "data": {
      "text/html": [
       " View run <strong style=\"color:#cdcd00\">DQN_Pong_1_2024-02-13-23-01-37</strong> at: <a href='https://wandb.ai/appliedtheta/solen-rl-project-eval-2/runs/spypkbop' target=\"_blank\">https://wandb.ai/appliedtheta/solen-rl-project-eval-2/runs/spypkbop</a><br/>Synced 5 W&B file(s), 0 media file(s), 0 artifact file(s) and 0 other file(s)"
      ],
      "text/plain": [
       "<IPython.core.display.HTML object>"
      ]
     },
     "metadata": {},
     "output_type": "display_data"
    },
    {
     "data": {
      "text/html": [
       "Find logs at: <code>/home/sequenzia/dev/repos/atari-rl/logs/wandb/run-20240213_230217-spypkbop/logs</code>"
      ],
      "text/plain": [
       "<IPython.core.display.HTML object>"
      ]
     },
     "metadata": {},
     "output_type": "display_data"
    },
    {
     "name": "stdout",
     "output_type": "stream",
     "text": [
      "Saving to /home/sequenzia/dev/repos/atari-rl/data/evals/DQN_2024-02-13-23-00-32/pong.parquet\n",
      "\n",
      "Loading /home/sequenzia/dev/repos/atari-rl/agents/dqn/ALE-SpaceInvaders-v5_1/best_model.zip\n",
      "\n",
      "Stacking 4 frames\n"
     ]
    },
    {
     "name": "stderr",
     "output_type": "stream",
     "text": [
      "/home/sequenzia/dev/repos/stable-baselines3/stable_baselines3/common/save_util.py:166: UserWarning: Could not deserialize object exploration_schedule. Consider using `custom_objects` argument to replace this object.\n",
      "Exception: Can't get attribute '_function_setstate' on <module 'cloudpickle.cloudpickle' from '/home/sequenzia/anaconda3/envs/gym/lib/python3.9/site-packages/cloudpickle/cloudpickle.py'>\n",
      "  warnings.warn(\n"
     ]
    },
    {
     "name": "stdout",
     "output_type": "stream",
     "text": [
      "\n",
      "\n",
      "DQN_SpaceInvaders: 1 EPISODE: 1\n",
      "Episode Score: 700.00\n",
      "Episode Length: 1050\n",
      "\n",
      "\n",
      "DQN_SpaceInvaders: 1 EPISODE: 2\n",
      "Episode Score: 440.00\n",
      "Episode Length: 657\n",
      "\n",
      "\n",
      "DQN_SpaceInvaders: 1 EPISODE: 3\n",
      "Episode Score: 585.00\n",
      "Episode Length: 809\n",
      "\n",
      "\n",
      "DQN_SpaceInvaders: 1 EPISODE: 4\n",
      "Episode Score: 450.00\n",
      "Episode Length: 730\n",
      "\n",
      "\n",
      "DQN_SpaceInvaders: 1 EPISODE: 5\n",
      "Episode Score: 525.00\n",
      "Episode Length: 989\n",
      "\n",
      "\n",
      "DQN_SpaceInvaders: 1 EPISODE: 6\n",
      "Episode Score: 590.00\n",
      "Episode Length: 569\n",
      "\n",
      "\n",
      "DQN_SpaceInvaders: 1 EPISODE: 7\n",
      "Episode Score: 575.00\n",
      "Episode Length: 1170\n",
      "\n",
      "\n",
      "DQN_SpaceInvaders: 1 EPISODE: 8\n",
      "Episode Score: 325.00\n",
      "Episode Length: 734\n",
      "\n",
      "\n",
      "DQN_SpaceInvaders: 1 EPISODE: 9\n",
      "Episode Score: 440.00\n",
      "Episode Length: 632\n",
      "\n",
      "\n",
      "DQN_SpaceInvaders: 1 EPISODE: 10\n",
      "Episode Score: 360.00\n",
      "Episode Length: 825\n",
      "\n",
      "\n",
      "DQN_SpaceInvaders: 1 EPISODE: 11\n",
      "Episode Score: 900.00\n",
      "Episode Length: 957\n",
      "\n",
      "\n",
      "DQN_SpaceInvaders: 1 EPISODE: 12\n",
      "Episode Score: 300.00\n",
      "Episode Length: 658\n",
      "\n",
      "\n",
      "DQN_SpaceInvaders: 1 EPISODE: 13\n",
      "Episode Score: 745.00\n",
      "Episode Length: 1245\n",
      "\n",
      "\n",
      "DQN_SpaceInvaders: 1 EPISODE: 14\n",
      "Episode Score: 335.00\n",
      "Episode Length: 615\n",
      "\n",
      "\n",
      "DQN_SpaceInvaders: 1 EPISODE: 15\n",
      "Episode Score: 270.00\n",
      "Episode Length: 620\n",
      "\n",
      "\n",
      "DQN_SpaceInvaders: 1 EPISODE: 16\n",
      "Episode Score: 575.00\n",
      "Episode Length: 1122\n",
      "\n",
      "\n",
      "DQN_SpaceInvaders: 1 EPISODE: 17\n",
      "Episode Score: 520.00\n",
      "Episode Length: 974\n",
      "\n",
      "\n",
      "DQN_SpaceInvaders: 1 EPISODE: 18\n",
      "Episode Score: 485.00\n",
      "Episode Length: 772\n",
      "\n",
      "\n",
      "DQN_SpaceInvaders: 1 EPISODE: 19\n",
      "Episode Score: 350.00\n",
      "Episode Length: 640\n",
      "\n",
      "\n",
      "DQN_SpaceInvaders: 1 EPISODE: 20\n",
      "Episode Score: 600.00\n",
      "Episode Length: 1011\n",
      "\n",
      "\n",
      "DQN_SpaceInvaders: 1 EPISODE: 21\n",
      "Episode Score: 120.00\n",
      "Episode Length: 467\n",
      "\n",
      "\n",
      "DQN_SpaceInvaders: 1 EPISODE: 22\n",
      "Episode Score: 325.00\n",
      "Episode Length: 754\n",
      "\n",
      "\n",
      "DQN_SpaceInvaders: 1 EPISODE: 23\n",
      "Episode Score: 570.00\n",
      "Episode Length: 960\n",
      "\n",
      "\n",
      "DQN_SpaceInvaders: 1 EPISODE: 24\n",
      "Episode Score: 365.00\n",
      "Episode Length: 607\n",
      "\n",
      "\n",
      "DQN_SpaceInvaders: 1 EPISODE: 25\n",
      "Episode Score: 630.00\n",
      "Episode Length: 922\n",
      "\n",
      "\n",
      "DQN_SpaceInvaders: 1 EPISODE: 26\n",
      "Episode Score: 440.00\n",
      "Episode Length: 615\n",
      "\n",
      "\n",
      "DQN_SpaceInvaders: 1 EPISODE: 27\n",
      "Episode Score: 380.00\n",
      "Episode Length: 722\n",
      "\n",
      "\n",
      "DQN_SpaceInvaders: 1 EPISODE: 28\n",
      "Episode Score: 450.00\n",
      "Episode Length: 739\n",
      "\n",
      "\n",
      "DQN_SpaceInvaders: 1 EPISODE: 29\n",
      "Episode Score: 430.00\n",
      "Episode Length: 697\n",
      "\n",
      "\n",
      "DQN_SpaceInvaders: 1 EPISODE: 30\n",
      "Episode Score: 295.00\n",
      "Episode Length: 488\n",
      "\n",
      "\n",
      "DQN_SpaceInvaders: 1 EPISODE: 31\n",
      "Episode Score: 605.00\n",
      "Episode Length: 981\n",
      "\n",
      "\n",
      "DQN_SpaceInvaders: 1 EPISODE: 32\n",
      "Episode Score: 460.00\n",
      "Episode Length: 680\n",
      "\n",
      "\n",
      "DQN_SpaceInvaders: 1 EPISODE: 33\n",
      "Episode Score: 320.00\n",
      "Episode Length: 663\n",
      "\n",
      "\n",
      "DQN_SpaceInvaders: 1 EPISODE: 34\n",
      "Episode Score: 440.00\n",
      "Episode Length: 756\n",
      "\n",
      "\n",
      "DQN_SpaceInvaders: 1 EPISODE: 35\n",
      "Episode Score: 385.00\n",
      "Episode Length: 640\n",
      "\n",
      "\n",
      "DQN_SpaceInvaders: 1 EPISODE: 36\n",
      "Episode Score: 505.00\n",
      "Episode Length: 870\n",
      "\n",
      "\n",
      "DQN_SpaceInvaders: 1 EPISODE: 37\n",
      "Episode Score: 220.00\n",
      "Episode Length: 657\n",
      "\n",
      "\n",
      "DQN_SpaceInvaders: 1 EPISODE: 38\n",
      "Episode Score: 485.00\n",
      "Episode Length: 1038\n",
      "\n",
      "\n",
      "DQN_SpaceInvaders: 1 EPISODE: 39\n",
      "Episode Score: 575.00\n",
      "Episode Length: 1013\n",
      "\n",
      "\n",
      "DQN_SpaceInvaders: 1 EPISODE: 40\n",
      "Episode Score: 460.00\n",
      "Episode Length: 870\n",
      "\n",
      "\n",
      "DQN_SpaceInvaders: 1 EPISODE: 41\n",
      "Episode Score: 395.00\n",
      "Episode Length: 614\n",
      "\n",
      "\n",
      "DQN_SpaceInvaders: 1 EPISODE: 42\n",
      "Episode Score: 580.00\n",
      "Episode Length: 770\n",
      "\n",
      "\n",
      "DQN_SpaceInvaders: 1 EPISODE: 43\n",
      "Episode Score: 440.00\n",
      "Episode Length: 607\n",
      "\n",
      "\n",
      "DQN_SpaceInvaders: 1 EPISODE: 44\n",
      "Episode Score: 490.00\n",
      "Episode Length: 948\n",
      "\n",
      "\n",
      "DQN_SpaceInvaders: 1 EPISODE: 45\n",
      "Episode Score: 480.00\n",
      "Episode Length: 721\n",
      "\n",
      "\n",
      "DQN_SpaceInvaders: 1 EPISODE: 46\n",
      "Episode Score: 550.00\n",
      "Episode Length: 959\n",
      "\n",
      "\n",
      "DQN_SpaceInvaders: 1 EPISODE: 47\n",
      "Episode Score: 530.00\n",
      "Episode Length: 534\n",
      "\n",
      "\n",
      "DQN_SpaceInvaders: 1 EPISODE: 48\n",
      "Episode Score: 365.00\n",
      "Episode Length: 689\n",
      "\n",
      "\n",
      "DQN_SpaceInvaders: 1 EPISODE: 49\n",
      "Episode Score: 290.00\n",
      "Episode Length: 583\n",
      "\n",
      "\n",
      "DQN_SpaceInvaders: 1 EPISODE: 50\n",
      "Episode Score: 330.00\n",
      "Episode Length: 679\n",
      "\n",
      "\n",
      "DQN_SpaceInvaders: 1 EPISODE: 51\n",
      "Episode Score: 580.00\n",
      "Episode Length: 643\n",
      "\n",
      "\n",
      "DQN_SpaceInvaders: 1 EPISODE: 52\n",
      "Episode Score: 480.00\n",
      "Episode Length: 1370\n",
      "\n",
      "\n",
      "DQN_SpaceInvaders: 1 EPISODE: 53\n",
      "Episode Score: 605.00\n",
      "Episode Length: 682\n"
     ]
    },
    {
     "data": {
      "text/html": [
       "Tracking run with wandb version 0.16.3"
      ],
      "text/plain": [
       "<IPython.core.display.HTML object>"
      ]
     },
     "metadata": {},
     "output_type": "display_data"
    },
    {
     "data": {
      "text/html": [
       "Run data is saved locally in <code>/home/sequenzia/dev/repos/atari-rl/logs/wandb/run-20240213_230314-q06e65rc</code>"
      ],
      "text/plain": [
       "<IPython.core.display.HTML object>"
      ]
     },
     "metadata": {},
     "output_type": "display_data"
    },
    {
     "data": {
      "text/html": [
       "Syncing run <strong><a href='https://wandb.ai/appliedtheta/solen-rl-project-eval-2/runs/q06e65rc' target=\"_blank\">DQN_SpaceInvaders_1_2024-02-13-23-02-31</a></strong> to <a href='https://wandb.ai/appliedtheta/solen-rl-project-eval-2' target=\"_blank\">Weights & Biases</a> (<a href='https://wandb.me/run' target=\"_blank\">docs</a>)<br/>"
      ],
      "text/plain": [
       "<IPython.core.display.HTML object>"
      ]
     },
     "metadata": {},
     "output_type": "display_data"
    },
    {
     "data": {
      "text/html": [
       " View project at <a href='https://wandb.ai/appliedtheta/solen-rl-project-eval-2' target=\"_blank\">https://wandb.ai/appliedtheta/solen-rl-project-eval-2</a>"
      ],
      "text/plain": [
       "<IPython.core.display.HTML object>"
      ]
     },
     "metadata": {},
     "output_type": "display_data"
    },
    {
     "data": {
      "text/html": [
       " View run at <a href='https://wandb.ai/appliedtheta/solen-rl-project-eval-2/runs/q06e65rc' target=\"_blank\">https://wandb.ai/appliedtheta/solen-rl-project-eval-2/runs/q06e65rc</a>"
      ],
      "text/plain": [
       "<IPython.core.display.HTML object>"
      ]
     },
     "metadata": {},
     "output_type": "display_data"
    },
    {
     "data": {
      "application/vnd.jupyter.widget-view+json": {
       "model_id": "158694eb40c74b80993ce0c0fd6e9e1f",
       "version_major": 2,
       "version_minor": 0
      },
      "text/plain": [
       "VBox(children=(Label(value='0.002 MB of 0.002 MB uploaded\\r'), FloatProgress(value=1.0, max=1.0)))"
      ]
     },
     "metadata": {},
     "output_type": "display_data"
    },
    {
     "data": {
      "text/html": [
       "<style>\n",
       "    table.wandb td:nth-child(1) { padding: 0 10px; text-align: left ; width: auto;} td:nth-child(2) {text-align: left ; width: 100%}\n",
       "    .wandb-row { display: flex; flex-direction: row; flex-wrap: wrap; justify-content: flex-start; width: 100% }\n",
       "    .wandb-col { display: flex; flex-direction: column; flex-basis: 100%; flex: 1; padding: 10px; }\n",
       "    </style>\n",
       "<div class=\"wandb-row\"><div class=\"wandb-col\"><h3>Run history:</h3><br/><table class=\"wandb\"><tr><td>DQN_SpaceInvaders/episode_length</td><td>▆▃▄▆▂▇▂▄▅█▂▂▆▄▃▁▄▅▅▂▃▃▁▆▃▄▃▃▆▆▂▄▂▃▅▂▂▃▃▃</td></tr><tr><td>DQN_SpaceInvaders/episode_score</td><td>▆▄▅▅▅▅▄▃█▇▃▂▅▄▃▁▃▅▆▄▃▄▃▅▃▄▃▂▄▅▃▅▄▄▅▅▃▃▅▅</td></tr><tr><td>episode_length</td><td>▆▃▄▆▂▇▂▄▅█▂▂▆▄▃▁▄▅▅▂▃▃▁▆▃▄▃▃▆▆▂▄▂▃▅▂▂▃▃▃</td></tr><tr><td>episode_lives</td><td>▁▁▁▁▁▁▁▁▁▁▁▁▁▁▁▁▁▁▁▁▁▁▁▁▁▁▁▁▁▁▁▁▁▁▁▁▁▁▁▁</td></tr><tr><td>episode_score</td><td>▆▄▅▅▅▅▄▃█▇▃▂▅▄▃▁▃▅▆▄▃▄▃▅▃▄▃▂▄▅▃▅▄▄▅▅▃▃▅▅</td></tr><tr><td>episode_time</td><td>▁▁▁▂▂▂▂▂▂▃▃▃▃▃▃▄▄▄▄▄▅▅▅▅▅▅▆▆▆▆▆▇▇▇▇▇▇███</td></tr><tr><td>run_frame_number</td><td>▁▁▁▂▂▂▂▂▂▃▃▃▃▃▄▄▄▄▄▄▅▅▅▅▅▅▆▆▆▆▆▇▇▇▇▇▇███</td></tr></table><br/></div><div class=\"wandb-col\"><h3>Run summary:</h3><br/><table class=\"wandb\"><tr><td>DQN_SpaceInvaders/episode_length</td><td>682</td></tr><tr><td>DQN_SpaceInvaders/episode_score</td><td>605.0</td></tr><tr><td>episode_length</td><td>682</td></tr><tr><td>episode_lives</td><td>0</td></tr><tr><td>episode_score</td><td>605.0</td></tr><tr><td>episode_time</td><td>41.40322</td></tr><tr><td>run_frame_number</td><td>166767</td></tr></table><br/></div></div>"
      ],
      "text/plain": [
       "<IPython.core.display.HTML object>"
      ]
     },
     "metadata": {},
     "output_type": "display_data"
    },
    {
     "data": {
      "text/html": [
       " View run <strong style=\"color:#cdcd00\">DQN_SpaceInvaders_1_2024-02-13-23-02-31</strong> at: <a href='https://wandb.ai/appliedtheta/solen-rl-project-eval-2/runs/q06e65rc' target=\"_blank\">https://wandb.ai/appliedtheta/solen-rl-project-eval-2/runs/q06e65rc</a><br/>Synced 5 W&B file(s), 0 media file(s), 0 artifact file(s) and 0 other file(s)"
      ],
      "text/plain": [
       "<IPython.core.display.HTML object>"
      ]
     },
     "metadata": {},
     "output_type": "display_data"
    },
    {
     "data": {
      "text/html": [
       "Find logs at: <code>/home/sequenzia/dev/repos/atari-rl/logs/wandb/run-20240213_230314-q06e65rc/logs</code>"
      ],
      "text/plain": [
       "<IPython.core.display.HTML object>"
      ]
     },
     "metadata": {},
     "output_type": "display_data"
    },
    {
     "name": "stdout",
     "output_type": "stream",
     "text": [
      "Saving to /home/sequenzia/dev/repos/atari-rl/data/evals/DQN_2024-02-13-23-00-32/spaceinvaders.parquet\n",
      "\n",
      "Loading /home/sequenzia/dev/repos/atari-rl/agents/dqn/ALE-Qbert-v5_1/best_model.zip\n",
      "\n",
      "Stacking 4 frames\n"
     ]
    },
    {
     "name": "stderr",
     "output_type": "stream",
     "text": [
      "/home/sequenzia/dev/repos/stable-baselines3/stable_baselines3/common/save_util.py:166: UserWarning: Could not deserialize object exploration_schedule. Consider using `custom_objects` argument to replace this object.\n",
      "Exception: Can't get attribute '_function_setstate' on <module 'cloudpickle.cloudpickle' from '/home/sequenzia/anaconda3/envs/gym/lib/python3.9/site-packages/cloudpickle/cloudpickle.py'>\n",
      "  warnings.warn(\n"
     ]
    },
    {
     "name": "stdout",
     "output_type": "stream",
     "text": [
      "\n",
      "\n",
      "DQN_Qbert: 1 EPISODE: 1\n",
      "Episode Score: 800.00\n",
      "Episode Length: 583\n",
      "\n",
      "\n",
      "DQN_Qbert: 1 EPISODE: 2\n",
      "Episode Score: 11900.00\n",
      "Episode Length: 2114\n",
      "\n",
      "\n",
      "DQN_Qbert: 1 EPISODE: 3\n",
      "Episode Score: 12300.00\n",
      "Episode Length: 1468\n",
      "\n",
      "\n",
      "DQN_Qbert: 1 EPISODE: 4\n",
      "Episode Score: 8250.00\n",
      "Episode Length: 940\n",
      "\n",
      "\n",
      "DQN_Qbert: 1 EPISODE: 5\n",
      "Episode Score: 15350.00\n",
      "Episode Length: 1462\n",
      "\n",
      "\n",
      "DQN_Qbert: 1 EPISODE: 6\n",
      "Episode Score: 8250.00\n",
      "Episode Length: 930\n",
      "\n",
      "\n",
      "DQN_Qbert: 1 EPISODE: 7\n",
      "Episode Score: 15675.00\n",
      "Episode Length: 1680\n",
      "\n",
      "\n",
      "DQN_Qbert: 1 EPISODE: 8\n",
      "Episode Score: 8200.00\n",
      "Episode Length: 974\n",
      "\n",
      "\n",
      "DQN_Qbert: 1 EPISODE: 9\n",
      "Episode Score: 19950.00\n",
      "Episode Length: 2140\n",
      "\n",
      "\n",
      "DQN_Qbert: 1 EPISODE: 10\n",
      "Episode Score: 14975.00\n",
      "Episode Length: 1602\n",
      "\n",
      "\n",
      "DQN_Qbert: 1 EPISODE: 11\n",
      "Episode Score: 15300.00\n",
      "Episode Length: 1545\n",
      "\n",
      "\n",
      "DQN_Qbert: 1 EPISODE: 12\n",
      "Episode Score: 11350.00\n",
      "Episode Length: 1069\n",
      "\n",
      "\n",
      "DQN_Qbert: 1 EPISODE: 13\n",
      "Episode Score: 15825.00\n",
      "Episode Length: 1815\n",
      "\n",
      "\n",
      "DQN_Qbert: 1 EPISODE: 14\n",
      "Episode Score: 16725.00\n",
      "Episode Length: 1960\n",
      "\n",
      "\n",
      "DQN_Qbert: 1 EPISODE: 15\n",
      "Episode Score: 8100.00\n",
      "Episode Length: 964\n",
      "\n",
      "\n",
      "DQN_Qbert: 1 EPISODE: 16\n",
      "Episode Score: 15425.00\n",
      "Episode Length: 1677\n",
      "\n",
      "\n",
      "DQN_Qbert: 1 EPISODE: 17\n",
      "Episode Score: 11625.00\n",
      "Episode Length: 1115\n",
      "\n",
      "\n",
      "DQN_Qbert: 1 EPISODE: 18\n",
      "Episode Score: 15750.00\n",
      "Episode Length: 1474\n",
      "\n",
      "\n",
      "DQN_Qbert: 1 EPISODE: 19\n",
      "Episode Score: 15725.00\n",
      "Episode Length: 1967\n",
      "\n",
      "\n",
      "DQN_Qbert: 1 EPISODE: 20\n",
      "Episode Score: 8400.00\n",
      "Episode Length: 998\n",
      "\n",
      "\n",
      "DQN_Qbert: 1 EPISODE: 21\n",
      "Episode Score: 16525.00\n",
      "Episode Length: 1958\n",
      "\n",
      "\n",
      "DQN_Qbert: 1 EPISODE: 22\n",
      "Episode Score: 12200.00\n",
      "Episode Length: 1262\n",
      "\n",
      "\n",
      "DQN_Qbert: 1 EPISODE: 23\n",
      "Episode Score: 15950.00\n",
      "Episode Length: 1973\n",
      "\n",
      "\n",
      "DQN_Qbert: 1 EPISODE: 24\n",
      "Episode Score: 11325.00\n",
      "Episode Length: 1193\n",
      "\n",
      "\n",
      "DQN_Qbert: 1 EPISODE: 25\n",
      "Episode Score: 16500.00\n",
      "Episode Length: 1418\n",
      "\n",
      "\n",
      "DQN_Qbert: 1 EPISODE: 26\n",
      "Episode Score: 12150.00\n",
      "Episode Length: 1087\n",
      "\n",
      "\n",
      "DQN_Qbert: 1 EPISODE: 27\n",
      "Episode Score: 16100.00\n",
      "Episode Length: 1768\n",
      "\n",
      "\n",
      "DQN_Qbert: 1 EPISODE: 28\n",
      "Episode Score: 16325.00\n",
      "Episode Length: 2007\n"
     ]
    },
    {
     "data": {
      "text/html": [
       "Tracking run with wandb version 0.16.3"
      ],
      "text/plain": [
       "<IPython.core.display.HTML object>"
      ]
     },
     "metadata": {},
     "output_type": "display_data"
    },
    {
     "data": {
      "text/html": [
       "Run data is saved locally in <code>/home/sequenzia/dev/repos/atari-rl/logs/wandb/run-20240213_230410-7en2289c</code>"
      ],
      "text/plain": [
       "<IPython.core.display.HTML object>"
      ]
     },
     "metadata": {},
     "output_type": "display_data"
    },
    {
     "data": {
      "text/html": [
       "Syncing run <strong><a href='https://wandb.ai/appliedtheta/solen-rl-project-eval-2/runs/7en2289c' target=\"_blank\">DQN_Qbert_1_2024-02-13-23-03-28</a></strong> to <a href='https://wandb.ai/appliedtheta/solen-rl-project-eval-2' target=\"_blank\">Weights & Biases</a> (<a href='https://wandb.me/run' target=\"_blank\">docs</a>)<br/>"
      ],
      "text/plain": [
       "<IPython.core.display.HTML object>"
      ]
     },
     "metadata": {},
     "output_type": "display_data"
    },
    {
     "data": {
      "text/html": [
       " View project at <a href='https://wandb.ai/appliedtheta/solen-rl-project-eval-2' target=\"_blank\">https://wandb.ai/appliedtheta/solen-rl-project-eval-2</a>"
      ],
      "text/plain": [
       "<IPython.core.display.HTML object>"
      ]
     },
     "metadata": {},
     "output_type": "display_data"
    },
    {
     "data": {
      "text/html": [
       " View run at <a href='https://wandb.ai/appliedtheta/solen-rl-project-eval-2/runs/7en2289c' target=\"_blank\">https://wandb.ai/appliedtheta/solen-rl-project-eval-2/runs/7en2289c</a>"
      ],
      "text/plain": [
       "<IPython.core.display.HTML object>"
      ]
     },
     "metadata": {},
     "output_type": "display_data"
    },
    {
     "data": {
      "application/vnd.jupyter.widget-view+json": {
       "model_id": "9de0dbe7a20646e1aae9aacfbefffc61",
       "version_major": 2,
       "version_minor": 0
      },
      "text/plain": [
       "VBox(children=(Label(value='0.018 MB of 0.018 MB uploaded\\r'), FloatProgress(value=1.0, max=1.0)))"
      ]
     },
     "metadata": {},
     "output_type": "display_data"
    },
    {
     "data": {
      "text/html": [
       "<style>\n",
       "    table.wandb td:nth-child(1) { padding: 0 10px; text-align: left ; width: auto;} td:nth-child(2) {text-align: left ; width: 100%}\n",
       "    .wandb-row { display: flex; flex-direction: row; flex-wrap: wrap; justify-content: flex-start; width: 100% }\n",
       "    .wandb-col { display: flex; flex-direction: column; flex-basis: 100%; flex: 1; padding: 10px; }\n",
       "    </style>\n",
       "<div class=\"wandb-row\"><div class=\"wandb-col\"><h3>Run history:</h3><br/><table class=\"wandb\"><tr><td>DQN_Qbert/episode_length</td><td>▁█▅▃▅▃▆▃█▆▅▃▇▇▃▆▃▅▇▃▇▄▇▄▅▃▆▇</td></tr><tr><td>DQN_Qbert/episode_score</td><td>▁▅▅▄▆▄▆▄█▆▆▅▆▇▄▆▅▆▆▄▇▅▇▅▇▅▇▇</td></tr><tr><td>episode_length</td><td>▁█▅▃▅▃▆▃█▆▅▃▇▇▃▆▃▅▇▃▇▄▇▄▅▃▆▇</td></tr><tr><td>episode_lives</td><td>▁▁▁▁▁▁▁▁▁▁▁▁▁▁▁▁▁▁▁▁▁▁▁▁▁▁▁▁</td></tr><tr><td>episode_score</td><td>▁▅▅▄▆▄▆▄█▆▆▅▆▇▄▆▅▆▆▄▇▅▇▅▇▅▇▇</td></tr><tr><td>episode_time</td><td>▁▁▂▂▂▂▃▃▃▃▄▄▄▄▅▅▅▅▆▆▆▆▇▇▇▇██</td></tr><tr><td>run_frame_number</td><td>▁▁▂▂▂▂▂▃▃▃▄▄▄▄▅▅▅▅▆▆▆▆▇▇▇▇██</td></tr></table><br/></div><div class=\"wandb-col\"><h3>Run summary:</h3><br/><table class=\"wandb\"><tr><td>DQN_Qbert/episode_length</td><td>2007</td></tr><tr><td>DQN_Qbert/episode_score</td><td>16325.0</td></tr><tr><td>episode_length</td><td>2007</td></tr><tr><td>episode_lives</td><td>0</td></tr><tr><td>episode_score</td><td>16325.0</td></tr><tr><td>episode_time</td><td>41.10059</td></tr><tr><td>run_frame_number</td><td>164532</td></tr></table><br/></div></div>"
      ],
      "text/plain": [
       "<IPython.core.display.HTML object>"
      ]
     },
     "metadata": {},
     "output_type": "display_data"
    },
    {
     "data": {
      "text/html": [
       " View run <strong style=\"color:#cdcd00\">DQN_Qbert_1_2024-02-13-23-03-28</strong> at: <a href='https://wandb.ai/appliedtheta/solen-rl-project-eval-2/runs/7en2289c' target=\"_blank\">https://wandb.ai/appliedtheta/solen-rl-project-eval-2/runs/7en2289c</a><br/>Synced 5 W&B file(s), 0 media file(s), 0 artifact file(s) and 0 other file(s)"
      ],
      "text/plain": [
       "<IPython.core.display.HTML object>"
      ]
     },
     "metadata": {},
     "output_type": "display_data"
    },
    {
     "data": {
      "text/html": [
       "Find logs at: <code>/home/sequenzia/dev/repos/atari-rl/logs/wandb/run-20240213_230410-7en2289c/logs</code>"
      ],
      "text/plain": [
       "<IPython.core.display.HTML object>"
      ]
     },
     "metadata": {},
     "output_type": "display_data"
    },
    {
     "name": "stdout",
     "output_type": "stream",
     "text": [
      "Saving to /home/sequenzia/dev/repos/atari-rl/data/evals/DQN_2024-02-13-23-00-32/qbert.parquet\n",
      "\n",
      "Loading /home/sequenzia/dev/repos/atari-rl/agents/dqn/ALE-Seaquest-v5_1/best_model.zip\n",
      "\n",
      "Stacking 4 frames\n"
     ]
    },
    {
     "name": "stderr",
     "output_type": "stream",
     "text": [
      "/home/sequenzia/dev/repos/stable-baselines3/stable_baselines3/common/save_util.py:166: UserWarning: Could not deserialize object exploration_schedule. Consider using `custom_objects` argument to replace this object.\n",
      "Exception: Can't get attribute '_function_setstate' on <module 'cloudpickle.cloudpickle' from '/home/sequenzia/anaconda3/envs/gym/lib/python3.9/site-packages/cloudpickle/cloudpickle.py'>\n",
      "  warnings.warn(\n"
     ]
    },
    {
     "name": "stdout",
     "output_type": "stream",
     "text": [
      "\n",
      "\n",
      "DQN_Seaquest: 1 EPISODE: 1\n",
      "Episode Score: 2020.00\n",
      "Episode Length: 2491\n",
      "\n",
      "\n",
      "DQN_Seaquest: 1 EPISODE: 2\n",
      "Episode Score: 2340.00\n",
      "Episode Length: 2574\n",
      "\n",
      "\n",
      "DQN_Seaquest: 1 EPISODE: 3\n",
      "Episode Score: 2460.00\n",
      "Episode Length: 2545\n",
      "\n",
      "\n",
      "DQN_Seaquest: 1 EPISODE: 4\n",
      "Episode Score: 1540.00\n",
      "Episode Length: 2300\n",
      "\n",
      "\n",
      "DQN_Seaquest: 1 EPISODE: 5\n",
      "Episode Score: 1340.00\n",
      "Episode Length: 2125\n",
      "\n",
      "\n",
      "DQN_Seaquest: 1 EPISODE: 6\n",
      "Episode Score: 1180.00\n",
      "Episode Length: 1731\n",
      "\n",
      "\n",
      "DQN_Seaquest: 1 EPISODE: 7\n",
      "Episode Score: 1620.00\n",
      "Episode Length: 2146\n",
      "\n",
      "\n",
      "DQN_Seaquest: 1 EPISODE: 8\n",
      "Episode Score: 2080.00\n",
      "Episode Length: 2583\n",
      "\n",
      "\n",
      "DQN_Seaquest: 1 EPISODE: 9\n",
      "Episode Score: 1780.00\n",
      "Episode Length: 2080\n",
      "\n",
      "\n",
      "DQN_Seaquest: 1 EPISODE: 10\n",
      "Episode Score: 1180.00\n",
      "Episode Length: 1821\n",
      "\n",
      "\n",
      "DQN_Seaquest: 1 EPISODE: 11\n",
      "Episode Score: 1760.00\n",
      "Episode Length: 2190\n",
      "\n",
      "\n",
      "DQN_Seaquest: 1 EPISODE: 12\n",
      "Episode Score: 1100.00\n",
      "Episode Length: 1646\n",
      "\n",
      "\n",
      "DQN_Seaquest: 1 EPISODE: 13\n",
      "Episode Score: 2440.00\n",
      "Episode Length: 2814\n",
      "\n",
      "\n",
      "DQN_Seaquest: 1 EPISODE: 14\n",
      "Episode Score: 2120.00\n",
      "Episode Length: 2559\n",
      "\n",
      "\n",
      "DQN_Seaquest: 1 EPISODE: 15\n",
      "Episode Score: 2000.00\n",
      "Episode Length: 2613\n",
      "\n",
      "\n",
      "DQN_Seaquest: 1 EPISODE: 16\n",
      "Episode Score: 2740.00\n",
      "Episode Length: 3178\n",
      "\n",
      "\n",
      "DQN_Seaquest: 1 EPISODE: 17\n",
      "Episode Score: 1600.00\n",
      "Episode Length: 2174\n"
     ]
    },
    {
     "data": {
      "text/html": [
       "Tracking run with wandb version 0.16.3"
      ],
      "text/plain": [
       "<IPython.core.display.HTML object>"
      ]
     },
     "metadata": {},
     "output_type": "display_data"
    },
    {
     "data": {
      "text/html": [
       "Run data is saved locally in <code>/home/sequenzia/dev/repos/atari-rl/logs/wandb/run-20240213_230502-x6e5xutq</code>"
      ],
      "text/plain": [
       "<IPython.core.display.HTML object>"
      ]
     },
     "metadata": {},
     "output_type": "display_data"
    },
    {
     "data": {
      "text/html": [
       "Syncing run <strong><a href='https://wandb.ai/appliedtheta/solen-rl-project-eval-2/runs/x6e5xutq' target=\"_blank\">DQN_Seaquest_1_2024-02-13-23-04-22</a></strong> to <a href='https://wandb.ai/appliedtheta/solen-rl-project-eval-2' target=\"_blank\">Weights & Biases</a> (<a href='https://wandb.me/run' target=\"_blank\">docs</a>)<br/>"
      ],
      "text/plain": [
       "<IPython.core.display.HTML object>"
      ]
     },
     "metadata": {},
     "output_type": "display_data"
    },
    {
     "data": {
      "text/html": [
       " View project at <a href='https://wandb.ai/appliedtheta/solen-rl-project-eval-2' target=\"_blank\">https://wandb.ai/appliedtheta/solen-rl-project-eval-2</a>"
      ],
      "text/plain": [
       "<IPython.core.display.HTML object>"
      ]
     },
     "metadata": {},
     "output_type": "display_data"
    },
    {
     "data": {
      "text/html": [
       " View run at <a href='https://wandb.ai/appliedtheta/solen-rl-project-eval-2/runs/x6e5xutq' target=\"_blank\">https://wandb.ai/appliedtheta/solen-rl-project-eval-2/runs/x6e5xutq</a>"
      ],
      "text/plain": [
       "<IPython.core.display.HTML object>"
      ]
     },
     "metadata": {},
     "output_type": "display_data"
    },
    {
     "data": {
      "application/vnd.jupyter.widget-view+json": {
       "model_id": "7c6a86879f584e5aa8a85b6851fe9eec",
       "version_major": 2,
       "version_minor": 0
      },
      "text/plain": [
       "VBox(children=(Label(value='0.018 MB of 0.018 MB uploaded\\r'), FloatProgress(value=1.0, max=1.0)))"
      ]
     },
     "metadata": {},
     "output_type": "display_data"
    },
    {
     "data": {
      "text/html": [
       "<style>\n",
       "    table.wandb td:nth-child(1) { padding: 0 10px; text-align: left ; width: auto;} td:nth-child(2) {text-align: left ; width: 100%}\n",
       "    .wandb-row { display: flex; flex-direction: row; flex-wrap: wrap; justify-content: flex-start; width: 100% }\n",
       "    .wandb-col { display: flex; flex-direction: column; flex-basis: 100%; flex: 1; padding: 10px; }\n",
       "    </style>\n",
       "<div class=\"wandb-row\"><div class=\"wandb-col\"><h3>Run history:</h3><br/><table class=\"wandb\"><tr><td>DQN_Seaquest/episode_length</td><td>▅▅▅▄▃▁▃▅▃▂▃▁▆▅▅█▃</td></tr><tr><td>DQN_Seaquest/episode_score</td><td>▅▆▇▃▂▁▃▅▄▁▄▁▇▅▅█▃</td></tr><tr><td>episode_length</td><td>▅▅▅▄▃▁▃▅▃▂▃▁▆▅▅█▃</td></tr><tr><td>episode_lives</td><td>▁▁▁▁▁▁▁▁▁▁▁▁▁▁▁▁▁</td></tr><tr><td>episode_score</td><td>▅▆▇▃▂▁▃▅▄▁▄▁▇▅▅█▃</td></tr><tr><td>episode_time</td><td>▁▁▂▃▃▃▄▄▅▅▅▆▆▇▇██</td></tr><tr><td>run_frame_number</td><td>▁▁▂▂▃▃▄▄▄▅▅▅▆▆▇██</td></tr></table><br/></div><div class=\"wandb-col\"><h3>Run summary:</h3><br/><table class=\"wandb\"><tr><td>DQN_Seaquest/episode_length</td><td>2174</td></tr><tr><td>DQN_Seaquest/episode_score</td><td>1600.0</td></tr><tr><td>episode_length</td><td>2174</td></tr><tr><td>episode_lives</td><td>0</td></tr><tr><td>episode_score</td><td>1600.0</td></tr><tr><td>episode_time</td><td>37.82026</td></tr><tr><td>run_frame_number</td><td>158239</td></tr></table><br/></div></div>"
      ],
      "text/plain": [
       "<IPython.core.display.HTML object>"
      ]
     },
     "metadata": {},
     "output_type": "display_data"
    },
    {
     "data": {
      "text/html": [
       " View run <strong style=\"color:#cdcd00\">DQN_Seaquest_1_2024-02-13-23-04-22</strong> at: <a href='https://wandb.ai/appliedtheta/solen-rl-project-eval-2/runs/x6e5xutq' target=\"_blank\">https://wandb.ai/appliedtheta/solen-rl-project-eval-2/runs/x6e5xutq</a><br/>Synced 5 W&B file(s), 0 media file(s), 0 artifact file(s) and 0 other file(s)"
      ],
      "text/plain": [
       "<IPython.core.display.HTML object>"
      ]
     },
     "metadata": {},
     "output_type": "display_data"
    },
    {
     "data": {
      "text/html": [
       "Find logs at: <code>/home/sequenzia/dev/repos/atari-rl/logs/wandb/run-20240213_230502-x6e5xutq/logs</code>"
      ],
      "text/plain": [
       "<IPython.core.display.HTML object>"
      ]
     },
     "metadata": {},
     "output_type": "display_data"
    },
    {
     "name": "stdout",
     "output_type": "stream",
     "text": [
      "Saving to /home/sequenzia/dev/repos/atari-rl/data/evals/DQN_2024-02-13-23-00-32/seaquest.parquet\n",
      "\n",
      "Loading /home/sequenzia/dev/repos/atari-rl/agents/dqn/ALE-Centipede-v5_1/best_model.zip\n",
      "\n",
      "Stacking 4 frames\n"
     ]
    },
    {
     "name": "stderr",
     "output_type": "stream",
     "text": [
      "/home/sequenzia/dev/repos/stable-baselines3/stable_baselines3/common/save_util.py:166: UserWarning: Could not deserialize object exploration_schedule. Consider using `custom_objects` argument to replace this object.\n",
      "Exception: Can't get attribute '_function_setstate' on <module 'cloudpickle.cloudpickle' from '/home/sequenzia/anaconda3/envs/gym/lib/python3.9/site-packages/cloudpickle/cloudpickle.py'>\n",
      "  warnings.warn(\n"
     ]
    },
    {
     "name": "stdout",
     "output_type": "stream",
     "text": [
      "\n",
      "\n",
      "DQN_Centipede: 1 EPISODE: 1\n",
      "Episode Score: 2172.00\n",
      "Episode Length: 700\n",
      "\n",
      "\n",
      "DQN_Centipede: 1 EPISODE: 2\n",
      "Episode Score: 7848.00\n",
      "Episode Length: 974\n",
      "\n",
      "\n",
      "DQN_Centipede: 1 EPISODE: 3\n",
      "Episode Score: 4866.00\n",
      "Episode Length: 1052\n",
      "\n",
      "\n",
      "DQN_Centipede: 1 EPISODE: 4\n",
      "Episode Score: 3213.00\n",
      "Episode Length: 819\n",
      "\n",
      "\n",
      "DQN_Centipede: 1 EPISODE: 5\n",
      "Episode Score: 3074.00\n",
      "Episode Length: 777\n",
      "\n",
      "\n",
      "DQN_Centipede: 1 EPISODE: 6\n",
      "Episode Score: 3567.00\n",
      "Episode Length: 1024\n",
      "\n",
      "\n",
      "DQN_Centipede: 1 EPISODE: 7\n",
      "Episode Score: 6081.00\n",
      "Episode Length: 1403\n",
      "\n",
      "\n",
      "DQN_Centipede: 1 EPISODE: 8\n",
      "Episode Score: 5319.00\n",
      "Episode Length: 769\n",
      "\n",
      "\n",
      "DQN_Centipede: 1 EPISODE: 9\n",
      "Episode Score: 2590.00\n",
      "Episode Length: 985\n",
      "\n",
      "\n",
      "DQN_Centipede: 1 EPISODE: 10\n",
      "Episode Score: 7919.00\n",
      "Episode Length: 1216\n",
      "\n",
      "\n",
      "DQN_Centipede: 1 EPISODE: 11\n",
      "Episode Score: 2194.00\n",
      "Episode Length: 615\n",
      "\n",
      "\n",
      "DQN_Centipede: 1 EPISODE: 12\n",
      "Episode Score: 5199.00\n",
      "Episode Length: 1076\n",
      "\n",
      "\n",
      "DQN_Centipede: 1 EPISODE: 13\n",
      "Episode Score: 1691.00\n",
      "Episode Length: 1145\n",
      "\n",
      "\n",
      "DQN_Centipede: 1 EPISODE: 14\n",
      "Episode Score: 8416.00\n",
      "Episode Length: 1433\n",
      "\n",
      "\n",
      "DQN_Centipede: 1 EPISODE: 15\n",
      "Episode Score: 3158.00\n",
      "Episode Length: 1314\n",
      "\n",
      "\n",
      "DQN_Centipede: 1 EPISODE: 16\n",
      "Episode Score: 4165.00\n",
      "Episode Length: 1132\n",
      "\n",
      "\n",
      "DQN_Centipede: 1 EPISODE: 17\n",
      "Episode Score: 3032.00\n",
      "Episode Length: 1006\n",
      "\n",
      "\n",
      "DQN_Centipede: 1 EPISODE: 18\n",
      "Episode Score: 2278.00\n",
      "Episode Length: 909\n",
      "\n",
      "\n",
      "DQN_Centipede: 1 EPISODE: 19\n",
      "Episode Score: 2054.00\n",
      "Episode Length: 999\n",
      "\n",
      "\n",
      "DQN_Centipede: 1 EPISODE: 20\n",
      "Episode Score: 2908.00\n",
      "Episode Length: 640\n",
      "\n",
      "\n",
      "DQN_Centipede: 1 EPISODE: 21\n",
      "Episode Score: 2699.00\n",
      "Episode Length: 752\n",
      "\n",
      "\n",
      "DQN_Centipede: 1 EPISODE: 22\n",
      "Episode Score: 6482.00\n",
      "Episode Length: 1016\n",
      "\n",
      "\n",
      "DQN_Centipede: 1 EPISODE: 23\n",
      "Episode Score: 3302.00\n",
      "Episode Length: 709\n",
      "\n",
      "\n",
      "DQN_Centipede: 1 EPISODE: 24\n",
      "Episode Score: 5047.00\n",
      "Episode Length: 1461\n",
      "\n",
      "\n",
      "DQN_Centipede: 1 EPISODE: 25\n",
      "Episode Score: 4344.00\n",
      "Episode Length: 941\n",
      "\n",
      "\n",
      "DQN_Centipede: 1 EPISODE: 26\n",
      "Episode Score: 1644.00\n",
      "Episode Length: 854\n",
      "\n",
      "\n",
      "DQN_Centipede: 1 EPISODE: 27\n",
      "Episode Score: 1405.00\n",
      "Episode Length: 641\n",
      "\n",
      "\n",
      "DQN_Centipede: 1 EPISODE: 28\n",
      "Episode Score: 2786.00\n",
      "Episode Length: 963\n",
      "\n",
      "\n",
      "DQN_Centipede: 1 EPISODE: 29\n",
      "Episode Score: 4712.00\n",
      "Episode Length: 1059\n",
      "\n",
      "\n",
      "DQN_Centipede: 1 EPISODE: 30\n",
      "Episode Score: 4205.00\n",
      "Episode Length: 915\n",
      "\n",
      "\n",
      "DQN_Centipede: 1 EPISODE: 31\n",
      "Episode Score: 1764.00\n",
      "Episode Length: 557\n",
      "\n",
      "\n",
      "DQN_Centipede: 1 EPISODE: 32\n",
      "Episode Score: 2474.00\n",
      "Episode Length: 980\n",
      "\n",
      "\n",
      "DQN_Centipede: 1 EPISODE: 33\n",
      "Episode Score: 5743.00\n",
      "Episode Length: 1458\n",
      "\n",
      "\n",
      "DQN_Centipede: 1 EPISODE: 34\n",
      "Episode Score: 10958.00\n",
      "Episode Length: 1585\n",
      "\n",
      "\n",
      "DQN_Centipede: 1 EPISODE: 35\n",
      "Episode Score: 4521.00\n",
      "Episode Length: 1037\n",
      "\n",
      "\n",
      "DQN_Centipede: 1 EPISODE: 36\n",
      "Episode Score: 4226.00\n",
      "Episode Length: 625\n",
      "\n",
      "\n",
      "DQN_Centipede: 1 EPISODE: 37\n",
      "Episode Score: 2426.00\n",
      "Episode Length: 1019\n",
      "\n",
      "\n",
      "DQN_Centipede: 1 EPISODE: 38\n",
      "Episode Score: 7132.00\n",
      "Episode Length: 1224\n",
      "\n",
      "\n",
      "DQN_Centipede: 1 EPISODE: 39\n",
      "Episode Score: 3613.00\n",
      "Episode Length: 633\n",
      "\n",
      "\n",
      "DQN_Centipede: 1 EPISODE: 40\n",
      "Episode Score: 2343.00\n",
      "Episode Length: 1488\n",
      "\n",
      "\n",
      "DQN_Centipede: 1 EPISODE: 41\n",
      "Episode Score: 6799.00\n",
      "Episode Length: 887\n",
      "\n",
      "\n",
      "DQN_Centipede: 1 EPISODE: 42\n",
      "Episode Score: 4781.00\n",
      "Episode Length: 1021\n"
     ]
    },
    {
     "data": {
      "text/html": [
       "Tracking run with wandb version 0.16.3"
      ],
      "text/plain": [
       "<IPython.core.display.HTML object>"
      ]
     },
     "metadata": {},
     "output_type": "display_data"
    },
    {
     "data": {
      "text/html": [
       "Run data is saved locally in <code>/home/sequenzia/dev/repos/atari-rl/logs/wandb/run-20240213_230601-gqxv5iih</code>"
      ],
      "text/plain": [
       "<IPython.core.display.HTML object>"
      ]
     },
     "metadata": {},
     "output_type": "display_data"
    },
    {
     "data": {
      "text/html": [
       "Syncing run <strong><a href='https://wandb.ai/appliedtheta/solen-rl-project-eval-2/runs/gqxv5iih' target=\"_blank\">DQN_Centipede_1_2024-02-13-23-05-19</a></strong> to <a href='https://wandb.ai/appliedtheta/solen-rl-project-eval-2' target=\"_blank\">Weights & Biases</a> (<a href='https://wandb.me/run' target=\"_blank\">docs</a>)<br/>"
      ],
      "text/plain": [
       "<IPython.core.display.HTML object>"
      ]
     },
     "metadata": {},
     "output_type": "display_data"
    },
    {
     "data": {
      "text/html": [
       " View project at <a href='https://wandb.ai/appliedtheta/solen-rl-project-eval-2' target=\"_blank\">https://wandb.ai/appliedtheta/solen-rl-project-eval-2</a>"
      ],
      "text/plain": [
       "<IPython.core.display.HTML object>"
      ]
     },
     "metadata": {},
     "output_type": "display_data"
    },
    {
     "data": {
      "text/html": [
       " View run at <a href='https://wandb.ai/appliedtheta/solen-rl-project-eval-2/runs/gqxv5iih' target=\"_blank\">https://wandb.ai/appliedtheta/solen-rl-project-eval-2/runs/gqxv5iih</a>"
      ],
      "text/plain": [
       "<IPython.core.display.HTML object>"
      ]
     },
     "metadata": {},
     "output_type": "display_data"
    },
    {
     "data": {
      "application/vnd.jupyter.widget-view+json": {
       "model_id": "4abf4391a0454a57a411ced2121cdb97",
       "version_major": 2,
       "version_minor": 0
      },
      "text/plain": [
       "VBox(children=(Label(value='0.002 MB of 0.002 MB uploaded\\r'), FloatProgress(value=1.0, max=1.0)))"
      ]
     },
     "metadata": {},
     "output_type": "display_data"
    },
    {
     "data": {
      "text/html": [
       "<style>\n",
       "    table.wandb td:nth-child(1) { padding: 0 10px; text-align: left ; width: auto;} td:nth-child(2) {text-align: left ; width: 100%}\n",
       "    .wandb-row { display: flex; flex-direction: row; flex-wrap: wrap; justify-content: flex-start; width: 100% }\n",
       "    .wandb-col { display: flex; flex-direction: column; flex-basis: 100%; flex: 1; padding: 10px; }\n",
       "    </style>\n",
       "<div class=\"wandb-row\"><div class=\"wandb-col\"><h3>Run history:</h3><br/><table class=\"wandb\"><tr><td>DQN_Centipede/episode_length</td><td>▂▄▄▃▂▄▇▂▄▅▁▅▅▇▆▅▄▃▄▂▄▂▇▄▃▂▄▄▃▁▄▇█▄▁▄▆▂▇▄</td></tr><tr><td>DQN_Centipede/episode_score</td><td>▂▆▄▂▂▃▄▄▂▆▂▄▁▆▂▃▂▂▁▂▅▂▄▃▁▁▂▃▃▁▂▄█▃▃▂▅▃▂▃</td></tr><tr><td>episode_length</td><td>▂▄▄▃▂▄▇▂▄▅▁▅▅▇▆▅▄▃▄▂▄▂▇▄▃▂▄▄▃▁▄▇█▄▁▄▆▂▇▄</td></tr><tr><td>episode_lives</td><td>▁▁▁▁▁▁▁▁▁▁▁▁▁▁▁▁▁▁▁▁▁▁▁▁▁▁▁▁▁▁▁▁▁▁▁▁▁▁▁▁</td></tr><tr><td>episode_score</td><td>▂▆▄▂▂▃▄▄▂▆▂▄▁▆▂▃▂▂▁▂▅▂▄▃▁▁▂▃▃▁▂▄█▃▃▂▅▃▂▃</td></tr><tr><td>episode_time</td><td>▁▁▁▁▂▂▂▂▂▂▃▃▃▃▃▄▄▄▄▄▅▅▅▅▅▅▆▆▆▆▆▆▇▇▇▇▇▇██</td></tr><tr><td>run_frame_number</td><td>▁▁▁▁▂▂▂▂▂▃▃▃▃▃▃▄▄▄▄▄▅▅▅▅▅▅▆▆▆▆▆▆▇▇▇▇▇▇██</td></tr></table><br/></div><div class=\"wandb-col\"><h3>Run summary:</h3><br/><table class=\"wandb\"><tr><td>DQN_Centipede/episode_length</td><td>1021</td></tr><tr><td>DQN_Centipede/episode_score</td><td>4781.0</td></tr><tr><td>episode_length</td><td>1021</td></tr><tr><td>episode_lives</td><td>0</td></tr><tr><td>episode_score</td><td>4781.0</td></tr><tr><td>episode_time</td><td>41.96295</td></tr><tr><td>run_frame_number</td><td>167187</td></tr></table><br/></div></div>"
      ],
      "text/plain": [
       "<IPython.core.display.HTML object>"
      ]
     },
     "metadata": {},
     "output_type": "display_data"
    },
    {
     "data": {
      "text/html": [
       " View run <strong style=\"color:#cdcd00\">DQN_Centipede_1_2024-02-13-23-05-19</strong> at: <a href='https://wandb.ai/appliedtheta/solen-rl-project-eval-2/runs/gqxv5iih' target=\"_blank\">https://wandb.ai/appliedtheta/solen-rl-project-eval-2/runs/gqxv5iih</a><br/>Synced 5 W&B file(s), 0 media file(s), 0 artifact file(s) and 0 other file(s)"
      ],
      "text/plain": [
       "<IPython.core.display.HTML object>"
      ]
     },
     "metadata": {},
     "output_type": "display_data"
    },
    {
     "data": {
      "text/html": [
       "Find logs at: <code>/home/sequenzia/dev/repos/atari-rl/logs/wandb/run-20240213_230601-gqxv5iih/logs</code>"
      ],
      "text/plain": [
       "<IPython.core.display.HTML object>"
      ]
     },
     "metadata": {},
     "output_type": "display_data"
    },
    {
     "name": "stdout",
     "output_type": "stream",
     "text": [
      "Saving to /home/sequenzia/dev/repos/atari-rl/data/evals/DQN_2024-02-13-23-00-32/centipede.parquet\n",
      "\n",
      "Loading /home/sequenzia/dev/repos/atari-rl/agents/dqn/ALE-MsPacman-v5_1/best_model.zip\n",
      "\n",
      "Stacking 4 frames\n"
     ]
    },
    {
     "name": "stderr",
     "output_type": "stream",
     "text": [
      "/home/sequenzia/dev/repos/stable-baselines3/stable_baselines3/common/save_util.py:166: UserWarning: Could not deserialize object exploration_schedule. Consider using `custom_objects` argument to replace this object.\n",
      "Exception: Can't get attribute '_function_setstate' on <module 'cloudpickle.cloudpickle' from '/home/sequenzia/anaconda3/envs/gym/lib/python3.9/site-packages/cloudpickle/cloudpickle.py'>\n",
      "  warnings.warn(\n"
     ]
    },
    {
     "name": "stdout",
     "output_type": "stream",
     "text": [
      "\n",
      "\n",
      "DQN_MsPacman: 1 EPISODE: 1\n",
      "Episode Score: 2260.00\n",
      "Episode Length: 1285\n",
      "\n",
      "\n",
      "DQN_MsPacman: 1 EPISODE: 2\n",
      "Episode Score: 2340.00\n",
      "Episode Length: 863\n",
      "\n",
      "\n",
      "DQN_MsPacman: 1 EPISODE: 3\n",
      "Episode Score: 3350.00\n",
      "Episode Length: 1335\n",
      "\n",
      "\n",
      "DQN_MsPacman: 1 EPISODE: 4\n",
      "Episode Score: 3330.00\n",
      "Episode Length: 1005\n",
      "\n",
      "\n",
      "DQN_MsPacman: 1 EPISODE: 5\n",
      "Episode Score: 2700.00\n",
      "Episode Length: 895\n",
      "\n",
      "\n",
      "DQN_MsPacman: 1 EPISODE: 6\n",
      "Episode Score: 4660.00\n",
      "Episode Length: 1147\n",
      "\n",
      "\n",
      "DQN_MsPacman: 1 EPISODE: 7\n",
      "Episode Score: 2720.00\n",
      "Episode Length: 1053\n",
      "\n",
      "\n",
      "DQN_MsPacman: 1 EPISODE: 8\n",
      "Episode Score: 1990.00\n",
      "Episode Length: 877\n",
      "\n",
      "\n",
      "DQN_MsPacman: 1 EPISODE: 9\n",
      "Episode Score: 2060.00\n",
      "Episode Length: 971\n",
      "\n",
      "\n",
      "DQN_MsPacman: 1 EPISODE: 10\n",
      "Episode Score: 1870.00\n",
      "Episode Length: 897\n",
      "\n",
      "\n",
      "DQN_MsPacman: 1 EPISODE: 11\n",
      "Episode Score: 2150.00\n",
      "Episode Length: 1213\n",
      "\n",
      "\n",
      "DQN_MsPacman: 1 EPISODE: 12\n",
      "Episode Score: 3090.00\n",
      "Episode Length: 1261\n",
      "\n",
      "\n",
      "DQN_MsPacman: 1 EPISODE: 13\n",
      "Episode Score: 2920.00\n",
      "Episode Length: 1041\n",
      "\n",
      "\n",
      "DQN_MsPacman: 1 EPISODE: 14\n",
      "Episode Score: 3010.00\n",
      "Episode Length: 941\n",
      "\n",
      "\n",
      "DQN_MsPacman: 1 EPISODE: 15\n",
      "Episode Score: 4830.00\n",
      "Episode Length: 1109\n",
      "\n",
      "\n",
      "DQN_MsPacman: 1 EPISODE: 16\n",
      "Episode Score: 1800.00\n",
      "Episode Length: 869\n",
      "\n",
      "\n",
      "DQN_MsPacman: 1 EPISODE: 17\n",
      "Episode Score: 4070.00\n",
      "Episode Length: 1227\n",
      "\n",
      "\n",
      "DQN_MsPacman: 1 EPISODE: 18\n",
      "Episode Score: 2080.00\n",
      "Episode Length: 909\n",
      "\n",
      "\n",
      "DQN_MsPacman: 1 EPISODE: 19\n",
      "Episode Score: 2290.00\n",
      "Episode Length: 839\n",
      "\n",
      "\n",
      "DQN_MsPacman: 1 EPISODE: 20\n",
      "Episode Score: 3450.00\n",
      "Episode Length: 1057\n",
      "\n",
      "\n",
      "DQN_MsPacman: 1 EPISODE: 21\n",
      "Episode Score: 1960.00\n",
      "Episode Length: 1201\n",
      "\n",
      "\n",
      "DQN_MsPacman: 1 EPISODE: 22\n",
      "Episode Score: 3590.00\n",
      "Episode Length: 1015\n",
      "\n",
      "\n",
      "DQN_MsPacman: 1 EPISODE: 23\n",
      "Episode Score: 3320.00\n",
      "Episode Length: 995\n",
      "\n",
      "\n",
      "DQN_MsPacman: 1 EPISODE: 24\n",
      "Episode Score: 2240.00\n",
      "Episode Length: 1063\n",
      "\n",
      "\n",
      "DQN_MsPacman: 1 EPISODE: 25\n",
      "Episode Score: 1880.00\n",
      "Episode Length: 939\n",
      "\n",
      "\n",
      "DQN_MsPacman: 1 EPISODE: 26\n",
      "Episode Score: 1660.00\n",
      "Episode Length: 997\n",
      "\n",
      "\n",
      "DQN_MsPacman: 1 EPISODE: 27\n",
      "Episode Score: 2320.00\n",
      "Episode Length: 1101\n",
      "\n",
      "\n",
      "DQN_MsPacman: 1 EPISODE: 28\n",
      "Episode Score: 3220.00\n",
      "Episode Length: 985\n",
      "\n",
      "\n",
      "DQN_MsPacman: 1 EPISODE: 29\n",
      "Episode Score: 2630.00\n",
      "Episode Length: 1137\n",
      "\n",
      "\n",
      "DQN_MsPacman: 1 EPISODE: 30\n",
      "Episode Score: 2470.00\n",
      "Episode Length: 1479\n",
      "\n",
      "\n",
      "DQN_MsPacman: 1 EPISODE: 31\n",
      "Episode Score: 1770.00\n",
      "Episode Length: 791\n",
      "\n",
      "\n",
      "DQN_MsPacman: 1 EPISODE: 32\n",
      "Episode Score: 2020.00\n",
      "Episode Length: 1213\n",
      "\n",
      "\n",
      "DQN_MsPacman: 1 EPISODE: 33\n",
      "Episode Score: 3280.00\n",
      "Episode Length: 1069\n",
      "\n",
      "\n",
      "DQN_MsPacman: 1 EPISODE: 34\n",
      "Episode Score: 4610.00\n",
      "Episode Length: 907\n",
      "\n",
      "\n",
      "DQN_MsPacman: 1 EPISODE: 35\n",
      "Episode Score: 3640.00\n",
      "Episode Length: 1129\n",
      "\n",
      "\n",
      "DQN_MsPacman: 1 EPISODE: 36\n",
      "Episode Score: 3010.00\n",
      "Episode Length: 885\n",
      "\n",
      "\n",
      "DQN_MsPacman: 1 EPISODE: 37\n",
      "Episode Score: 3510.00\n",
      "Episode Length: 1003\n",
      "\n",
      "\n",
      "DQN_MsPacman: 1 EPISODE: 38\n",
      "Episode Score: 3660.00\n",
      "Episode Length: 995\n",
      "\n",
      "\n",
      "DQN_MsPacman: 1 EPISODE: 39\n",
      "Episode Score: 2390.00\n",
      "Episode Length: 1005\n"
     ]
    },
    {
     "data": {
      "text/html": [
       "Tracking run with wandb version 0.16.3"
      ],
      "text/plain": [
       "<IPython.core.display.HTML object>"
      ]
     },
     "metadata": {},
     "output_type": "display_data"
    },
    {
     "data": {
      "text/html": [
       "Run data is saved locally in <code>/home/sequenzia/dev/repos/atari-rl/logs/wandb/run-20240213_230659-m86d6ir2</code>"
      ],
      "text/plain": [
       "<IPython.core.display.HTML object>"
      ]
     },
     "metadata": {},
     "output_type": "display_data"
    },
    {
     "data": {
      "text/html": [
       "Syncing run <strong><a href='https://wandb.ai/appliedtheta/solen-rl-project-eval-2/runs/m86d6ir2' target=\"_blank\">DQN_MsPacman_1_2024-02-13-23-06-16</a></strong> to <a href='https://wandb.ai/appliedtheta/solen-rl-project-eval-2' target=\"_blank\">Weights & Biases</a> (<a href='https://wandb.me/run' target=\"_blank\">docs</a>)<br/>"
      ],
      "text/plain": [
       "<IPython.core.display.HTML object>"
      ]
     },
     "metadata": {},
     "output_type": "display_data"
    },
    {
     "data": {
      "text/html": [
       " View project at <a href='https://wandb.ai/appliedtheta/solen-rl-project-eval-2' target=\"_blank\">https://wandb.ai/appliedtheta/solen-rl-project-eval-2</a>"
      ],
      "text/plain": [
       "<IPython.core.display.HTML object>"
      ]
     },
     "metadata": {},
     "output_type": "display_data"
    },
    {
     "data": {
      "text/html": [
       " View run at <a href='https://wandb.ai/appliedtheta/solen-rl-project-eval-2/runs/m86d6ir2' target=\"_blank\">https://wandb.ai/appliedtheta/solen-rl-project-eval-2/runs/m86d6ir2</a>"
      ],
      "text/plain": [
       "<IPython.core.display.HTML object>"
      ]
     },
     "metadata": {},
     "output_type": "display_data"
    },
    {
     "data": {
      "application/vnd.jupyter.widget-view+json": {
       "model_id": "9f35c4221a774eebaaf6dbf1ab6af498",
       "version_major": 2,
       "version_minor": 0
      },
      "text/plain": [
       "VBox(children=(Label(value='0.002 MB of 0.008 MB uploaded\\r'), FloatProgress(value=0.2780803267528931, max=1.0…"
      ]
     },
     "metadata": {},
     "output_type": "display_data"
    },
    {
     "data": {
      "text/html": [
       "<style>\n",
       "    table.wandb td:nth-child(1) { padding: 0 10px; text-align: left ; width: auto;} td:nth-child(2) {text-align: left ; width: 100%}\n",
       "    .wandb-row { display: flex; flex-direction: row; flex-wrap: wrap; justify-content: flex-start; width: 100% }\n",
       "    .wandb-col { display: flex; flex-direction: column; flex-basis: 100%; flex: 1; padding: 10px; }\n",
       "    </style>\n",
       "<div class=\"wandb-row\"><div class=\"wandb-col\"><h3>Run history:</h3><br/><table class=\"wandb\"><tr><td>DQN_MsPacman/episode_length</td><td>▆▂▇▃▂▅▄▂▃▂▅▆▄▃▄▂▅▂▁▄▅▃▃▄▃▃▄▃▅█▁▅▄▂▄▂▃▃▃</td></tr><tr><td>DQN_MsPacman/episode_score</td><td>▂▃▅▅▃█▃▂▂▁▂▄▄▄█▁▆▂▂▅▂▅▅▂▁▁▂▄▃▃▁▂▅█▅▄▅▅▃</td></tr><tr><td>episode_length</td><td>▆▂▇▃▂▅▄▂▃▂▅▆▄▃▄▂▅▂▁▄▅▃▃▄▃▃▄▃▅█▁▅▄▂▄▂▃▃▃</td></tr><tr><td>episode_lives</td><td>▁▁▁▁▁▁▁▁▁▁▁▁▁▁▁▁▁▁▁▁▁▁▁▁▁▁▁▁▁▁▁▁▁▁▁▁▁▁▁</td></tr><tr><td>episode_score</td><td>▂▃▅▅▃█▃▂▂▁▂▄▄▄█▁▆▂▂▅▂▅▅▂▁▁▂▄▃▃▁▂▅█▅▄▅▅▃</td></tr><tr><td>episode_time</td><td>▁▁▁▂▂▂▂▂▂▃▃▃▃▃▄▄▄▄▄▄▅▅▅▅▅▆▆▆▆▆▇▇▇▇▇▇███</td></tr><tr><td>run_frame_number</td><td>▁▁▁▂▂▂▂▂▂▃▃▃▃▃▄▄▄▄▄▄▅▅▅▅▅▆▆▆▆▆▇▇▇▇▇▇███</td></tr></table><br/></div><div class=\"wandb-col\"><h3>Run summary:</h3><br/><table class=\"wandb\"><tr><td>DQN_MsPacman/episode_length</td><td>1005</td></tr><tr><td>DQN_MsPacman/episode_score</td><td>2390.0</td></tr><tr><td>episode_length</td><td>1005</td></tr><tr><td>episode_lives</td><td>0</td></tr><tr><td>episode_score</td><td>2390.0</td></tr><tr><td>episode_time</td><td>42.49004</td></tr><tr><td>run_frame_number</td><td>162695</td></tr></table><br/></div></div>"
      ],
      "text/plain": [
       "<IPython.core.display.HTML object>"
      ]
     },
     "metadata": {},
     "output_type": "display_data"
    },
    {
     "data": {
      "text/html": [
       " View run <strong style=\"color:#cdcd00\">DQN_MsPacman_1_2024-02-13-23-06-16</strong> at: <a href='https://wandb.ai/appliedtheta/solen-rl-project-eval-2/runs/m86d6ir2' target=\"_blank\">https://wandb.ai/appliedtheta/solen-rl-project-eval-2/runs/m86d6ir2</a><br/>Synced 5 W&B file(s), 0 media file(s), 0 artifact file(s) and 0 other file(s)"
      ],
      "text/plain": [
       "<IPython.core.display.HTML object>"
      ]
     },
     "metadata": {},
     "output_type": "display_data"
    },
    {
     "data": {
      "text/html": [
       "Find logs at: <code>/home/sequenzia/dev/repos/atari-rl/logs/wandb/run-20240213_230659-m86d6ir2/logs</code>"
      ],
      "text/plain": [
       "<IPython.core.display.HTML object>"
      ]
     },
     "metadata": {},
     "output_type": "display_data"
    },
    {
     "name": "stdout",
     "output_type": "stream",
     "text": [
      "Saving to /home/sequenzia/dev/repos/atari-rl/data/evals/DQN_2024-02-13-23-00-32/mspacman.parquet\n",
      "\n",
      "Loading /home/sequenzia/dev/repos/atari-rl/agents/dqn/ALE-Asterix-v5_1/best_model.zip\n",
      "\n",
      "Stacking 4 frames\n"
     ]
    },
    {
     "name": "stderr",
     "output_type": "stream",
     "text": [
      "/home/sequenzia/dev/repos/stable-baselines3/stable_baselines3/common/save_util.py:166: UserWarning: Could not deserialize object exploration_schedule. Consider using `custom_objects` argument to replace this object.\n",
      "Exception: Can't get attribute '_function_setstate' on <module 'cloudpickle.cloudpickle' from '/home/sequenzia/anaconda3/envs/gym/lib/python3.9/site-packages/cloudpickle/cloudpickle.py'>\n",
      "  warnings.warn(\n"
     ]
    },
    {
     "name": "stdout",
     "output_type": "stream",
     "text": [
      "\n",
      "\n",
      "DQN_Asterix: 1 EPISODE: 1\n",
      "Episode Score: 5800.00\n",
      "Episode Length: 1551\n",
      "\n",
      "\n",
      "DQN_Asterix: 1 EPISODE: 2\n",
      "Episode Score: 900.00\n",
      "Episode Length: 499\n",
      "\n",
      "\n",
      "DQN_Asterix: 1 EPISODE: 3\n",
      "Episode Score: 5600.00\n",
      "Episode Length: 1417\n",
      "\n",
      "\n",
      "DQN_Asterix: 1 EPISODE: 4\n",
      "Episode Score: 1950.00\n",
      "Episode Length: 799\n",
      "\n",
      "\n",
      "DQN_Asterix: 1 EPISODE: 5\n",
      "Episode Score: 3600.00\n",
      "Episode Length: 978\n",
      "\n",
      "\n",
      "DQN_Asterix: 1 EPISODE: 6\n",
      "Episode Score: 6700.00\n",
      "Episode Length: 1618\n",
      "\n",
      "\n",
      "DQN_Asterix: 1 EPISODE: 7\n",
      "Episode Score: 3000.00\n",
      "Episode Length: 1089\n",
      "\n",
      "\n",
      "DQN_Asterix: 1 EPISODE: 8\n",
      "Episode Score: 4400.00\n",
      "Episode Length: 1543\n",
      "\n",
      "\n",
      "DQN_Asterix: 1 EPISODE: 9\n",
      "Episode Score: 2100.00\n",
      "Episode Length: 817\n",
      "\n",
      "\n",
      "DQN_Asterix: 1 EPISODE: 10\n",
      "Episode Score: 6600.00\n",
      "Episode Length: 1560\n",
      "\n",
      "\n",
      "DQN_Asterix: 1 EPISODE: 11\n",
      "Episode Score: 3200.00\n",
      "Episode Length: 1008\n",
      "\n",
      "\n",
      "DQN_Asterix: 1 EPISODE: 12\n",
      "Episode Score: 2450.00\n",
      "Episode Length: 918\n",
      "\n",
      "\n",
      "DQN_Asterix: 1 EPISODE: 13\n",
      "Episode Score: 7700.00\n",
      "Episode Length: 1662\n",
      "\n",
      "\n",
      "DQN_Asterix: 1 EPISODE: 14\n",
      "Episode Score: 6500.00\n",
      "Episode Length: 1505\n",
      "\n",
      "\n",
      "DQN_Asterix: 1 EPISODE: 15\n",
      "Episode Score: 1300.00\n",
      "Episode Length: 565\n",
      "\n",
      "\n",
      "DQN_Asterix: 1 EPISODE: 16\n",
      "Episode Score: 2450.00\n",
      "Episode Length: 1043\n",
      "\n",
      "\n",
      "DQN_Asterix: 1 EPISODE: 17\n",
      "Episode Score: 4600.00\n",
      "Episode Length: 1321\n",
      "\n",
      "\n",
      "DQN_Asterix: 1 EPISODE: 18\n",
      "Episode Score: 4800.00\n",
      "Episode Length: 1213\n",
      "\n",
      "\n",
      "DQN_Asterix: 1 EPISODE: 19\n",
      "Episode Score: 3600.00\n",
      "Episode Length: 954\n",
      "\n",
      "\n",
      "DQN_Asterix: 1 EPISODE: 20\n",
      "Episode Score: 4600.00\n",
      "Episode Length: 1221\n",
      "\n",
      "\n",
      "DQN_Asterix: 1 EPISODE: 21\n",
      "Episode Score: 6600.00\n",
      "Episode Length: 1598\n",
      "\n",
      "\n",
      "DQN_Asterix: 1 EPISODE: 22\n",
      "Episode Score: 4600.00\n",
      "Episode Length: 1355\n",
      "\n",
      "\n",
      "DQN_Asterix: 1 EPISODE: 23\n",
      "Episode Score: 6900.00\n",
      "Episode Length: 1667\n",
      "\n",
      "\n",
      "DQN_Asterix: 1 EPISODE: 24\n",
      "Episode Score: 5700.00\n",
      "Episode Length: 1371\n",
      "\n",
      "\n",
      "DQN_Asterix: 1 EPISODE: 25\n",
      "Episode Score: 3300.00\n",
      "Episode Length: 1006\n",
      "\n",
      "\n",
      "DQN_Asterix: 1 EPISODE: 26\n",
      "Episode Score: 3000.00\n",
      "Episode Length: 998\n",
      "\n",
      "\n",
      "DQN_Asterix: 1 EPISODE: 27\n",
      "Episode Score: 3000.00\n",
      "Episode Length: 1163\n",
      "\n",
      "\n",
      "DQN_Asterix: 1 EPISODE: 28\n",
      "Episode Score: 5300.00\n",
      "Episode Length: 1492\n",
      "\n",
      "\n",
      "DQN_Asterix: 1 EPISODE: 29\n",
      "Episode Score: 7000.00\n",
      "Episode Length: 1760\n",
      "\n",
      "\n",
      "DQN_Asterix: 1 EPISODE: 30\n",
      "Episode Score: 7100.00\n",
      "Episode Length: 1498\n",
      "\n",
      "\n",
      "DQN_Asterix: 1 EPISODE: 31\n",
      "Episode Score: 3500.00\n",
      "Episode Length: 1077\n",
      "\n",
      "\n",
      "DQN_Asterix: 1 EPISODE: 32\n",
      "Episode Score: 4200.00\n",
      "Episode Length: 1277\n"
     ]
    },
    {
     "data": {
      "text/html": [
       "Tracking run with wandb version 0.16.3"
      ],
      "text/plain": [
       "<IPython.core.display.HTML object>"
      ]
     },
     "metadata": {},
     "output_type": "display_data"
    },
    {
     "data": {
      "text/html": [
       "Run data is saved locally in <code>/home/sequenzia/dev/repos/atari-rl/logs/wandb/run-20240213_230748-37yafmr1</code>"
      ],
      "text/plain": [
       "<IPython.core.display.HTML object>"
      ]
     },
     "metadata": {},
     "output_type": "display_data"
    },
    {
     "data": {
      "text/html": [
       "Syncing run <strong><a href='https://wandb.ai/appliedtheta/solen-rl-project-eval-2/runs/37yafmr1' target=\"_blank\">DQN_Asterix_1_2024-02-13-23-07-14</a></strong> to <a href='https://wandb.ai/appliedtheta/solen-rl-project-eval-2' target=\"_blank\">Weights & Biases</a> (<a href='https://wandb.me/run' target=\"_blank\">docs</a>)<br/>"
      ],
      "text/plain": [
       "<IPython.core.display.HTML object>"
      ]
     },
     "metadata": {},
     "output_type": "display_data"
    },
    {
     "data": {
      "text/html": [
       " View project at <a href='https://wandb.ai/appliedtheta/solen-rl-project-eval-2' target=\"_blank\">https://wandb.ai/appliedtheta/solen-rl-project-eval-2</a>"
      ],
      "text/plain": [
       "<IPython.core.display.HTML object>"
      ]
     },
     "metadata": {},
     "output_type": "display_data"
    },
    {
     "data": {
      "text/html": [
       " View run at <a href='https://wandb.ai/appliedtheta/solen-rl-project-eval-2/runs/37yafmr1' target=\"_blank\">https://wandb.ai/appliedtheta/solen-rl-project-eval-2/runs/37yafmr1</a>"
      ],
      "text/plain": [
       "<IPython.core.display.HTML object>"
      ]
     },
     "metadata": {},
     "output_type": "display_data"
    },
    {
     "data": {
      "application/vnd.jupyter.widget-view+json": {
       "model_id": "c4d50f6426ba4cebbb8016b6c2eddab5",
       "version_major": 2,
       "version_minor": 0
      },
      "text/plain": [
       "VBox(children=(Label(value='0.018 MB of 0.018 MB uploaded\\r'), FloatProgress(value=1.0, max=1.0)))"
      ]
     },
     "metadata": {},
     "output_type": "display_data"
    },
    {
     "data": {
      "text/html": [
       "<style>\n",
       "    table.wandb td:nth-child(1) { padding: 0 10px; text-align: left ; width: auto;} td:nth-child(2) {text-align: left ; width: 100%}\n",
       "    .wandb-row { display: flex; flex-direction: row; flex-wrap: wrap; justify-content: flex-start; width: 100% }\n",
       "    .wandb-col { display: flex; flex-direction: column; flex-basis: 100%; flex: 1; padding: 10px; }\n",
       "    </style>\n",
       "<div class=\"wandb-row\"><div class=\"wandb-col\"><h3>Run history:</h3><br/><table class=\"wandb\"><tr><td>DQN_Asterix/episode_length</td><td>▇▁▆▃▄▇▄▇▃▇▄▃▇▇▁▄▆▅▄▅▇▆▇▆▄▄▅▇█▇▄▅</td></tr><tr><td>DQN_Asterix/episode_score</td><td>▆▁▆▂▄▇▃▅▂▇▃▃█▇▁▃▅▅▄▅▇▅▇▆▃▃▃▆▇▇▄▄</td></tr><tr><td>episode_length</td><td>▇▁▆▃▄▇▄▇▃▇▄▃▇▇▁▄▆▅▄▅▇▆▇▆▄▄▅▇█▇▄▅</td></tr><tr><td>episode_lives</td><td>▁▁▁▁▁▁▁▁▁▁▁▁▁▁▁▁▁▁▁▁▁▁▁▁▁▁▁▁▁▁▁▁</td></tr><tr><td>episode_score</td><td>▆▁▆▂▄▇▃▅▂▇▃▃█▇▁▃▅▅▄▅▇▅▇▆▃▃▃▆▇▇▄▄</td></tr><tr><td>episode_time</td><td>▁▁▁▂▂▂▂▃▃▃▃▄▄▄▄▄▅▅▅▅▅▆▆▆▆▇▇▇▇███</td></tr><tr><td>run_frame_number</td><td>▁▁▁▂▂▂▂▂▃▃▃▃▄▄▄▄▄▅▅▅▅▆▆▆▆▆▇▇▇███</td></tr></table><br/></div><div class=\"wandb-col\"><h3>Run summary:</h3><br/><table class=\"wandb\"><tr><td>DQN_Asterix/episode_length</td><td>1277</td></tr><tr><td>DQN_Asterix/episode_score</td><td>4200.0</td></tr><tr><td>episode_length</td><td>1277</td></tr><tr><td>episode_lives</td><td>0</td></tr><tr><td>episode_score</td><td>4200.0</td></tr><tr><td>episode_time</td><td>33.44801</td></tr><tr><td>run_frame_number</td><td>158113</td></tr></table><br/></div></div>"
      ],
      "text/plain": [
       "<IPython.core.display.HTML object>"
      ]
     },
     "metadata": {},
     "output_type": "display_data"
    },
    {
     "data": {
      "text/html": [
       " View run <strong style=\"color:#cdcd00\">DQN_Asterix_1_2024-02-13-23-07-14</strong> at: <a href='https://wandb.ai/appliedtheta/solen-rl-project-eval-2/runs/37yafmr1' target=\"_blank\">https://wandb.ai/appliedtheta/solen-rl-project-eval-2/runs/37yafmr1</a><br/>Synced 5 W&B file(s), 0 media file(s), 0 artifact file(s) and 0 other file(s)"
      ],
      "text/plain": [
       "<IPython.core.display.HTML object>"
      ]
     },
     "metadata": {},
     "output_type": "display_data"
    },
    {
     "data": {
      "text/html": [
       "Find logs at: <code>/home/sequenzia/dev/repos/atari-rl/logs/wandb/run-20240213_230748-37yafmr1/logs</code>"
      ],
      "text/plain": [
       "<IPython.core.display.HTML object>"
      ]
     },
     "metadata": {},
     "output_type": "display_data"
    },
    {
     "name": "stdout",
     "output_type": "stream",
     "text": [
      "Saving to /home/sequenzia/dev/repos/atari-rl/data/evals/DQN_2024-02-13-23-00-32/asterix.parquet\n",
      "\n",
      "Loading /home/sequenzia/dev/repos/atari-rl/agents/dqn/ALE-Asteroids-v5_1/best_model.zip\n",
      "\n",
      "Stacking 4 frames\n"
     ]
    },
    {
     "name": "stderr",
     "output_type": "stream",
     "text": [
      "/home/sequenzia/dev/repos/stable-baselines3/stable_baselines3/common/save_util.py:166: UserWarning: Could not deserialize object exploration_schedule. Consider using `custom_objects` argument to replace this object.\n",
      "Exception: Can't get attribute '_function_setstate' on <module 'cloudpickle.cloudpickle' from '/home/sequenzia/anaconda3/envs/gym/lib/python3.9/site-packages/cloudpickle/cloudpickle.py'>\n",
      "  warnings.warn(\n"
     ]
    },
    {
     "name": "stdout",
     "output_type": "stream",
     "text": [
      "\n",
      "\n",
      "DQN_Asteroids: 1 EPISODE: 1\n",
      "Episode Score: 480.00\n",
      "Episode Length: 596\n",
      "\n",
      "\n",
      "DQN_Asteroids: 1 EPISODE: 2\n",
      "Episode Score: 330.00\n",
      "Episode Length: 529\n",
      "\n",
      "\n",
      "DQN_Asteroids: 1 EPISODE: 3\n",
      "Episode Score: 360.00\n",
      "Episode Length: 749\n",
      "\n",
      "\n",
      "DQN_Asteroids: 1 EPISODE: 4\n",
      "Episode Score: 780.00\n",
      "Episode Length: 783\n",
      "\n",
      "\n",
      "DQN_Asteroids: 1 EPISODE: 5\n",
      "Episode Score: 160.00\n",
      "Episode Length: 532\n",
      "\n",
      "\n",
      "DQN_Asteroids: 1 EPISODE: 6\n",
      "Episode Score: 530.00\n",
      "Episode Length: 867\n",
      "\n",
      "\n",
      "DQN_Asteroids: 1 EPISODE: 7\n",
      "Episode Score: 630.00\n",
      "Episode Length: 1049\n",
      "\n",
      "\n",
      "DQN_Asteroids: 1 EPISODE: 8\n",
      "Episode Score: 430.00\n",
      "Episode Length: 538\n",
      "\n",
      "\n",
      "DQN_Asteroids: 1 EPISODE: 9\n",
      "Episode Score: 530.00\n",
      "Episode Length: 799\n",
      "\n",
      "\n",
      "DQN_Asteroids: 1 EPISODE: 10\n",
      "Episode Score: 830.00\n",
      "Episode Length: 2071\n",
      "\n",
      "\n",
      "DQN_Asteroids: 1 EPISODE: 11\n",
      "Episode Score: 180.00\n",
      "Episode Length: 570\n",
      "\n",
      "\n",
      "DQN_Asteroids: 1 EPISODE: 12\n",
      "Episode Score: 830.00\n",
      "Episode Length: 1103\n",
      "\n",
      "\n",
      "DQN_Asteroids: 1 EPISODE: 13\n",
      "Episode Score: 530.00\n",
      "Episode Length: 804\n",
      "\n",
      "\n",
      "DQN_Asteroids: 1 EPISODE: 14\n",
      "Episode Score: 330.00\n",
      "Episode Length: 727\n",
      "\n",
      "\n",
      "DQN_Asteroids: 1 EPISODE: 15\n",
      "Episode Score: 280.00\n",
      "Episode Length: 783\n",
      "\n",
      "\n",
      "DQN_Asteroids: 1 EPISODE: 16\n",
      "Episode Score: 680.00\n",
      "Episode Length: 1730\n",
      "\n",
      "\n",
      "DQN_Asteroids: 1 EPISODE: 17\n",
      "Episode Score: 530.00\n",
      "Episode Length: 853\n",
      "\n",
      "\n",
      "DQN_Asteroids: 1 EPISODE: 18\n",
      "Episode Score: 360.00\n",
      "Episode Length: 534\n",
      "\n",
      "\n",
      "DQN_Asteroids: 1 EPISODE: 19\n",
      "Episode Score: 130.00\n",
      "Episode Length: 345\n",
      "\n",
      "\n",
      "DQN_Asteroids: 1 EPISODE: 20\n",
      "Episode Score: 330.00\n",
      "Episode Length: 786\n",
      "\n",
      "\n",
      "DQN_Asteroids: 1 EPISODE: 21\n",
      "Episode Score: 510.00\n",
      "Episode Length: 748\n",
      "\n",
      "\n",
      "DQN_Asteroids: 1 EPISODE: 22\n",
      "Episode Score: 730.00\n",
      "Episode Length: 1039\n",
      "\n",
      "\n",
      "DQN_Asteroids: 1 EPISODE: 23\n",
      "Episode Score: 330.00\n",
      "Episode Length: 689\n",
      "\n",
      "\n",
      "DQN_Asteroids: 1 EPISODE: 24\n",
      "Episode Score: 410.00\n",
      "Episode Length: 485\n",
      "\n",
      "\n",
      "DQN_Asteroids: 1 EPISODE: 25\n",
      "Episode Score: 730.00\n",
      "Episode Length: 881\n",
      "\n",
      "\n",
      "DQN_Asteroids: 1 EPISODE: 26\n",
      "Episode Score: 330.00\n",
      "Episode Length: 510\n",
      "\n",
      "\n",
      "DQN_Asteroids: 1 EPISODE: 27\n",
      "Episode Score: 330.00\n",
      "Episode Length: 713\n",
      "\n",
      "\n",
      "DQN_Asteroids: 1 EPISODE: 28\n",
      "Episode Score: 730.00\n",
      "Episode Length: 703\n",
      "\n",
      "\n",
      "DQN_Asteroids: 1 EPISODE: 29\n",
      "Episode Score: 580.00\n",
      "Episode Length: 1070\n",
      "\n",
      "\n",
      "DQN_Asteroids: 1 EPISODE: 30\n",
      "Episode Score: 380.00\n",
      "Episode Length: 751\n",
      "\n",
      "\n",
      "DQN_Asteroids: 1 EPISODE: 31\n",
      "Episode Score: 880.00\n",
      "Episode Length: 1065\n",
      "\n",
      "\n",
      "DQN_Asteroids: 1 EPISODE: 32\n",
      "Episode Score: 330.00\n",
      "Episode Length: 576\n",
      "\n",
      "\n",
      "DQN_Asteroids: 1 EPISODE: 33\n",
      "Episode Score: 580.00\n",
      "Episode Length: 829\n",
      "\n",
      "\n",
      "DQN_Asteroids: 1 EPISODE: 34\n",
      "Episode Score: 280.00\n",
      "Episode Length: 537\n",
      "\n",
      "\n",
      "DQN_Asteroids: 1 EPISODE: 35\n",
      "Episode Score: 480.00\n",
      "Episode Length: 863\n",
      "\n",
      "\n",
      "DQN_Asteroids: 1 EPISODE: 36\n",
      "Episode Score: 1180.00\n",
      "Episode Length: 1711\n",
      "\n",
      "\n",
      "DQN_Asteroids: 1 EPISODE: 37\n",
      "Episode Score: 680.00\n",
      "Episode Length: 1032\n",
      "\n",
      "\n",
      "DQN_Asteroids: 1 EPISODE: 38\n",
      "Episode Score: 930.00\n",
      "Episode Length: 1242\n",
      "\n",
      "\n",
      "DQN_Asteroids: 1 EPISODE: 39\n",
      "Episode Score: 1080.00\n",
      "Episode Length: 1715\n",
      "\n",
      "\n",
      "DQN_Asteroids: 1 EPISODE: 40\n",
      "Episode Score: 1080.00\n",
      "Episode Length: 1915\n",
      "\n",
      "\n",
      "DQN_Asteroids: 1 EPISODE: 41\n",
      "Episode Score: 830.00\n",
      "Episode Length: 1533\n",
      "\n",
      "\n",
      "DQN_Asteroids: 1 EPISODE: 42\n",
      "Episode Score: 460.00\n",
      "Episode Length: 934\n",
      "\n",
      "\n",
      "DQN_Asteroids: 1 EPISODE: 43\n",
      "Episode Score: 530.00\n",
      "Episode Length: 818\n",
      "\n",
      "\n",
      "DQN_Asteroids: 1 EPISODE: 44\n",
      "Episode Score: 1080.00\n",
      "Episode Length: 1643\n",
      "\n",
      "\n",
      "DQN_Asteroids: 1 EPISODE: 45\n",
      "Episode Score: 730.00\n",
      "Episode Length: 1293\n",
      "\n",
      "\n",
      "DQN_Asteroids: 1 EPISODE: 46\n",
      "Episode Score: 330.00\n",
      "Episode Length: 577\n"
     ]
    },
    {
     "data": {
      "text/html": [
       "Tracking run with wandb version 0.16.3"
      ],
      "text/plain": [
       "<IPython.core.display.HTML object>"
      ]
     },
     "metadata": {},
     "output_type": "display_data"
    },
    {
     "data": {
      "text/html": [
       "Run data is saved locally in <code>/home/sequenzia/dev/repos/atari-rl/logs/wandb/run-20240213_230838-rh8bcf54</code>"
      ],
      "text/plain": [
       "<IPython.core.display.HTML object>"
      ]
     },
     "metadata": {},
     "output_type": "display_data"
    },
    {
     "data": {
      "text/html": [
       "Syncing run <strong><a href='https://wandb.ai/appliedtheta/solen-rl-project-eval-2/runs/rh8bcf54' target=\"_blank\">DQN_Asteroids_1_2024-02-13-23-08-01</a></strong> to <a href='https://wandb.ai/appliedtheta/solen-rl-project-eval-2' target=\"_blank\">Weights & Biases</a> (<a href='https://wandb.me/run' target=\"_blank\">docs</a>)<br/>"
      ],
      "text/plain": [
       "<IPython.core.display.HTML object>"
      ]
     },
     "metadata": {},
     "output_type": "display_data"
    },
    {
     "data": {
      "text/html": [
       " View project at <a href='https://wandb.ai/appliedtheta/solen-rl-project-eval-2' target=\"_blank\">https://wandb.ai/appliedtheta/solen-rl-project-eval-2</a>"
      ],
      "text/plain": [
       "<IPython.core.display.HTML object>"
      ]
     },
     "metadata": {},
     "output_type": "display_data"
    },
    {
     "data": {
      "text/html": [
       " View run at <a href='https://wandb.ai/appliedtheta/solen-rl-project-eval-2/runs/rh8bcf54' target=\"_blank\">https://wandb.ai/appliedtheta/solen-rl-project-eval-2/runs/rh8bcf54</a>"
      ],
      "text/plain": [
       "<IPython.core.display.HTML object>"
      ]
     },
     "metadata": {},
     "output_type": "display_data"
    },
    {
     "data": {
      "application/vnd.jupyter.widget-view+json": {
       "model_id": "d5c8ef1b7a254e2e8f46525352716cff",
       "version_major": 2,
       "version_minor": 0
      },
      "text/plain": [
       "VBox(children=(Label(value='0.018 MB of 0.018 MB uploaded\\r'), FloatProgress(value=1.0, max=1.0)))"
      ]
     },
     "metadata": {},
     "output_type": "display_data"
    },
    {
     "data": {
      "text/html": [
       "<style>\n",
       "    table.wandb td:nth-child(1) { padding: 0 10px; text-align: left ; width: auto;} td:nth-child(2) {text-align: left ; width: 100%}\n",
       "    .wandb-row { display: flex; flex-direction: row; flex-wrap: wrap; justify-content: flex-start; width: 100% }\n",
       "    .wandb-col { display: flex; flex-direction: column; flex-basis: 100%; flex: 1; padding: 10px; }\n",
       "    </style>\n",
       "<div class=\"wandb-row\"><div class=\"wandb-col\"><h3>Run history:</h3><br/><table class=\"wandb\"><tr><td>DQN_Asteroids/episode_length</td><td>▂▂▃▃▂▃▄▃█▂▄▃▃▃▃▂▁▃▃▄▂▃▂▂▂▄▃▂▃▂▃▇▄▇▇▆▃▃▆▅</td></tr><tr><td>DQN_Asteroids/episode_score</td><td>▃▂▃▅▁▄▄▄▆▁▆▄▂▂▄▃▁▂▄▅▃▅▂▂▅▄▃▂▄▂▃█▅▇▇▆▃▄▇▅</td></tr><tr><td>episode_length</td><td>▂▂▃▃▂▃▄▃█▂▄▃▃▃▃▂▁▃▃▄▂▃▂▂▂▄▃▂▃▂▃▇▄▇▇▆▃▃▆▅</td></tr><tr><td>episode_lives</td><td>▁▁▁▁▁▁▁▁▁▁▁▁▁▁▁▁▁▁▁▁▁▁▁▁▁▁▁▁▁▁▁▁▁▁▁▁▁▁▁▁</td></tr><tr><td>episode_score</td><td>▃▂▃▅▁▄▄▄▆▁▆▄▂▂▄▃▁▂▄▅▃▅▂▂▅▄▃▂▄▂▃█▅▇▇▆▃▄▇▅</td></tr><tr><td>episode_time</td><td>▁▁▁▁▁▂▂▂▃▃▃▃▃▃▄▄▄▄▄▄▄▅▅▅▅▅▅▅▆▆▆▆▆▇▇▇▇███</td></tr><tr><td>run_frame_number</td><td>▁▁▁▁▁▂▂▂▂▂▃▃▃▃▃▄▄▄▄▄▄▄▄▅▅▅▅▅▅▆▆▆▆▇▇▇▇███</td></tr></table><br/></div><div class=\"wandb-col\"><h3>Run summary:</h3><br/><table class=\"wandb\"><tr><td>DQN_Asteroids/episode_length</td><td>577</td></tr><tr><td>DQN_Asteroids/episode_score</td><td>330.0</td></tr><tr><td>episode_length</td><td>577</td></tr><tr><td>episode_lives</td><td>0</td></tr><tr><td>episode_score</td><td>330.0</td></tr><tr><td>episode_time</td><td>36.48392</td></tr><tr><td>run_frame_number</td><td>170416</td></tr></table><br/></div></div>"
      ],
      "text/plain": [
       "<IPython.core.display.HTML object>"
      ]
     },
     "metadata": {},
     "output_type": "display_data"
    },
    {
     "data": {
      "text/html": [
       " View run <strong style=\"color:#cdcd00\">DQN_Asteroids_1_2024-02-13-23-08-01</strong> at: <a href='https://wandb.ai/appliedtheta/solen-rl-project-eval-2/runs/rh8bcf54' target=\"_blank\">https://wandb.ai/appliedtheta/solen-rl-project-eval-2/runs/rh8bcf54</a><br/>Synced 5 W&B file(s), 0 media file(s), 0 artifact file(s) and 0 other file(s)"
      ],
      "text/plain": [
       "<IPython.core.display.HTML object>"
      ]
     },
     "metadata": {},
     "output_type": "display_data"
    },
    {
     "data": {
      "text/html": [
       "Find logs at: <code>/home/sequenzia/dev/repos/atari-rl/logs/wandb/run-20240213_230838-rh8bcf54/logs</code>"
      ],
      "text/plain": [
       "<IPython.core.display.HTML object>"
      ]
     },
     "metadata": {},
     "output_type": "display_data"
    },
    {
     "name": "stdout",
     "output_type": "stream",
     "text": [
      "Saving to /home/sequenzia/dev/repos/atari-rl/data/evals/DQN_2024-02-13-23-00-32/asteroids.parquet\n",
      "\n",
      "Loading /home/sequenzia/dev/repos/atari-rl/agents/dqn/ALE-Assault-v5_1/best_model.zip\n",
      "\n",
      "Stacking 4 frames\n"
     ]
    },
    {
     "name": "stderr",
     "output_type": "stream",
     "text": [
      "/home/sequenzia/dev/repos/stable-baselines3/stable_baselines3/common/save_util.py:166: UserWarning: Could not deserialize object exploration_schedule. Consider using `custom_objects` argument to replace this object.\n",
      "Exception: Can't get attribute '_function_setstate' on <module 'cloudpickle.cloudpickle' from '/home/sequenzia/anaconda3/envs/gym/lib/python3.9/site-packages/cloudpickle/cloudpickle.py'>\n",
      "  warnings.warn(\n"
     ]
    },
    {
     "name": "stdout",
     "output_type": "stream",
     "text": [
      "\n",
      "\n",
      "DQN_Assault: 1 EPISODE: 1\n",
      "Episode Score: 3122.00\n",
      "Episode Length: 3470\n",
      "\n",
      "\n",
      "DQN_Assault: 1 EPISODE: 2\n",
      "Episode Score: 5687.00\n",
      "Episode Length: 5360\n",
      "\n",
      "\n",
      "DQN_Assault: 1 EPISODE: 3\n",
      "Episode Score: 7666.00\n",
      "Episode Length: 7447\n",
      "\n",
      "\n",
      "DQN_Assault: 1 EPISODE: 4\n",
      "Episode Score: 3401.00\n",
      "Episode Length: 3715\n",
      "\n",
      "\n",
      "DQN_Assault: 1 EPISODE: 5\n",
      "Episode Score: 4910.00\n",
      "Episode Length: 4897\n",
      "\n",
      "\n",
      "DQN_Assault: 1 EPISODE: 6\n",
      "Episode Score: 7037.00\n",
      "Episode Length: 6931\n",
      "\n",
      "\n",
      "DQN_Assault: 1 EPISODE: 7\n",
      "Episode Score: 3714.00\n",
      "Episode Length: 3809\n",
      "\n",
      "\n",
      "DQN_Assault: 1 EPISODE: 8\n",
      "Episode Score: 1981.00\n",
      "Episode Length: 2199\n"
     ]
    },
    {
     "data": {
      "text/html": [
       "Tracking run with wandb version 0.16.3"
      ],
      "text/plain": [
       "<IPython.core.display.HTML object>"
      ]
     },
     "metadata": {},
     "output_type": "display_data"
    },
    {
     "data": {
      "text/html": [
       "Run data is saved locally in <code>/home/sequenzia/dev/repos/atari-rl/logs/wandb/run-20240213_230925-f1dqj4nt</code>"
      ],
      "text/plain": [
       "<IPython.core.display.HTML object>"
      ]
     },
     "metadata": {},
     "output_type": "display_data"
    },
    {
     "data": {
      "text/html": [
       "Syncing run <strong><a href='https://wandb.ai/appliedtheta/solen-rl-project-eval-2/runs/f1dqj4nt' target=\"_blank\">DQN_Assault_1_2024-02-13-23-08-51</a></strong> to <a href='https://wandb.ai/appliedtheta/solen-rl-project-eval-2' target=\"_blank\">Weights & Biases</a> (<a href='https://wandb.me/run' target=\"_blank\">docs</a>)<br/>"
      ],
      "text/plain": [
       "<IPython.core.display.HTML object>"
      ]
     },
     "metadata": {},
     "output_type": "display_data"
    },
    {
     "data": {
      "text/html": [
       " View project at <a href='https://wandb.ai/appliedtheta/solen-rl-project-eval-2' target=\"_blank\">https://wandb.ai/appliedtheta/solen-rl-project-eval-2</a>"
      ],
      "text/plain": [
       "<IPython.core.display.HTML object>"
      ]
     },
     "metadata": {},
     "output_type": "display_data"
    },
    {
     "data": {
      "text/html": [
       " View run at <a href='https://wandb.ai/appliedtheta/solen-rl-project-eval-2/runs/f1dqj4nt' target=\"_blank\">https://wandb.ai/appliedtheta/solen-rl-project-eval-2/runs/f1dqj4nt</a>"
      ],
      "text/plain": [
       "<IPython.core.display.HTML object>"
      ]
     },
     "metadata": {},
     "output_type": "display_data"
    },
    {
     "data": {
      "application/vnd.jupyter.widget-view+json": {
       "model_id": "b53c052e9ff8477c90f41e24a67f1e71",
       "version_major": 2,
       "version_minor": 0
      },
      "text/plain": [
       "VBox(children=(Label(value='0.002 MB of 0.002 MB uploaded\\r'), FloatProgress(value=1.0, max=1.0)))"
      ]
     },
     "metadata": {},
     "output_type": "display_data"
    },
    {
     "data": {
      "text/html": [
       "<style>\n",
       "    table.wandb td:nth-child(1) { padding: 0 10px; text-align: left ; width: auto;} td:nth-child(2) {text-align: left ; width: 100%}\n",
       "    .wandb-row { display: flex; flex-direction: row; flex-wrap: wrap; justify-content: flex-start; width: 100% }\n",
       "    .wandb-col { display: flex; flex-direction: column; flex-basis: 100%; flex: 1; padding: 10px; }\n",
       "    </style>\n",
       "<div class=\"wandb-row\"><div class=\"wandb-col\"><h3>Run history:</h3><br/><table class=\"wandb\"><tr><td>DQN_Assault/episode_length</td><td>▃▅█▃▅▇▃▁</td></tr><tr><td>DQN_Assault/episode_score</td><td>▂▆█▃▅▇▃▁</td></tr><tr><td>episode_length</td><td>▃▅█▃▅▇▃▁</td></tr><tr><td>episode_lives</td><td>▁▁▁▁▁▁▁▁</td></tr><tr><td>episode_score</td><td>▂▆█▃▅▇▃▁</td></tr><tr><td>episode_time</td><td>▁▂▄▄▆▇██</td></tr><tr><td>run_frame_number</td><td>▁▂▄▄▅▇██</td></tr></table><br/></div><div class=\"wandb-col\"><h3>Run summary:</h3><br/><table class=\"wandb\"><tr><td>DQN_Assault/episode_length</td><td>2199</td></tr><tr><td>DQN_Assault/episode_score</td><td>1981.0</td></tr><tr><td>episode_length</td><td>2199</td></tr><tr><td>episode_lives</td><td>0</td></tr><tr><td>episode_score</td><td>1981.0</td></tr><tr><td>episode_time</td><td>31.99377</td></tr><tr><td>run_frame_number</td><td>151300</td></tr></table><br/></div></div>"
      ],
      "text/plain": [
       "<IPython.core.display.HTML object>"
      ]
     },
     "metadata": {},
     "output_type": "display_data"
    },
    {
     "data": {
      "text/html": [
       " View run <strong style=\"color:#cdcd00\">DQN_Assault_1_2024-02-13-23-08-51</strong> at: <a href='https://wandb.ai/appliedtheta/solen-rl-project-eval-2/runs/f1dqj4nt' target=\"_blank\">https://wandb.ai/appliedtheta/solen-rl-project-eval-2/runs/f1dqj4nt</a><br/>Synced 5 W&B file(s), 0 media file(s), 0 artifact file(s) and 0 other file(s)"
      ],
      "text/plain": [
       "<IPython.core.display.HTML object>"
      ]
     },
     "metadata": {},
     "output_type": "display_data"
    },
    {
     "data": {
      "text/html": [
       "Find logs at: <code>/home/sequenzia/dev/repos/atari-rl/logs/wandb/run-20240213_230925-f1dqj4nt/logs</code>"
      ],
      "text/plain": [
       "<IPython.core.display.HTML object>"
      ]
     },
     "metadata": {},
     "output_type": "display_data"
    },
    {
     "name": "stdout",
     "output_type": "stream",
     "text": [
      "Saving to /home/sequenzia/dev/repos/atari-rl/data/evals/DQN_2024-02-13-23-00-32/assault.parquet\n"
     ]
    }
   ],
   "source": [
    "import os\n",
    "import sys\n",
    "\n",
    "import pytz\n",
    "import importlib\n",
    "import numpy as np\n",
    "import pandas as pd\n",
    "from pathlib import Path\n",
    "from datetime import datetime\n",
    "\n",
    "from dask import delayed\n",
    "from dask.distributed import Client, LocalCluster\n",
    "\n",
    "MODULE_NAME = \"infer\"\n",
    "MAIN_PATH = \"/home/sequenzia/dev/repos/atari-rl\"\n",
    "\n",
    "WANDB_ON = True\n",
    "PROJECT = \"solen-rl-project-eval-2\"\n",
    "\n",
    "NO_RENDER = True\n",
    "\n",
    "N_ENVS = 1\n",
    "N_STEPS = 10000\n",
    "\n",
    "module_path = f\"{MAIN_PATH}/utils/{MODULE_NAME}.py\"\n",
    "agents_path = f\"{MAIN_PATH}/agents\"\n",
    "data_path = f\"{MAIN_PATH}/data\"\n",
    "\n",
    "spec = importlib.util.spec_from_file_location(MODULE_NAME, module_path)\n",
    "infer = importlib.util.module_from_spec(spec)\n",
    "sys.modules[MODULE_NAME] = infer\n",
    "spec.loader.exec_module(infer)\n",
    "\n",
    "\n",
    "# all_infer_data = {}\n",
    "\n",
    "ALGOS = [\"dqn\"]\n",
    "\n",
    "GAMES = [\"Breakout\",\n",
    "         \"Pong\",\n",
    "         \"SpaceInvaders\",\n",
    "         \"Qbert\",\n",
    "         \"Seaquest\",\n",
    "         \"Centipede\",\n",
    "         \"MsPacman\",\n",
    "         \"Asterix\",\n",
    "         \"Asteroids\",\n",
    "         \"Assault\"]\n",
    "\n",
    "ts = datetime.now(pytz.timezone('UTC')).astimezone(pytz.timezone('US/Eastern'))\n",
    "ts = ts.strftime(\"%Y-%m-%d-%H-%M-%S\")\n",
    "\n",
    "for algo in ALGOS:\n",
    "\n",
    "    for game in GAMES:\n",
    "\n",
    "        ENV_ID = f\"ALE/{game}-v5\"\n",
    "\n",
    "        RUN_KEY = f\"{algo.upper()}_{game}\"\n",
    "\n",
    "        output_path = f\"{data_path}/evals/{algo.upper()}_{ts}/{game.lower()}.parquet\"\n",
    "\n",
    "        Path(output_path).parent.mkdir(parents=True, exist_ok=True)\n",
    "\n",
    "        infer_logs = infer.infer(run_key=RUN_KEY,\n",
    "                                 env_id=ENV_ID,\n",
    "                                 algo=algo,\n",
    "                                 game=game,\n",
    "                                 agents_path=agents_path,\n",
    "                                 n_envs=N_ENVS,\n",
    "                                 n_steps=N_STEPS,\n",
    "                                 no_render=NO_RENDER,\n",
    "                                 project=PROJECT,\n",
    "                                 wandb_on=WANDB_ON,\n",
    "                                 debug_on=False)\n",
    "\n",
    "        infer_data_np = np.empty((0, 5))\n",
    "\n",
    "        for idx in range(len(infer_logs)):\n",
    "\n",
    "            infer_data_np = np.vstack((infer_data_np,\n",
    "                                       np.array([infer_logs[idx].scores,\n",
    "                                                 infer_logs[idx].times,\n",
    "                                                 infer_logs[idx].lengths,\n",
    "                                                 infer_logs[idx].frame_numbers,\n",
    "                                                 infer_logs[idx].run_frame_numbers]).T))\n",
    "\n",
    "        infer_data = pd.DataFrame(infer_data_np,\n",
    "                                  columns=[\"scores\",\n",
    "                                           \"times\",\n",
    "                                           \"lengths\",\n",
    "                                           \"frame_numbers\",\n",
    "                                           \"run_frame_numbers\"])\n",
    "\n",
    "        infer_data[\"run_key\"] = RUN_KEY\n",
    "        infer_data[\"game\"] = game\n",
    "        infer_data[\"algo\"] = algo\n",
    "        infer_data[\"ts\"] = ts\n",
    "\n",
    "        print(f\"Saving to {output_path}\")\n",
    "\n",
    "        infer_data.to_parquet(output_path)\n",
    "\n",
    "        # all_infer_data[RUN_KEY] = infer_data"
   ]
  }
 ],
 "metadata": {
  "kernelspec": {
   "display_name": "gym",
   "language": "python",
   "name": "python3"
  },
  "language_info": {
   "codemirror_mode": {
    "name": "ipython",
    "version": 3
   },
   "file_extension": ".py",
   "mimetype": "text/x-python",
   "name": "python",
   "nbconvert_exporter": "python",
   "pygments_lexer": "ipython3",
   "version": "3.9.0"
  }
 },
 "nbformat": 4,
 "nbformat_minor": 2
}
