{
 "cells": [
  {
   "cell_type": "code",
   "execution_count": null,
   "metadata": {},
   "outputs": [],
   "source": [
    "import os\n",
    "import sys\n",
    "\n",
    "import importlib\n",
    "import numpy as np\n",
    "import pandas as pd\n",
    "from pathlib import Path\n",
    "\n",
    "MODULE_NAME = \"infer\"\n",
    "MAIN_PATH = \"/home/sequenzia/dev/repos/atari-rl\"\n",
    "\n",
    "WANDB_ON = False\n",
    "PROJECT = \"solen-rl-project-eval-2\"\n",
    "\n",
    "NO_RENDER = True\n",
    "\n",
    "N_ENVS = 2\n",
    "N_STEPS = 10000\n",
    "\n",
    "module_path = f\"{MAIN_PATH}/utils/{MODULE_NAME}.py\"\n",
    "agents_path = f\"{MAIN_PATH}/agents\"\n",
    "data_path = f\"{MAIN_PATH}/data\"\n",
    "\n",
    "spec = importlib.util.spec_from_file_location(MODULE_NAME, module_path)\n",
    "infer = importlib.util.module_from_spec(spec)\n",
    "sys.modules[MODULE_NAME] = infer\n",
    "spec.loader.exec_module(infer)\n",
    "\n",
    "all_infer_logs = {}\n",
    "all_infer_data = {}\n",
    "\n",
    "\n",
    "ALGOS = [\"ppo\", \"a2c\"]\n",
    "\n",
    "GAMES = [\"Breakout\",\n",
    "         \"Pong\",\n",
    "         \"SpaceInvaders\"]\n",
    "        #  \"Qbert\"]\n",
    "        #  \"Seaquest\",\n",
    "        #  \"Centipede\",\n",
    "        #  \"MsPacman\",\n",
    "        #  \"Asterix\",\n",
    "        #  \"Asteroids\",\n",
    "        #  \"Assault\"]\n",
    "\n",
    "for algo in ALGOS:\n",
    "\n",
    "    for game in GAMES:\n",
    "        \n",
    "        ENV_ID = f\"ALE/{game}-v5\"\n",
    "\n",
    "        RUN_KEY = f\"{algo.upper()}_{game}\"\n",
    "\n",
    "        infer_logs = infer.infer(run_key=RUN_KEY,\n",
    "                                 env_id=ENV_ID,\n",
    "                                 algo=algo,\n",
    "                                 game=game,\n",
    "                                 agents_path=agents_path,\n",
    "                                 n_envs=N_ENVS,\n",
    "                                 n_steps=N_STEPS,\n",
    "                                 no_render=NO_RENDER,\n",
    "                                 project=PROJECT,\n",
    "                                 wandb_on=WANDB_ON\n",
    "                                 debug_on=False)\n",
    "        \n",
    "        # all_infer_logs[RUN_KEY] = infer_logs\n",
    "        \n",
    "        infer_data_np = np.empty((0,5))\n",
    "\n",
    "        for idx in range(len(infer_logs)):\n",
    "\n",
    "            infer_data_np = np.vstack((infer_data_np, \n",
    "                                       np.array([infer_logs[idx].scores, \n",
    "                                                 infer_logs[idx].times, \n",
    "                                                 infer_logs[idx].lengths,\n",
    "                                                 infer_logs[idx].frame_numbers,\n",
    "                                                 infer_logs[idx].run_frame_numbers]).T))\n",
    "\n",
    "        infer_data = pd.DataFrame(infer_data_np, \n",
    "                                  columns=[\"scores\", \n",
    "                                           \"times\", \n",
    "                                           \"lengths\", \n",
    "                                           \"frame_numbers\", \n",
    "                                           \"run_frame_numbers\"])\n",
    "\n",
    "        all_infer_data[RUN_KEY] = infer_data\n"
   ]
  },
  {
   "cell_type": "code",
   "execution_count": null,
   "metadata": {},
   "outputs": [],
   "source": [
    "all_infer_data['A2C_Pong']"
   ]
  },
  {
   "cell_type": "code",
   "execution_count": null,
   "metadata": {},
   "outputs": [],
   "source": [
    "losses = [223,2232,4,5,6,7,8,9,10,11,12,13,14,15,16,17,18,19,20]\n",
    "\n",
    "{f\"losses/loss-{ii}\": loss for ii, loss in enumerate(losses)}"
   ]
  },
  {
   "cell_type": "code",
   "execution_count": null,
   "metadata": {},
   "outputs": [],
   "source": [
    "import wandb\n",
    "\n",
    "wandb.init(project=PROJECT,\n",
    "           name=\"ppo_breakout_eval_14\",\n",
    "           group=\"ppo\",\n",
    "           job_type=\"eval\",\n",
    "           settings=wandb.Settings(disable_job_creation=True))\n",
    "\n",
    "\n",
    "run_frame_numbers = []\n",
    "\n",
    "episode_scores = []\n",
    "episode_times = []\n",
    "episode_lengths = []\n",
    "episode_lives = []\n",
    "episode_frame_numbers = []\n",
    "\n",
    "\n",
    "for infer_log in all_infer_logs['PPO_Breakout']:\n",
    "\n",
    "    for episode in infer_log.episode_logs:\n",
    "\n",
    "        run_frame_numbers.append((episode.run_frame_number, episode.run_frame_number))\n",
    "\n",
    "        episode_scores.append((episode.run_frame_number, episode.episode_score))\n",
    "        episode_lengths.append((episode.run_frame_number, episode.episode_length))\n",
    "        episode_times.append((episode.run_frame_number, episode.episode_time))\n",
    "        episode_lives.append((episode.run_frame_number, episode.episode_lives))\n",
    "        episode_frame_numbers.append((episode.run_frame_number, episode.episode_frame_number))\n",
    "\n",
    "\n",
    "run_frame_numbers.sort(key=lambda x: x[0])\n",
    "\n",
    "episode_scores.sort(key=lambda x: x[0])\n",
    "episode_lengths.sort(key=lambda x: x[0])\n",
    "episode_times.sort(key=lambda x: x[0])\n",
    "episode_lives.sort(key=lambda x: x[0])\n",
    "episode_frame_numbers.sort(key=lambda x: x[0])\n",
    "\n",
    "\n",
    "for idx, run_frame_number in enumerate(run_frame_numbers):\n",
    "\n",
    "    wandb.log(data={\"episode_score\": episode_scores[idx][1],\n",
    "                    \"episode_time\": episode_times[idx][1],\n",
    "                    \"episode_length\": episode_lengths[idx][1],\n",
    "                    \"episode_lives\": episode_lives[idx][1],\n",
    "                    \"run_frame_number\": run_frame_number[0]},\n",
    "                    step=run_frame_number[0])\n",
    "\n",
    "wandb.finish()\n",
    "\n",
    "\n"
   ]
  },
  {
   "cell_type": "code",
   "execution_count": null,
   "metadata": {},
   "outputs": [],
   "source": [
    "episode_frame_numbers"
   ]
  },
  {
   "cell_type": "code",
   "execution_count": null,
   "metadata": {},
   "outputs": [],
   "source": [
    "_run_frame_numbers"
   ]
  },
  {
   "cell_type": "code",
   "execution_count": null,
   "metadata": {},
   "outputs": [],
   "source": [
    "    # wandb.log(data={f\"episode_times/time-{idx}\": time for idx, time in enumerate(episode_times)})\n",
    "    # wandb.log(data={f\"episode_lengths/length-{idx}\": length for idx, length in enumerate(episode_lengths)})\n",
    "    # wandb.log(data={f\"episode_lives/lives-{idx}\": lives for idx, lives in enumerate(episode_lives)})\n",
    "    # wandb.log(data={f\"episode_frame_numbers/frame_number-{idx}\": frame_number for idx, frame_number in enumerate(episode_frame_numbers)})\n",
    "    # wandb.log(data={f\"run_frame_numbers/frame_number-{idx}\": frame_number for idx, frame_number in enumerate(run_frame_numbers)})\n"
   ]
  },
  {
   "cell_type": "code",
   "execution_count": null,
   "metadata": {},
   "outputs": [],
   "source": [
    "wandb_log"
   ]
  },
  {
   "cell_type": "code",
   "execution_count": null,
   "metadata": {},
   "outputs": [],
   "source": [
    "import wandb\n",
    "\n",
    "wandb.init(project=PROJECT,\n",
    "           name=\"ppo_breakout_eval\",\n",
    "           group=\"ppo\",\n",
    "           job_type=\"eval\")\n",
    "\n",
    "wandb_tbl = wandb.Table(dataframe=all_infer_data['PPO_Breakout'])\n",
    "\n",
    "wandb.log({\"ppo_breakout_eval\": wandb_tbl})\n",
    "\n",
    "wandb.finish()"
   ]
  },
  {
   "cell_type": "code",
   "execution_count": null,
   "metadata": {},
   "outputs": [],
   "source": [
    "all_infer_logs"
   ]
  },
  {
   "cell_type": "code",
   "execution_count": null,
   "metadata": {},
   "outputs": [],
   "source": [
    "all_infer_data['PPO_BREAKOUT']"
   ]
  },
  {
   "cell_type": "code",
   "execution_count": null,
   "metadata": {},
   "outputs": [],
   "source": [
    "all_infer_data['A2C_BREAKOUT']"
   ]
  }
 ],
 "metadata": {
  "kernelspec": {
   "display_name": "gym",
   "language": "python",
   "name": "python3"
  },
  "language_info": {
   "codemirror_mode": {
    "name": "ipython",
    "version": 3
   },
   "file_extension": ".py",
   "mimetype": "text/x-python",
   "name": "python",
   "nbconvert_exporter": "python",
   "pygments_lexer": "ipython3",
   "version": "3.9.0"
  }
 },
 "nbformat": 4,
 "nbformat_minor": 2
}
