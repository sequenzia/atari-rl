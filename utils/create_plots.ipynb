{
 "cells": [
  {
   "cell_type": "code",
   "execution_count": 197,
   "metadata": {},
   "outputs": [],
   "source": [
    "import pandas as pd\n",
    "import plotly.express as px\n",
    "\n",
    "from pathlib import Path\n",
    "from sklearn.preprocessing import normalize\n",
    "from scipy.stats import zscore\n",
    "\n",
    "DATA_PATH = \"/home/sequenzia/dev/repos/atari-rl/data/evals/\"\n",
    "\n",
    "all_infer_data = {}\n",
    "\n",
    "for file_path in Path(DATA_PATH).glob(\"**/*.parquet\"):\n",
    "\n",
    "    # print(f\"Reading {file_path}\")\n",
    "\n",
    "    data = pd.read_parquet(file_path)\n",
    "\n",
    "    if data.shape[0] > 0:\n",
    "\n",
    "        run_key = data[\"run_key\"].values[0]\n",
    "\n",
    "        all_infer_data[run_key] = data\n",
    "\n",
    "\n",
    "# ---- stats ----\n",
    "\n",
    "all_algos = []\n",
    "all_games = []\n",
    "all_run_keys = []\n",
    "\n",
    "all_data_list = []\n",
    "\n",
    "for key, data in all_infer_data.items():\n",
    "\n",
    "    algo = data['algo'].values[0].upper()\n",
    "    game = data['game'].values[0]\n",
    "    run_key = data['run_key'].values[0]\n",
    "\n",
    "    all_algos.append(algo)\n",
    "    all_games.append(game)\n",
    "    all_run_keys.append(run_key)\n",
    "\n",
    "    scores = data['scores'].values.tolist()\n",
    "    lengths = data['lengths'].values.tolist()\n",
    "\n",
    "    for idx in range(len(scores)):\n",
    "        score = scores[idx]\n",
    "        length = lengths[idx]\n",
    "\n",
    "        all_data_list.append([key, algo, game, length, score])\n",
    "\n",
    "all_data = pd.DataFrame(all_data_list, columns=[\"run_key\", \n",
    "                                                \"algo\", \n",
    "                                                \"game\", \n",
    "                                                \"length\",\n",
    "                                                \"score\",])\n",
    "\n",
    "# all_data['score_norm'] = normalize(all_data['score'].values.reshape(-1, 1), axis=0, norm='l2') * 1\n",
    "# all_data['score_norm'] = normalize(all_data['score'].values.reshape(-1, 1),\n",
    "#                                    axis=1, \n",
    "#                                    norm='l2') * 1\n",
    "\n",
    "all_data['length_zscore'] = zscore(all_data['length'])\n",
    "all_data['score_zscore'] = zscore(all_data['score'])\n",
    "\n",
    "# # --- by algo --- #\n",
    "\n",
    "# data_by_algo = all_data[['length',\n",
    "#                          'length_zscore',\n",
    "#                          'score',\n",
    "#                          'score_zscore',\n",
    "#                          'score_norm',\n",
    "#                          'score_norm_zscore',\n",
    "#                          'algo']].groupby(['algo']).agg(['count', 'mean', 'std', 'min', 'max', 'median'])\n",
    "\n",
    "# # --- by game --- #\n",
    "\n",
    "# data_by_game = all_data[['length',\n",
    "#                          'length_zscore',\n",
    "#                          'score',\n",
    "#                          'score_zscore',\n",
    "#                          'score_norm',\n",
    "#                          'score_norm_zscore',\n",
    "#                          'game']].groupby(['game']).agg(['count', 'mean', 'std', 'min', 'max', 'median'])\n",
    "\n",
    "# # --- by algo game --- #\n",
    "\n",
    "games_data = all_data[['score',\n",
    "                        'length',\n",
    "                        'algo',\n",
    "                        'game']].groupby(['algo', 'game']).agg(['mean', 'std', 'min', 'max', 'median','sum','count'])\n",
    "\n",
    "games_data.columns = ['score_mean', 'score_std', 'score_min', 'score_max', 'score_median', 'score_sum', 'count_score',\n",
    "                      'length_mean', 'length_std', 'length_min', 'length_max', 'length_median', 'length_sum', 'count']\n",
    "\n",
    "games_data = games_data[['score_mean', 'score_std', 'score_min', 'score_max', 'score_median', 'score_sum',\n",
    "                        'length_mean', 'length_std', 'length_min', 'length_max', 'length_median', 'length_sum', 'count']]\n",
    "\n",
    "games_data.reset_index(level=1, inplace=True)\n"
   ]
  },
  {
   "cell_type": "code",
   "execution_count": 198,
   "metadata": {},
   "outputs": [
    {
     "data": {
      "text/html": [
       "<div>\n",
       "<style scoped>\n",
       "    .dataframe tbody tr th:only-of-type {\n",
       "        vertical-align: middle;\n",
       "    }\n",
       "\n",
       "    .dataframe tbody tr th {\n",
       "        vertical-align: top;\n",
       "    }\n",
       "\n",
       "    .dataframe thead th {\n",
       "        text-align: right;\n",
       "    }\n",
       "</style>\n",
       "<table border=\"1\" class=\"dataframe\">\n",
       "  <thead>\n",
       "    <tr style=\"text-align: right;\">\n",
       "      <th></th>\n",
       "      <th>game</th>\n",
       "      <th>score_mean</th>\n",
       "      <th>score_std</th>\n",
       "      <th>score_min</th>\n",
       "      <th>score_max</th>\n",
       "      <th>score_median</th>\n",
       "      <th>score_sum</th>\n",
       "      <th>length_mean</th>\n",
       "      <th>length_std</th>\n",
       "      <th>length_min</th>\n",
       "      <th>length_max</th>\n",
       "      <th>length_median</th>\n",
       "      <th>length_sum</th>\n",
       "      <th>count</th>\n",
       "    </tr>\n",
       "    <tr>\n",
       "      <th>algo</th>\n",
       "      <th></th>\n",
       "      <th></th>\n",
       "      <th></th>\n",
       "      <th></th>\n",
       "      <th></th>\n",
       "      <th></th>\n",
       "      <th></th>\n",
       "      <th></th>\n",
       "      <th></th>\n",
       "      <th></th>\n",
       "      <th></th>\n",
       "      <th></th>\n",
       "      <th></th>\n",
       "      <th></th>\n",
       "    </tr>\n",
       "  </thead>\n",
       "  <tbody>\n",
       "    <tr>\n",
       "      <th>A2C</th>\n",
       "      <td>Assault</td>\n",
       "      <td>2504.230769</td>\n",
       "      <td>1708.867713</td>\n",
       "      <td>693.0</td>\n",
       "      <td>6256.0</td>\n",
       "      <td>2642.0</td>\n",
       "      <td>32555.0</td>\n",
       "      <td>2940.538462</td>\n",
       "      <td>1870.102966</td>\n",
       "      <td>1027.0</td>\n",
       "      <td>7058.0</td>\n",
       "      <td>3235.0</td>\n",
       "      <td>38227.0</td>\n",
       "      <td>13</td>\n",
       "    </tr>\n",
       "    <tr>\n",
       "      <th>A2C</th>\n",
       "      <td>Asterix</td>\n",
       "      <td>10486.111111</td>\n",
       "      <td>8457.920158</td>\n",
       "      <td>1050.0</td>\n",
       "      <td>32900.0</td>\n",
       "      <td>6750.0</td>\n",
       "      <td>188750.0</td>\n",
       "      <td>2223.055556</td>\n",
       "      <td>997.980695</td>\n",
       "      <td>533.0</td>\n",
       "      <td>4652.0</td>\n",
       "      <td>2009.0</td>\n",
       "      <td>40015.0</td>\n",
       "      <td>18</td>\n",
       "    </tr>\n",
       "    <tr>\n",
       "      <th>A2C</th>\n",
       "      <td>Asteroids</td>\n",
       "      <td>1677.500000</td>\n",
       "      <td>506.837550</td>\n",
       "      <td>830.0</td>\n",
       "      <td>2550.0</td>\n",
       "      <td>1650.0</td>\n",
       "      <td>73810.0</td>\n",
       "      <td>959.590909</td>\n",
       "      <td>260.709258</td>\n",
       "      <td>462.0</td>\n",
       "      <td>1603.0</td>\n",
       "      <td>984.0</td>\n",
       "      <td>42222.0</td>\n",
       "      <td>44</td>\n",
       "    </tr>\n",
       "    <tr>\n",
       "      <th>A2C</th>\n",
       "      <td>Breakout</td>\n",
       "      <td>51.142857</td>\n",
       "      <td>41.018750</td>\n",
       "      <td>14.0</td>\n",
       "      <td>272.0</td>\n",
       "      <td>43.0</td>\n",
       "      <td>1790.0</td>\n",
       "      <td>1198.942857</td>\n",
       "      <td>231.817365</td>\n",
       "      <td>639.0</td>\n",
       "      <td>1655.0</td>\n",
       "      <td>1174.0</td>\n",
       "      <td>41963.0</td>\n",
       "      <td>35</td>\n",
       "    </tr>\n",
       "    <tr>\n",
       "      <th>A2C</th>\n",
       "      <td>Centipede</td>\n",
       "      <td>33094.000000</td>\n",
       "      <td>20441.603460</td>\n",
       "      <td>6827.0</td>\n",
       "      <td>71429.0</td>\n",
       "      <td>37231.0</td>\n",
       "      <td>297846.0</td>\n",
       "      <td>4310.444444</td>\n",
       "      <td>2524.006196</td>\n",
       "      <td>1090.0</td>\n",
       "      <td>9235.0</td>\n",
       "      <td>4380.0</td>\n",
       "      <td>38794.0</td>\n",
       "      <td>9</td>\n",
       "    </tr>\n",
       "    <tr>\n",
       "      <th>A2C</th>\n",
       "      <td>MsPacman</td>\n",
       "      <td>4122.272727</td>\n",
       "      <td>1236.311456</td>\n",
       "      <td>2130.0</td>\n",
       "      <td>6110.0</td>\n",
       "      <td>4510.0</td>\n",
       "      <td>90690.0</td>\n",
       "      <td>1763.636364</td>\n",
       "      <td>340.347938</td>\n",
       "      <td>1143.0</td>\n",
       "      <td>2457.0</td>\n",
       "      <td>1875.0</td>\n",
       "      <td>38800.0</td>\n",
       "      <td>22</td>\n",
       "    </tr>\n",
       "    <tr>\n",
       "      <th>A2C</th>\n",
       "      <td>Pong</td>\n",
       "      <td>-1.000000</td>\n",
       "      <td>5.802298</td>\n",
       "      <td>-10.0</td>\n",
       "      <td>7.0</td>\n",
       "      <td>-3.0</td>\n",
       "      <td>-7.0</td>\n",
       "      <td>5535.571429</td>\n",
       "      <td>700.141856</td>\n",
       "      <td>4463.0</td>\n",
       "      <td>6536.0</td>\n",
       "      <td>5765.0</td>\n",
       "      <td>38749.0</td>\n",
       "      <td>7</td>\n",
       "    </tr>\n",
       "    <tr>\n",
       "      <th>A2C</th>\n",
       "      <td>Qbert</td>\n",
       "      <td>26895.833333</td>\n",
       "      <td>2016.433433</td>\n",
       "      <td>24100.0</td>\n",
       "      <td>29325.0</td>\n",
       "      <td>27962.5</td>\n",
       "      <td>322750.0</td>\n",
       "      <td>3377.166667</td>\n",
       "      <td>400.928884</td>\n",
       "      <td>2896.0</td>\n",
       "      <td>4040.0</td>\n",
       "      <td>3257.5</td>\n",
       "      <td>40526.0</td>\n",
       "      <td>12</td>\n",
       "    </tr>\n",
       "    <tr>\n",
       "      <th>A2C</th>\n",
       "      <td>Seaquest</td>\n",
       "      <td>1652.222222</td>\n",
       "      <td>93.843145</td>\n",
       "      <td>1280.0</td>\n",
       "      <td>1700.0</td>\n",
       "      <td>1680.0</td>\n",
       "      <td>29740.0</td>\n",
       "      <td>2245.833333</td>\n",
       "      <td>106.773124</td>\n",
       "      <td>1818.0</td>\n",
       "      <td>2271.0</td>\n",
       "      <td>2271.0</td>\n",
       "      <td>40425.0</td>\n",
       "      <td>18</td>\n",
       "    </tr>\n",
       "    <tr>\n",
       "      <th>A2C</th>\n",
       "      <td>SpaceInvaders</td>\n",
       "      <td>1018.548387</td>\n",
       "      <td>432.142325</td>\n",
       "      <td>515.0</td>\n",
       "      <td>1855.0</td>\n",
       "      <td>970.0</td>\n",
       "      <td>31575.0</td>\n",
       "      <td>1278.516129</td>\n",
       "      <td>449.651633</td>\n",
       "      <td>704.0</td>\n",
       "      <td>2124.0</td>\n",
       "      <td>1126.0</td>\n",
       "      <td>39634.0</td>\n",
       "      <td>31</td>\n",
       "    </tr>\n",
       "    <tr>\n",
       "      <th>DQN</th>\n",
       "      <td>Assault</td>\n",
       "      <td>4689.750000</td>\n",
       "      <td>1993.517906</td>\n",
       "      <td>1981.0</td>\n",
       "      <td>7666.0</td>\n",
       "      <td>4312.0</td>\n",
       "      <td>37518.0</td>\n",
       "      <td>4728.500000</td>\n",
       "      <td>1793.770490</td>\n",
       "      <td>2199.0</td>\n",
       "      <td>7447.0</td>\n",
       "      <td>4353.0</td>\n",
       "      <td>37828.0</td>\n",
       "      <td>8</td>\n",
       "    </tr>\n",
       "    <tr>\n",
       "      <th>DQN</th>\n",
       "      <td>Asterix</td>\n",
       "      <td>4439.062500</td>\n",
       "      <td>1867.538244</td>\n",
       "      <td>900.0</td>\n",
       "      <td>7700.0</td>\n",
       "      <td>4500.0</td>\n",
       "      <td>142050.0</td>\n",
       "      <td>1235.718750</td>\n",
       "      <td>329.061445</td>\n",
       "      <td>499.0</td>\n",
       "      <td>1760.0</td>\n",
       "      <td>1249.0</td>\n",
       "      <td>39543.0</td>\n",
       "      <td>32</td>\n",
       "    </tr>\n",
       "    <tr>\n",
       "      <th>DQN</th>\n",
       "      <td>Asteroids</td>\n",
       "      <td>560.000000</td>\n",
       "      <td>262.593899</td>\n",
       "      <td>130.0</td>\n",
       "      <td>1180.0</td>\n",
       "      <td>530.0</td>\n",
       "      <td>25760.0</td>\n",
       "      <td>926.521739</td>\n",
       "      <td>415.458662</td>\n",
       "      <td>345.0</td>\n",
       "      <td>2071.0</td>\n",
       "      <td>801.5</td>\n",
       "      <td>42620.0</td>\n",
       "      <td>46</td>\n",
       "    </tr>\n",
       "    <tr>\n",
       "      <th>DQN</th>\n",
       "      <td>Breakout</td>\n",
       "      <td>30.395349</td>\n",
       "      <td>8.544393</td>\n",
       "      <td>16.0</td>\n",
       "      <td>52.0</td>\n",
       "      <td>29.0</td>\n",
       "      <td>1307.0</td>\n",
       "      <td>979.581395</td>\n",
       "      <td>161.142533</td>\n",
       "      <td>722.0</td>\n",
       "      <td>1429.0</td>\n",
       "      <td>966.0</td>\n",
       "      <td>42122.0</td>\n",
       "      <td>43</td>\n",
       "    </tr>\n",
       "    <tr>\n",
       "      <th>DQN</th>\n",
       "      <td>Centipede</td>\n",
       "      <td>4170.238095</td>\n",
       "      <td>2144.215085</td>\n",
       "      <td>1405.0</td>\n",
       "      <td>10958.0</td>\n",
       "      <td>3590.0</td>\n",
       "      <td>175150.0</td>\n",
       "      <td>995.547619</td>\n",
       "      <td>266.258833</td>\n",
       "      <td>557.0</td>\n",
       "      <td>1585.0</td>\n",
       "      <td>992.0</td>\n",
       "      <td>41813.0</td>\n",
       "      <td>42</td>\n",
       "    </tr>\n",
       "    <tr>\n",
       "      <th>DQN</th>\n",
       "      <td>MsPacman</td>\n",
       "      <td>2824.358974</td>\n",
       "      <td>843.700480</td>\n",
       "      <td>1660.0</td>\n",
       "      <td>4830.0</td>\n",
       "      <td>2700.0</td>\n",
       "      <td>110150.0</td>\n",
       "      <td>1043.666667</td>\n",
       "      <td>151.826309</td>\n",
       "      <td>791.0</td>\n",
       "      <td>1479.0</td>\n",
       "      <td>1005.0</td>\n",
       "      <td>40703.0</td>\n",
       "      <td>39</td>\n",
       "    </tr>\n",
       "    <tr>\n",
       "      <th>DQN</th>\n",
       "      <td>Pong</td>\n",
       "      <td>10.909091</td>\n",
       "      <td>4.414851</td>\n",
       "      <td>3.0</td>\n",
       "      <td>17.0</td>\n",
       "      <td>10.0</td>\n",
       "      <td>120.0</td>\n",
       "      <td>3393.727273</td>\n",
       "      <td>454.291556</td>\n",
       "      <td>2692.0</td>\n",
       "      <td>4169.0</td>\n",
       "      <td>3541.0</td>\n",
       "      <td>37331.0</td>\n",
       "      <td>11</td>\n",
       "    </tr>\n",
       "    <tr>\n",
       "      <th>DQN</th>\n",
       "      <td>Qbert</td>\n",
       "      <td>13105.357143</td>\n",
       "      <td>4033.587900</td>\n",
       "      <td>800.0</td>\n",
       "      <td>19950.0</td>\n",
       "      <td>15137.5</td>\n",
       "      <td>366950.0</td>\n",
       "      <td>1469.392857</td>\n",
       "      <td>434.122558</td>\n",
       "      <td>583.0</td>\n",
       "      <td>2140.0</td>\n",
       "      <td>1471.0</td>\n",
       "      <td>41143.0</td>\n",
       "      <td>28</td>\n",
       "    </tr>\n",
       "    <tr>\n",
       "      <th>DQN</th>\n",
       "      <td>Seaquest</td>\n",
       "      <td>1841.176471</td>\n",
       "      <td>492.009684</td>\n",
       "      <td>1100.0</td>\n",
       "      <td>2740.0</td>\n",
       "      <td>1780.0</td>\n",
       "      <td>31300.0</td>\n",
       "      <td>2327.647059</td>\n",
       "      <td>399.252574</td>\n",
       "      <td>1646.0</td>\n",
       "      <td>3178.0</td>\n",
       "      <td>2300.0</td>\n",
       "      <td>39570.0</td>\n",
       "      <td>17</td>\n",
       "    </tr>\n",
       "    <tr>\n",
       "      <th>DQN</th>\n",
       "      <td>SpaceInvaders</td>\n",
       "      <td>465.000000</td>\n",
       "      <td>138.650779</td>\n",
       "      <td>120.0</td>\n",
       "      <td>900.0</td>\n",
       "      <td>460.0</td>\n",
       "      <td>24645.0</td>\n",
       "      <td>787.113208</td>\n",
       "      <td>198.820721</td>\n",
       "      <td>467.0</td>\n",
       "      <td>1370.0</td>\n",
       "      <td>730.0</td>\n",
       "      <td>41717.0</td>\n",
       "      <td>53</td>\n",
       "    </tr>\n",
       "    <tr>\n",
       "      <th>PPO</th>\n",
       "      <td>Assault</td>\n",
       "      <td>4257.000000</td>\n",
       "      <td>1578.695845</td>\n",
       "      <td>3037.0</td>\n",
       "      <td>7972.0</td>\n",
       "      <td>3652.5</td>\n",
       "      <td>34056.0</td>\n",
       "      <td>4899.250000</td>\n",
       "      <td>1440.628211</td>\n",
       "      <td>3683.0</td>\n",
       "      <td>8293.0</td>\n",
       "      <td>4498.0</td>\n",
       "      <td>39194.0</td>\n",
       "      <td>8</td>\n",
       "    </tr>\n",
       "    <tr>\n",
       "      <th>PPO</th>\n",
       "      <td>Asterix</td>\n",
       "      <td>3645.000000</td>\n",
       "      <td>1423.227876</td>\n",
       "      <td>1150.0</td>\n",
       "      <td>6800.0</td>\n",
       "      <td>3550.0</td>\n",
       "      <td>109350.0</td>\n",
       "      <td>1327.700000</td>\n",
       "      <td>387.592672</td>\n",
       "      <td>483.0</td>\n",
       "      <td>2318.0</td>\n",
       "      <td>1345.5</td>\n",
       "      <td>39831.0</td>\n",
       "      <td>30</td>\n",
       "    </tr>\n",
       "    <tr>\n",
       "      <th>PPO</th>\n",
       "      <td>Asteroids</td>\n",
       "      <td>1766.595745</td>\n",
       "      <td>590.744838</td>\n",
       "      <td>730.0</td>\n",
       "      <td>3000.0</td>\n",
       "      <td>1830.0</td>\n",
       "      <td>83030.0</td>\n",
       "      <td>893.510638</td>\n",
       "      <td>270.622220</td>\n",
       "      <td>382.0</td>\n",
       "      <td>1389.0</td>\n",
       "      <td>942.0</td>\n",
       "      <td>41995.0</td>\n",
       "      <td>47</td>\n",
       "    </tr>\n",
       "    <tr>\n",
       "      <th>PPO</th>\n",
       "      <td>Breakout</td>\n",
       "      <td>35.804878</td>\n",
       "      <td>12.241772</td>\n",
       "      <td>16.0</td>\n",
       "      <td>65.0</td>\n",
       "      <td>36.0</td>\n",
       "      <td>1468.0</td>\n",
       "      <td>1037.878049</td>\n",
       "      <td>188.881735</td>\n",
       "      <td>697.0</td>\n",
       "      <td>1486.0</td>\n",
       "      <td>998.0</td>\n",
       "      <td>42553.0</td>\n",
       "      <td>41</td>\n",
       "    </tr>\n",
       "    <tr>\n",
       "      <th>PPO</th>\n",
       "      <td>Centipede</td>\n",
       "      <td>11692.125000</td>\n",
       "      <td>6040.150857</td>\n",
       "      <td>4557.0</td>\n",
       "      <td>25420.0</td>\n",
       "      <td>11692.5</td>\n",
       "      <td>280611.0</td>\n",
       "      <td>1690.416667</td>\n",
       "      <td>657.905432</td>\n",
       "      <td>767.0</td>\n",
       "      <td>3497.0</td>\n",
       "      <td>1550.0</td>\n",
       "      <td>40570.0</td>\n",
       "      <td>24</td>\n",
       "    </tr>\n",
       "    <tr>\n",
       "      <th>PPO</th>\n",
       "      <td>MsPacman</td>\n",
       "      <td>4382.083333</td>\n",
       "      <td>1319.268503</td>\n",
       "      <td>1880.0</td>\n",
       "      <td>6440.0</td>\n",
       "      <td>4790.0</td>\n",
       "      <td>105170.0</td>\n",
       "      <td>1654.750000</td>\n",
       "      <td>411.667368</td>\n",
       "      <td>957.0</td>\n",
       "      <td>2413.0</td>\n",
       "      <td>1784.0</td>\n",
       "      <td>39714.0</td>\n",
       "      <td>24</td>\n",
       "    </tr>\n",
       "    <tr>\n",
       "      <th>PPO</th>\n",
       "      <td>Pong</td>\n",
       "      <td>0.428571</td>\n",
       "      <td>7.742892</td>\n",
       "      <td>-11.0</td>\n",
       "      <td>11.0</td>\n",
       "      <td>1.0</td>\n",
       "      <td>3.0</td>\n",
       "      <td>5677.428571</td>\n",
       "      <td>593.793414</td>\n",
       "      <td>4796.0</td>\n",
       "      <td>6444.0</td>\n",
       "      <td>5842.0</td>\n",
       "      <td>39742.0</td>\n",
       "      <td>7</td>\n",
       "    </tr>\n",
       "    <tr>\n",
       "      <th>PPO</th>\n",
       "      <td>Qbert</td>\n",
       "      <td>25831.818182</td>\n",
       "      <td>7074.099686</td>\n",
       "      <td>8050.0</td>\n",
       "      <td>29625.0</td>\n",
       "      <td>29025.0</td>\n",
       "      <td>284150.0</td>\n",
       "      <td>3380.090909</td>\n",
       "      <td>829.478204</td>\n",
       "      <td>1260.0</td>\n",
       "      <td>4083.0</td>\n",
       "      <td>3730.0</td>\n",
       "      <td>37181.0</td>\n",
       "      <td>11</td>\n",
       "    </tr>\n",
       "    <tr>\n",
       "      <th>PPO</th>\n",
       "      <td>Seaquest</td>\n",
       "      <td>3180.000000</td>\n",
       "      <td>892.561856</td>\n",
       "      <td>1740.0</td>\n",
       "      <td>4300.0</td>\n",
       "      <td>3260.0</td>\n",
       "      <td>41340.0</td>\n",
       "      <td>2944.846154</td>\n",
       "      <td>360.963952</td>\n",
       "      <td>2319.0</td>\n",
       "      <td>3343.0</td>\n",
       "      <td>2903.0</td>\n",
       "      <td>38283.0</td>\n",
       "      <td>13</td>\n",
       "    </tr>\n",
       "    <tr>\n",
       "      <th>PPO</th>\n",
       "      <td>SpaceInvaders</td>\n",
       "      <td>1064.531250</td>\n",
       "      <td>298.875202</td>\n",
       "      <td>470.0</td>\n",
       "      <td>1525.0</td>\n",
       "      <td>1135.0</td>\n",
       "      <td>34065.0</td>\n",
       "      <td>1270.625000</td>\n",
       "      <td>276.903122</td>\n",
       "      <td>817.0</td>\n",
       "      <td>1821.0</td>\n",
       "      <td>1340.5</td>\n",
       "      <td>40660.0</td>\n",
       "      <td>32</td>\n",
       "    </tr>\n",
       "  </tbody>\n",
       "</table>\n",
       "</div>"
      ],
      "text/plain": [
       "               game    score_mean     score_std  score_min  score_max  \\\n",
       "algo                                                                    \n",
       "A2C         Assault   2504.230769   1708.867713      693.0     6256.0   \n",
       "A2C         Asterix  10486.111111   8457.920158     1050.0    32900.0   \n",
       "A2C       Asteroids   1677.500000    506.837550      830.0     2550.0   \n",
       "A2C        Breakout     51.142857     41.018750       14.0      272.0   \n",
       "A2C       Centipede  33094.000000  20441.603460     6827.0    71429.0   \n",
       "A2C        MsPacman   4122.272727   1236.311456     2130.0     6110.0   \n",
       "A2C            Pong     -1.000000      5.802298      -10.0        7.0   \n",
       "A2C           Qbert  26895.833333   2016.433433    24100.0    29325.0   \n",
       "A2C        Seaquest   1652.222222     93.843145     1280.0     1700.0   \n",
       "A2C   SpaceInvaders   1018.548387    432.142325      515.0     1855.0   \n",
       "DQN         Assault   4689.750000   1993.517906     1981.0     7666.0   \n",
       "DQN         Asterix   4439.062500   1867.538244      900.0     7700.0   \n",
       "DQN       Asteroids    560.000000    262.593899      130.0     1180.0   \n",
       "DQN        Breakout     30.395349      8.544393       16.0       52.0   \n",
       "DQN       Centipede   4170.238095   2144.215085     1405.0    10958.0   \n",
       "DQN        MsPacman   2824.358974    843.700480     1660.0     4830.0   \n",
       "DQN            Pong     10.909091      4.414851        3.0       17.0   \n",
       "DQN           Qbert  13105.357143   4033.587900      800.0    19950.0   \n",
       "DQN        Seaquest   1841.176471    492.009684     1100.0     2740.0   \n",
       "DQN   SpaceInvaders    465.000000    138.650779      120.0      900.0   \n",
       "PPO         Assault   4257.000000   1578.695845     3037.0     7972.0   \n",
       "PPO         Asterix   3645.000000   1423.227876     1150.0     6800.0   \n",
       "PPO       Asteroids   1766.595745    590.744838      730.0     3000.0   \n",
       "PPO        Breakout     35.804878     12.241772       16.0       65.0   \n",
       "PPO       Centipede  11692.125000   6040.150857     4557.0    25420.0   \n",
       "PPO        MsPacman   4382.083333   1319.268503     1880.0     6440.0   \n",
       "PPO            Pong      0.428571      7.742892      -11.0       11.0   \n",
       "PPO           Qbert  25831.818182   7074.099686     8050.0    29625.0   \n",
       "PPO        Seaquest   3180.000000    892.561856     1740.0     4300.0   \n",
       "PPO   SpaceInvaders   1064.531250    298.875202      470.0     1525.0   \n",
       "\n",
       "      score_median  score_sum  length_mean   length_std  length_min  \\\n",
       "algo                                                                  \n",
       "A2C         2642.0    32555.0  2940.538462  1870.102966      1027.0   \n",
       "A2C         6750.0   188750.0  2223.055556   997.980695       533.0   \n",
       "A2C         1650.0    73810.0   959.590909   260.709258       462.0   \n",
       "A2C           43.0     1790.0  1198.942857   231.817365       639.0   \n",
       "A2C        37231.0   297846.0  4310.444444  2524.006196      1090.0   \n",
       "A2C         4510.0    90690.0  1763.636364   340.347938      1143.0   \n",
       "A2C           -3.0       -7.0  5535.571429   700.141856      4463.0   \n",
       "A2C        27962.5   322750.0  3377.166667   400.928884      2896.0   \n",
       "A2C         1680.0    29740.0  2245.833333   106.773124      1818.0   \n",
       "A2C          970.0    31575.0  1278.516129   449.651633       704.0   \n",
       "DQN         4312.0    37518.0  4728.500000  1793.770490      2199.0   \n",
       "DQN         4500.0   142050.0  1235.718750   329.061445       499.0   \n",
       "DQN          530.0    25760.0   926.521739   415.458662       345.0   \n",
       "DQN           29.0     1307.0   979.581395   161.142533       722.0   \n",
       "DQN         3590.0   175150.0   995.547619   266.258833       557.0   \n",
       "DQN         2700.0   110150.0  1043.666667   151.826309       791.0   \n",
       "DQN           10.0      120.0  3393.727273   454.291556      2692.0   \n",
       "DQN        15137.5   366950.0  1469.392857   434.122558       583.0   \n",
       "DQN         1780.0    31300.0  2327.647059   399.252574      1646.0   \n",
       "DQN          460.0    24645.0   787.113208   198.820721       467.0   \n",
       "PPO         3652.5    34056.0  4899.250000  1440.628211      3683.0   \n",
       "PPO         3550.0   109350.0  1327.700000   387.592672       483.0   \n",
       "PPO         1830.0    83030.0   893.510638   270.622220       382.0   \n",
       "PPO           36.0     1468.0  1037.878049   188.881735       697.0   \n",
       "PPO        11692.5   280611.0  1690.416667   657.905432       767.0   \n",
       "PPO         4790.0   105170.0  1654.750000   411.667368       957.0   \n",
       "PPO            1.0        3.0  5677.428571   593.793414      4796.0   \n",
       "PPO        29025.0   284150.0  3380.090909   829.478204      1260.0   \n",
       "PPO         3260.0    41340.0  2944.846154   360.963952      2319.0   \n",
       "PPO         1135.0    34065.0  1270.625000   276.903122       817.0   \n",
       "\n",
       "      length_max  length_median  length_sum  count  \n",
       "algo                                                \n",
       "A2C       7058.0         3235.0     38227.0     13  \n",
       "A2C       4652.0         2009.0     40015.0     18  \n",
       "A2C       1603.0          984.0     42222.0     44  \n",
       "A2C       1655.0         1174.0     41963.0     35  \n",
       "A2C       9235.0         4380.0     38794.0      9  \n",
       "A2C       2457.0         1875.0     38800.0     22  \n",
       "A2C       6536.0         5765.0     38749.0      7  \n",
       "A2C       4040.0         3257.5     40526.0     12  \n",
       "A2C       2271.0         2271.0     40425.0     18  \n",
       "A2C       2124.0         1126.0     39634.0     31  \n",
       "DQN       7447.0         4353.0     37828.0      8  \n",
       "DQN       1760.0         1249.0     39543.0     32  \n",
       "DQN       2071.0          801.5     42620.0     46  \n",
       "DQN       1429.0          966.0     42122.0     43  \n",
       "DQN       1585.0          992.0     41813.0     42  \n",
       "DQN       1479.0         1005.0     40703.0     39  \n",
       "DQN       4169.0         3541.0     37331.0     11  \n",
       "DQN       2140.0         1471.0     41143.0     28  \n",
       "DQN       3178.0         2300.0     39570.0     17  \n",
       "DQN       1370.0          730.0     41717.0     53  \n",
       "PPO       8293.0         4498.0     39194.0      8  \n",
       "PPO       2318.0         1345.5     39831.0     30  \n",
       "PPO       1389.0          942.0     41995.0     47  \n",
       "PPO       1486.0          998.0     42553.0     41  \n",
       "PPO       3497.0         1550.0     40570.0     24  \n",
       "PPO       2413.0         1784.0     39714.0     24  \n",
       "PPO       6444.0         5842.0     39742.0      7  \n",
       "PPO       4083.0         3730.0     37181.0     11  \n",
       "PPO       3343.0         2903.0     38283.0     13  \n",
       "PPO       1821.0         1340.5     40660.0     32  "
      ]
     },
     "execution_count": 198,
     "metadata": {},
     "output_type": "execute_result"
    }
   ],
   "source": [
    "games_data"
   ]
  },
  {
   "cell_type": "code",
   "execution_count": 203,
   "metadata": {},
   "outputs": [],
   "source": [
    "algos = all_data['algo'].unique().tolist()\n",
    "games = all_data['game'].unique().tolist()\n",
    "\n",
    "all_games = pd.DataFrame()\n",
    "\n",
    "for game in games:\n",
    "\n",
    "    all_games[game] = games_data[games_data['game'] == game]['score_mean']"
   ]
  },
  {
   "cell_type": "code",
   "execution_count": 204,
   "metadata": {},
   "outputs": [
    {
     "data": {
      "text/html": [
       "<div>\n",
       "<style scoped>\n",
       "    .dataframe tbody tr th:only-of-type {\n",
       "        vertical-align: middle;\n",
       "    }\n",
       "\n",
       "    .dataframe tbody tr th {\n",
       "        vertical-align: top;\n",
       "    }\n",
       "\n",
       "    .dataframe thead th {\n",
       "        text-align: right;\n",
       "    }\n",
       "</style>\n",
       "<table border=\"1\" class=\"dataframe\">\n",
       "  <thead>\n",
       "    <tr style=\"text-align: right;\">\n",
       "      <th></th>\n",
       "      <th>Pong</th>\n",
       "      <th>SpaceInvaders</th>\n",
       "      <th>Asterix</th>\n",
       "      <th>Breakout</th>\n",
       "      <th>Centipede</th>\n",
       "      <th>Asteroids</th>\n",
       "      <th>MsPacman</th>\n",
       "      <th>Assault</th>\n",
       "      <th>Qbert</th>\n",
       "      <th>Seaquest</th>\n",
       "    </tr>\n",
       "    <tr>\n",
       "      <th>algo</th>\n",
       "      <th></th>\n",
       "      <th></th>\n",
       "      <th></th>\n",
       "      <th></th>\n",
       "      <th></th>\n",
       "      <th></th>\n",
       "      <th></th>\n",
       "      <th></th>\n",
       "      <th></th>\n",
       "      <th></th>\n",
       "    </tr>\n",
       "  </thead>\n",
       "  <tbody>\n",
       "    <tr>\n",
       "      <th>A2C</th>\n",
       "      <td>-1.000000</td>\n",
       "      <td>1018.548387</td>\n",
       "      <td>10486.111111</td>\n",
       "      <td>51.142857</td>\n",
       "      <td>33094.000000</td>\n",
       "      <td>1677.500000</td>\n",
       "      <td>4122.272727</td>\n",
       "      <td>2504.230769</td>\n",
       "      <td>26895.833333</td>\n",
       "      <td>1652.222222</td>\n",
       "    </tr>\n",
       "    <tr>\n",
       "      <th>DQN</th>\n",
       "      <td>10.909091</td>\n",
       "      <td>465.000000</td>\n",
       "      <td>4439.062500</td>\n",
       "      <td>30.395349</td>\n",
       "      <td>4170.238095</td>\n",
       "      <td>560.000000</td>\n",
       "      <td>2824.358974</td>\n",
       "      <td>4689.750000</td>\n",
       "      <td>13105.357143</td>\n",
       "      <td>1841.176471</td>\n",
       "    </tr>\n",
       "    <tr>\n",
       "      <th>PPO</th>\n",
       "      <td>0.428571</td>\n",
       "      <td>1064.531250</td>\n",
       "      <td>3645.000000</td>\n",
       "      <td>35.804878</td>\n",
       "      <td>11692.125000</td>\n",
       "      <td>1766.595745</td>\n",
       "      <td>4382.083333</td>\n",
       "      <td>4257.000000</td>\n",
       "      <td>25831.818182</td>\n",
       "      <td>3180.000000</td>\n",
       "    </tr>\n",
       "  </tbody>\n",
       "</table>\n",
       "</div>"
      ],
      "text/plain": [
       "           Pong  SpaceInvaders       Asterix   Breakout     Centipede  \\\n",
       "algo                                                                    \n",
       "A2C   -1.000000    1018.548387  10486.111111  51.142857  33094.000000   \n",
       "DQN   10.909091     465.000000   4439.062500  30.395349   4170.238095   \n",
       "PPO    0.428571    1064.531250   3645.000000  35.804878  11692.125000   \n",
       "\n",
       "        Asteroids     MsPacman      Assault         Qbert     Seaquest  \n",
       "algo                                                                    \n",
       "A2C   1677.500000  4122.272727  2504.230769  26895.833333  1652.222222  \n",
       "DQN    560.000000  2824.358974  4689.750000  13105.357143  1841.176471  \n",
       "PPO   1766.595745  4382.083333  4257.000000  25831.818182  3180.000000  "
      ]
     },
     "execution_count": 204,
     "metadata": {},
     "output_type": "execute_result"
    }
   ],
   "source": [
    "all_games"
   ]
  },
  {
   "cell_type": "code",
   "execution_count": 88,
   "metadata": {},
   "outputs": [],
   "source": [
    "plots_shape = (800, 600)\n",
    "plots_colors = px.colors.qualitative.Dark24\n",
    "\n",
    "algos = all_data['algo'].unique().tolist()\n",
    "games = all_data['game'].unique().tolist()\n",
    "\n",
    "game_mean_lenths = pd.DataFrame()\n",
    "game_mean_scores = pd.DataFrame()\n",
    "game_mean_scores_norm = pd.DataFrame()\n",
    "\n",
    "game_std_lenths = pd.DataFrame()\n",
    "game_std_scores = pd.DataFrame()\n",
    "game_std_scores_norm = pd.DataFrame()\n",
    "\n",
    "game_min_lenths = pd.DataFrame()\n",
    "game_min_scores = pd.DataFrame() \n",
    "game_min_scores_norm = pd.DataFrame()\n",
    "\n",
    "game_max_lenths = pd.DataFrame()\n",
    "game_max_scores = pd.DataFrame()\n",
    "game_max_scores_norm = pd.DataFrame()\n",
    "\n",
    "game_zscore_lenths = pd.DataFrame()\n",
    "game_zscore_scores = pd.DataFrame()\n",
    "game_zscore_scores_norm = pd.DataFrame()\n",
    "\n",
    "algo_mean_lenths = pd.DataFrame()\n",
    "algo_mean_scores = pd.DataFrame()\n",
    "algo_mean_scores_norm = pd.DataFrame()\n",
    "\n",
    "algo_std_lenths = pd.DataFrame()\n",
    "algo_std_scores = pd.DataFrame()\n",
    "algo_std_scores_norm = pd.DataFrame()\n",
    "\n",
    "algo_min_lenths = pd.DataFrame()\n",
    "algo_min_scores = pd.DataFrame() \n",
    "algo_min_scores_norm = pd.DataFrame()\n",
    "\n",
    "algo_max_lenths = pd.DataFrame()\n",
    "algo_max_scores = pd.DataFrame()\n",
    "algo_max_scores_norm = pd.DataFrame()\n",
    "\n",
    "algo_zscore_lenths = pd.DataFrame()\n",
    "algo_zscore_scores = pd.DataFrame()\n",
    "algo_zscore_scores_norm = pd.DataFrame()\n",
    "\n",
    "\n",
    "for game in games:\n",
    "\n",
    "    game_mean_scores[game] = all_data[all_data['game'] == game].groupby('algo')[\"score\"].mean()\n",
    "\n",
    "    # game_mean_lenths[game] = all_data[all_data['game'] == game].groupby('algo')[\"length\"].mean()\n",
    "    # # game_mean_scores_norm[game] = all_data[all_data['game'] == game].groupby('algo')[\"score_norm\"].mean()\n",
    "\n",
    "    # game_std_lenths[game] = all_data[all_data['game'] == game].groupby('algo')[\"length\"].std()\n",
    "    # game_std_scores[game] = all_data[all_data['game'] == game].groupby('algo')[\"score\"].std()\n",
    "    # # game_std_scores_norm[game] = all_data[all_data['game'] == game].groupby('algo')[\"score_norm\"].std()\n",
    "\n",
    "    # game_min_lenths[game] = all_data[all_data['game'] == game].groupby('algo')[\"length\"].min()\n",
    "    # game_min_scores[game] = all_data[all_data['game'] == game].groupby('algo')[\"score\"].min()\n",
    "    # # game_min_scores_norm[game] = all_data[all_data['game'] == game].groupby('algo')[\"score_norm\"].min()\n",
    "\n",
    "    # game_max_lenths[game] = all_data[all_data['game'] == game].groupby('algo')[\"length\"].max()\n",
    "    # game_max_scores[game] = all_data[all_data['game'] == game].groupby('algo')[\"score\"].max()\n",
    "    # game_max_scores_norm[game] = all_data[all_data['game'] == game].groupby('algo')[\"score_norm\"].max()\n",
    "\n",
    "    # game_zscore_lenths[game] = all_data[all_data['game'] == game].groupby('algo')[\"length_zscore\"].mean()\n",
    "    # game_zscore_scores[game] = all_data[all_data['game'] == game].groupby('algo')[\"score_zscore\"].mean()\n",
    "    # game_zscore_scores_norm[game] = all_data[all_data['game'] == game].groupby('algo')[\"score_norm_zscore\"].mean()\n",
    "\n",
    "\n",
    "# for algo in algos:\n",
    "\n",
    "#     algo_mean_scores[algo] = all_data[all_data['algo'] == algo].groupby('game')[\"score\"].mean()\n",
    "\n",
    "#     algo_mean_lenths[algo] = all_data[all_data['algo'] == algo].groupby('game')[\"length\"].mean()\n",
    "#     algo_mean_scores[algo] = all_data[all_data['algo'] == algo].groupby('game')[\"score\"].mean()\n",
    "#     algo_mean_scores_norm[algo] = all_data[all_data['algo'] == algo].groupby('game')[\"score_norm\"].mean()\n",
    "\n",
    "#     algo_std_lenths[algo] = all_data[all_data['algo'] == algo].groupby('game')[\"length\"].std()\n",
    "#     algo_std_scores[algo] = all_data[all_data['algo'] == algo].groupby('game')[\"score\"].std()\n",
    "#     algo_std_scores_norm[algo] = all_data[all_data['algo'] == algo].groupby('game')[\"score_norm\"].std()\n",
    "\n",
    "#     algo_min_lenths[algo] = all_data[all_data['algo'] == algo].groupby('game')[\"length\"].min()\n",
    "#     algo_min_scores[algo] = all_data[all_data['algo'] == algo].groupby('game')[\"score\"].min()\n",
    "#     algo_min_scores_norm[algo] = all_data[all_data['algo'] == algo].groupby('game')[\"score_norm\"].min()\n",
    "\n",
    "#     algo_max_lenths[algo] = all_data[all_data['algo'] == algo].groupby('game')[\"length\"].max()\n",
    "#     algo_max_scores[algo] = all_data[all_data['algo'] == algo].groupby('game')[\"score\"].max()\n",
    "#     algo_max_scores_norm[algo] = all_data[all_data['algo'] == algo].groupby('game')[\"score_norm\"].max()\n",
    "\n",
    "#     algo_zscore_lenths[algo] = all_data[all_data['algo'] == algo].groupby('game')[\"length_zscore\"].mean()\n",
    "#     algo_zscore_scores[algo] = all_data[all_data['algo'] == algo].groupby('game')[\"score_zscore\"].mean()\n",
    "#     algo_zscore_scores_norm[algo] = all_data[all_data['algo'] == algo].groupby('game')[\"score_norm_zscore\"].mean()\n",
    "    "
   ]
  },
  {
   "cell_type": "code",
   "execution_count": 112,
   "metadata": {},
   "outputs": [],
   "source": [
    "algo_mean_scores = game_mean_scores.T\n",
    "\n",
    "algo_mean_scores['A2C_NORM'] = normalize(algo_mean_scores['A2C'].values.reshape(-1, 1), axis=0, norm='l2')\n",
    "algo_mean_scores['PPO_NORM'] = normalize(algo_mean_scores['PPO'].values.reshape(-1, 1), axis=0, norm='l2')\n",
    "algo_mean_scores['DQN_NORM'] = normalize(algo_mean_scores['DQN'].values.reshape(-1, 1), axis=0, norm='l2')\n",
    "\n",
    "\n"
   ]
  },
  {
   "cell_type": "code",
   "execution_count": 116,
   "metadata": {},
   "outputs": [
    {
     "data": {
      "text/html": [
       "<div>\n",
       "<style scoped>\n",
       "    .dataframe tbody tr th:only-of-type {\n",
       "        vertical-align: middle;\n",
       "    }\n",
       "\n",
       "    .dataframe tbody tr th {\n",
       "        vertical-align: top;\n",
       "    }\n",
       "\n",
       "    .dataframe thead th {\n",
       "        text-align: right;\n",
       "    }\n",
       "</style>\n",
       "<table border=\"1\" class=\"dataframe\">\n",
       "  <thead>\n",
       "    <tr style=\"text-align: right;\">\n",
       "      <th></th>\n",
       "      <th>Pong</th>\n",
       "      <th>SpaceInvaders</th>\n",
       "      <th>Asterix</th>\n",
       "      <th>Breakout</th>\n",
       "      <th>Centipede</th>\n",
       "      <th>Asteroids</th>\n",
       "      <th>MsPacman</th>\n",
       "      <th>Assault</th>\n",
       "      <th>Qbert</th>\n",
       "      <th>Seaquest</th>\n",
       "    </tr>\n",
       "    <tr>\n",
       "      <th>algo</th>\n",
       "      <th></th>\n",
       "      <th></th>\n",
       "      <th></th>\n",
       "      <th></th>\n",
       "      <th></th>\n",
       "      <th></th>\n",
       "      <th></th>\n",
       "      <th></th>\n",
       "      <th></th>\n",
       "      <th></th>\n",
       "    </tr>\n",
       "  </thead>\n",
       "  <tbody>\n",
       "    <tr>\n",
       "      <th>A2C</th>\n",
       "      <td>-1.000000</td>\n",
       "      <td>1018.548387</td>\n",
       "      <td>10486.111111</td>\n",
       "      <td>51.142857</td>\n",
       "      <td>33094.000000</td>\n",
       "      <td>1677.500000</td>\n",
       "      <td>4122.272727</td>\n",
       "      <td>2504.230769</td>\n",
       "      <td>26895.833333</td>\n",
       "      <td>1652.222222</td>\n",
       "    </tr>\n",
       "    <tr>\n",
       "      <th>DQN</th>\n",
       "      <td>10.909091</td>\n",
       "      <td>465.000000</td>\n",
       "      <td>4439.062500</td>\n",
       "      <td>30.395349</td>\n",
       "      <td>4170.238095</td>\n",
       "      <td>560.000000</td>\n",
       "      <td>2824.358974</td>\n",
       "      <td>4689.750000</td>\n",
       "      <td>13105.357143</td>\n",
       "      <td>1841.176471</td>\n",
       "    </tr>\n",
       "    <tr>\n",
       "      <th>PPO</th>\n",
       "      <td>0.428571</td>\n",
       "      <td>1064.531250</td>\n",
       "      <td>3645.000000</td>\n",
       "      <td>35.804878</td>\n",
       "      <td>11692.125000</td>\n",
       "      <td>1766.595745</td>\n",
       "      <td>4382.083333</td>\n",
       "      <td>4257.000000</td>\n",
       "      <td>25831.818182</td>\n",
       "      <td>3180.000000</td>\n",
       "    </tr>\n",
       "  </tbody>\n",
       "</table>\n",
       "</div>"
      ],
      "text/plain": [
       "           Pong  SpaceInvaders       Asterix   Breakout     Centipede  \\\n",
       "algo                                                                    \n",
       "A2C   -1.000000    1018.548387  10486.111111  51.142857  33094.000000   \n",
       "DQN   10.909091     465.000000   4439.062500  30.395349   4170.238095   \n",
       "PPO    0.428571    1064.531250   3645.000000  35.804878  11692.125000   \n",
       "\n",
       "        Asteroids     MsPacman      Assault         Qbert     Seaquest  \n",
       "algo                                                                    \n",
       "A2C   1677.500000  4122.272727  2504.230769  26895.833333  1652.222222  \n",
       "DQN    560.000000  2824.358974  4689.750000  13105.357143  1841.176471  \n",
       "PPO   1766.595745  4382.083333  4257.000000  25831.818182  3180.000000  "
      ]
     },
     "execution_count": 116,
     "metadata": {},
     "output_type": "execute_result"
    }
   ],
   "source": [
    "game_mean_scores"
   ]
  },
  {
   "cell_type": "code",
   "execution_count": 205,
   "metadata": {},
   "outputs": [
    {
     "data": {
      "application/vnd.plotly.v1+json": {
       "config": {
        "plotlyServerURL": "https://plot.ly"
       },
       "data": [
        {
         "alignmentgroup": "True",
         "hovertemplate": "Algo=Pong<br>algo=%{x}<br>Mean Episode Score=%{y}<extra></extra>",
         "legendgroup": "Pong",
         "marker": {
          "color": "#2E91E5",
          "pattern": {
           "shape": ""
          }
         },
         "name": "Pong",
         "offsetgroup": "Pong",
         "orientation": "v",
         "showlegend": true,
         "textposition": "auto",
         "type": "bar",
         "x": [
          "A2C",
          "DQN",
          "PPO"
         ],
         "xaxis": "x",
         "y": [
          -1,
          10.909090909090908,
          0.42857142857142855
         ],
         "yaxis": "y"
        },
        {
         "alignmentgroup": "True",
         "hovertemplate": "Algo=SpaceInvaders<br>algo=%{x}<br>Mean Episode Score=%{y}<extra></extra>",
         "legendgroup": "SpaceInvaders",
         "marker": {
          "color": "#E15F99",
          "pattern": {
           "shape": ""
          }
         },
         "name": "SpaceInvaders",
         "offsetgroup": "SpaceInvaders",
         "orientation": "v",
         "showlegend": true,
         "textposition": "auto",
         "type": "bar",
         "x": [
          "A2C",
          "DQN",
          "PPO"
         ],
         "xaxis": "x",
         "y": [
          1018.5483870967741,
          465,
          1064.53125
         ],
         "yaxis": "y"
        },
        {
         "alignmentgroup": "True",
         "hovertemplate": "Algo=Asterix<br>algo=%{x}<br>Mean Episode Score=%{y}<extra></extra>",
         "legendgroup": "Asterix",
         "marker": {
          "color": "#1CA71C",
          "pattern": {
           "shape": ""
          }
         },
         "name": "Asterix",
         "offsetgroup": "Asterix",
         "orientation": "v",
         "showlegend": true,
         "textposition": "auto",
         "type": "bar",
         "x": [
          "A2C",
          "DQN",
          "PPO"
         ],
         "xaxis": "x",
         "y": [
          10486.111111111111,
          4439.0625,
          3645
         ],
         "yaxis": "y"
        },
        {
         "alignmentgroup": "True",
         "hovertemplate": "Algo=Breakout<br>algo=%{x}<br>Mean Episode Score=%{y}<extra></extra>",
         "legendgroup": "Breakout",
         "marker": {
          "color": "#FB0D0D",
          "pattern": {
           "shape": ""
          }
         },
         "name": "Breakout",
         "offsetgroup": "Breakout",
         "orientation": "v",
         "showlegend": true,
         "textposition": "auto",
         "type": "bar",
         "x": [
          "A2C",
          "DQN",
          "PPO"
         ],
         "xaxis": "x",
         "y": [
          51.142857142857146,
          30.3953488372093,
          35.80487804878049
         ],
         "yaxis": "y"
        },
        {
         "alignmentgroup": "True",
         "hovertemplate": "Algo=Centipede<br>algo=%{x}<br>Mean Episode Score=%{y}<extra></extra>",
         "legendgroup": "Centipede",
         "marker": {
          "color": "#DA16FF",
          "pattern": {
           "shape": ""
          }
         },
         "name": "Centipede",
         "offsetgroup": "Centipede",
         "orientation": "v",
         "showlegend": true,
         "textposition": "auto",
         "type": "bar",
         "x": [
          "A2C",
          "DQN",
          "PPO"
         ],
         "xaxis": "x",
         "y": [
          33094,
          4170.238095238095,
          11692.125
         ],
         "yaxis": "y"
        },
        {
         "alignmentgroup": "True",
         "hovertemplate": "Algo=Asteroids<br>algo=%{x}<br>Mean Episode Score=%{y}<extra></extra>",
         "legendgroup": "Asteroids",
         "marker": {
          "color": "#222A2A",
          "pattern": {
           "shape": ""
          }
         },
         "name": "Asteroids",
         "offsetgroup": "Asteroids",
         "orientation": "v",
         "showlegend": true,
         "textposition": "auto",
         "type": "bar",
         "x": [
          "A2C",
          "DQN",
          "PPO"
         ],
         "xaxis": "x",
         "y": [
          1677.5,
          560,
          1766.595744680851
         ],
         "yaxis": "y"
        },
        {
         "alignmentgroup": "True",
         "hovertemplate": "Algo=MsPacman<br>algo=%{x}<br>Mean Episode Score=%{y}<extra></extra>",
         "legendgroup": "MsPacman",
         "marker": {
          "color": "#B68100",
          "pattern": {
           "shape": ""
          }
         },
         "name": "MsPacman",
         "offsetgroup": "MsPacman",
         "orientation": "v",
         "showlegend": true,
         "textposition": "auto",
         "type": "bar",
         "x": [
          "A2C",
          "DQN",
          "PPO"
         ],
         "xaxis": "x",
         "y": [
          4122.272727272727,
          2824.358974358974,
          4382.083333333333
         ],
         "yaxis": "y"
        },
        {
         "alignmentgroup": "True",
         "hovertemplate": "Algo=Assault<br>algo=%{x}<br>Mean Episode Score=%{y}<extra></extra>",
         "legendgroup": "Assault",
         "marker": {
          "color": "#750D86",
          "pattern": {
           "shape": ""
          }
         },
         "name": "Assault",
         "offsetgroup": "Assault",
         "orientation": "v",
         "showlegend": true,
         "textposition": "auto",
         "type": "bar",
         "x": [
          "A2C",
          "DQN",
          "PPO"
         ],
         "xaxis": "x",
         "y": [
          2504.230769230769,
          4689.75,
          4257
         ],
         "yaxis": "y"
        },
        {
         "alignmentgroup": "True",
         "hovertemplate": "Algo=Qbert<br>algo=%{x}<br>Mean Episode Score=%{y}<extra></extra>",
         "legendgroup": "Qbert",
         "marker": {
          "color": "#EB663B",
          "pattern": {
           "shape": ""
          }
         },
         "name": "Qbert",
         "offsetgroup": "Qbert",
         "orientation": "v",
         "showlegend": true,
         "textposition": "auto",
         "type": "bar",
         "x": [
          "A2C",
          "DQN",
          "PPO"
         ],
         "xaxis": "x",
         "y": [
          26895.833333333332,
          13105.357142857143,
          25831.81818181818
         ],
         "yaxis": "y"
        },
        {
         "alignmentgroup": "True",
         "hovertemplate": "Algo=Seaquest<br>algo=%{x}<br>Mean Episode Score=%{y}<extra></extra>",
         "legendgroup": "Seaquest",
         "marker": {
          "color": "#511CFB",
          "pattern": {
           "shape": ""
          }
         },
         "name": "Seaquest",
         "offsetgroup": "Seaquest",
         "orientation": "v",
         "showlegend": true,
         "textposition": "auto",
         "type": "bar",
         "x": [
          "A2C",
          "DQN",
          "PPO"
         ],
         "xaxis": "x",
         "y": [
          1652.2222222222222,
          1841.1764705882354,
          3180
         ],
         "yaxis": "y"
        }
       ],
       "layout": {
        "barmode": "group",
        "height": 600,
        "legend": {
         "title": {
          "text": "Algo"
         },
         "tracegroupgap": 0
        },
        "template": {
         "data": {
          "bar": [
           {
            "error_x": {
             "color": "#2a3f5f"
            },
            "error_y": {
             "color": "#2a3f5f"
            },
            "marker": {
             "line": {
              "color": "#E5ECF6",
              "width": 0.5
             },
             "pattern": {
              "fillmode": "overlay",
              "size": 10,
              "solidity": 0.2
             }
            },
            "type": "bar"
           }
          ],
          "barpolar": [
           {
            "marker": {
             "line": {
              "color": "#E5ECF6",
              "width": 0.5
             },
             "pattern": {
              "fillmode": "overlay",
              "size": 10,
              "solidity": 0.2
             }
            },
            "type": "barpolar"
           }
          ],
          "carpet": [
           {
            "aaxis": {
             "endlinecolor": "#2a3f5f",
             "gridcolor": "white",
             "linecolor": "white",
             "minorgridcolor": "white",
             "startlinecolor": "#2a3f5f"
            },
            "baxis": {
             "endlinecolor": "#2a3f5f",
             "gridcolor": "white",
             "linecolor": "white",
             "minorgridcolor": "white",
             "startlinecolor": "#2a3f5f"
            },
            "type": "carpet"
           }
          ],
          "choropleth": [
           {
            "colorbar": {
             "outlinewidth": 0,
             "ticks": ""
            },
            "type": "choropleth"
           }
          ],
          "contour": [
           {
            "colorbar": {
             "outlinewidth": 0,
             "ticks": ""
            },
            "colorscale": [
             [
              0,
              "#0d0887"
             ],
             [
              0.1111111111111111,
              "#46039f"
             ],
             [
              0.2222222222222222,
              "#7201a8"
             ],
             [
              0.3333333333333333,
              "#9c179e"
             ],
             [
              0.4444444444444444,
              "#bd3786"
             ],
             [
              0.5555555555555556,
              "#d8576b"
             ],
             [
              0.6666666666666666,
              "#ed7953"
             ],
             [
              0.7777777777777778,
              "#fb9f3a"
             ],
             [
              0.8888888888888888,
              "#fdca26"
             ],
             [
              1,
              "#f0f921"
             ]
            ],
            "type": "contour"
           }
          ],
          "contourcarpet": [
           {
            "colorbar": {
             "outlinewidth": 0,
             "ticks": ""
            },
            "type": "contourcarpet"
           }
          ],
          "heatmap": [
           {
            "colorbar": {
             "outlinewidth": 0,
             "ticks": ""
            },
            "colorscale": [
             [
              0,
              "#0d0887"
             ],
             [
              0.1111111111111111,
              "#46039f"
             ],
             [
              0.2222222222222222,
              "#7201a8"
             ],
             [
              0.3333333333333333,
              "#9c179e"
             ],
             [
              0.4444444444444444,
              "#bd3786"
             ],
             [
              0.5555555555555556,
              "#d8576b"
             ],
             [
              0.6666666666666666,
              "#ed7953"
             ],
             [
              0.7777777777777778,
              "#fb9f3a"
             ],
             [
              0.8888888888888888,
              "#fdca26"
             ],
             [
              1,
              "#f0f921"
             ]
            ],
            "type": "heatmap"
           }
          ],
          "heatmapgl": [
           {
            "colorbar": {
             "outlinewidth": 0,
             "ticks": ""
            },
            "colorscale": [
             [
              0,
              "#0d0887"
             ],
             [
              0.1111111111111111,
              "#46039f"
             ],
             [
              0.2222222222222222,
              "#7201a8"
             ],
             [
              0.3333333333333333,
              "#9c179e"
             ],
             [
              0.4444444444444444,
              "#bd3786"
             ],
             [
              0.5555555555555556,
              "#d8576b"
             ],
             [
              0.6666666666666666,
              "#ed7953"
             ],
             [
              0.7777777777777778,
              "#fb9f3a"
             ],
             [
              0.8888888888888888,
              "#fdca26"
             ],
             [
              1,
              "#f0f921"
             ]
            ],
            "type": "heatmapgl"
           }
          ],
          "histogram": [
           {
            "marker": {
             "pattern": {
              "fillmode": "overlay",
              "size": 10,
              "solidity": 0.2
             }
            },
            "type": "histogram"
           }
          ],
          "histogram2d": [
           {
            "colorbar": {
             "outlinewidth": 0,
             "ticks": ""
            },
            "colorscale": [
             [
              0,
              "#0d0887"
             ],
             [
              0.1111111111111111,
              "#46039f"
             ],
             [
              0.2222222222222222,
              "#7201a8"
             ],
             [
              0.3333333333333333,
              "#9c179e"
             ],
             [
              0.4444444444444444,
              "#bd3786"
             ],
             [
              0.5555555555555556,
              "#d8576b"
             ],
             [
              0.6666666666666666,
              "#ed7953"
             ],
             [
              0.7777777777777778,
              "#fb9f3a"
             ],
             [
              0.8888888888888888,
              "#fdca26"
             ],
             [
              1,
              "#f0f921"
             ]
            ],
            "type": "histogram2d"
           }
          ],
          "histogram2dcontour": [
           {
            "colorbar": {
             "outlinewidth": 0,
             "ticks": ""
            },
            "colorscale": [
             [
              0,
              "#0d0887"
             ],
             [
              0.1111111111111111,
              "#46039f"
             ],
             [
              0.2222222222222222,
              "#7201a8"
             ],
             [
              0.3333333333333333,
              "#9c179e"
             ],
             [
              0.4444444444444444,
              "#bd3786"
             ],
             [
              0.5555555555555556,
              "#d8576b"
             ],
             [
              0.6666666666666666,
              "#ed7953"
             ],
             [
              0.7777777777777778,
              "#fb9f3a"
             ],
             [
              0.8888888888888888,
              "#fdca26"
             ],
             [
              1,
              "#f0f921"
             ]
            ],
            "type": "histogram2dcontour"
           }
          ],
          "mesh3d": [
           {
            "colorbar": {
             "outlinewidth": 0,
             "ticks": ""
            },
            "type": "mesh3d"
           }
          ],
          "parcoords": [
           {
            "line": {
             "colorbar": {
              "outlinewidth": 0,
              "ticks": ""
             }
            },
            "type": "parcoords"
           }
          ],
          "pie": [
           {
            "automargin": true,
            "type": "pie"
           }
          ],
          "scatter": [
           {
            "fillpattern": {
             "fillmode": "overlay",
             "size": 10,
             "solidity": 0.2
            },
            "type": "scatter"
           }
          ],
          "scatter3d": [
           {
            "line": {
             "colorbar": {
              "outlinewidth": 0,
              "ticks": ""
             }
            },
            "marker": {
             "colorbar": {
              "outlinewidth": 0,
              "ticks": ""
             }
            },
            "type": "scatter3d"
           }
          ],
          "scattercarpet": [
           {
            "marker": {
             "colorbar": {
              "outlinewidth": 0,
              "ticks": ""
             }
            },
            "type": "scattercarpet"
           }
          ],
          "scattergeo": [
           {
            "marker": {
             "colorbar": {
              "outlinewidth": 0,
              "ticks": ""
             }
            },
            "type": "scattergeo"
           }
          ],
          "scattergl": [
           {
            "marker": {
             "colorbar": {
              "outlinewidth": 0,
              "ticks": ""
             }
            },
            "type": "scattergl"
           }
          ],
          "scattermapbox": [
           {
            "marker": {
             "colorbar": {
              "outlinewidth": 0,
              "ticks": ""
             }
            },
            "type": "scattermapbox"
           }
          ],
          "scatterpolar": [
           {
            "marker": {
             "colorbar": {
              "outlinewidth": 0,
              "ticks": ""
             }
            },
            "type": "scatterpolar"
           }
          ],
          "scatterpolargl": [
           {
            "marker": {
             "colorbar": {
              "outlinewidth": 0,
              "ticks": ""
             }
            },
            "type": "scatterpolargl"
           }
          ],
          "scatterternary": [
           {
            "marker": {
             "colorbar": {
              "outlinewidth": 0,
              "ticks": ""
             }
            },
            "type": "scatterternary"
           }
          ],
          "surface": [
           {
            "colorbar": {
             "outlinewidth": 0,
             "ticks": ""
            },
            "colorscale": [
             [
              0,
              "#0d0887"
             ],
             [
              0.1111111111111111,
              "#46039f"
             ],
             [
              0.2222222222222222,
              "#7201a8"
             ],
             [
              0.3333333333333333,
              "#9c179e"
             ],
             [
              0.4444444444444444,
              "#bd3786"
             ],
             [
              0.5555555555555556,
              "#d8576b"
             ],
             [
              0.6666666666666666,
              "#ed7953"
             ],
             [
              0.7777777777777778,
              "#fb9f3a"
             ],
             [
              0.8888888888888888,
              "#fdca26"
             ],
             [
              1,
              "#f0f921"
             ]
            ],
            "type": "surface"
           }
          ],
          "table": [
           {
            "cells": {
             "fill": {
              "color": "#EBF0F8"
             },
             "line": {
              "color": "white"
             }
            },
            "header": {
             "fill": {
              "color": "#C8D4E3"
             },
             "line": {
              "color": "white"
             }
            },
            "type": "table"
           }
          ]
         },
         "layout": {
          "annotationdefaults": {
           "arrowcolor": "#2a3f5f",
           "arrowhead": 0,
           "arrowwidth": 1
          },
          "autotypenumbers": "strict",
          "coloraxis": {
           "colorbar": {
            "outlinewidth": 0,
            "ticks": ""
           }
          },
          "colorscale": {
           "diverging": [
            [
             0,
             "#8e0152"
            ],
            [
             0.1,
             "#c51b7d"
            ],
            [
             0.2,
             "#de77ae"
            ],
            [
             0.3,
             "#f1b6da"
            ],
            [
             0.4,
             "#fde0ef"
            ],
            [
             0.5,
             "#f7f7f7"
            ],
            [
             0.6,
             "#e6f5d0"
            ],
            [
             0.7,
             "#b8e186"
            ],
            [
             0.8,
             "#7fbc41"
            ],
            [
             0.9,
             "#4d9221"
            ],
            [
             1,
             "#276419"
            ]
           ],
           "sequential": [
            [
             0,
             "#0d0887"
            ],
            [
             0.1111111111111111,
             "#46039f"
            ],
            [
             0.2222222222222222,
             "#7201a8"
            ],
            [
             0.3333333333333333,
             "#9c179e"
            ],
            [
             0.4444444444444444,
             "#bd3786"
            ],
            [
             0.5555555555555556,
             "#d8576b"
            ],
            [
             0.6666666666666666,
             "#ed7953"
            ],
            [
             0.7777777777777778,
             "#fb9f3a"
            ],
            [
             0.8888888888888888,
             "#fdca26"
            ],
            [
             1,
             "#f0f921"
            ]
           ],
           "sequentialminus": [
            [
             0,
             "#0d0887"
            ],
            [
             0.1111111111111111,
             "#46039f"
            ],
            [
             0.2222222222222222,
             "#7201a8"
            ],
            [
             0.3333333333333333,
             "#9c179e"
            ],
            [
             0.4444444444444444,
             "#bd3786"
            ],
            [
             0.5555555555555556,
             "#d8576b"
            ],
            [
             0.6666666666666666,
             "#ed7953"
            ],
            [
             0.7777777777777778,
             "#fb9f3a"
            ],
            [
             0.8888888888888888,
             "#fdca26"
            ],
            [
             1,
             "#f0f921"
            ]
           ]
          },
          "colorway": [
           "#636efa",
           "#EF553B",
           "#00cc96",
           "#ab63fa",
           "#FFA15A",
           "#19d3f3",
           "#FF6692",
           "#B6E880",
           "#FF97FF",
           "#FECB52"
          ],
          "font": {
           "color": "#2a3f5f"
          },
          "geo": {
           "bgcolor": "white",
           "lakecolor": "white",
           "landcolor": "#E5ECF6",
           "showlakes": true,
           "showland": true,
           "subunitcolor": "white"
          },
          "hoverlabel": {
           "align": "left"
          },
          "hovermode": "closest",
          "mapbox": {
           "style": "light"
          },
          "paper_bgcolor": "white",
          "plot_bgcolor": "#E5ECF6",
          "polar": {
           "angularaxis": {
            "gridcolor": "white",
            "linecolor": "white",
            "ticks": ""
           },
           "bgcolor": "#E5ECF6",
           "radialaxis": {
            "gridcolor": "white",
            "linecolor": "white",
            "ticks": ""
           }
          },
          "scene": {
           "xaxis": {
            "backgroundcolor": "#E5ECF6",
            "gridcolor": "white",
            "gridwidth": 2,
            "linecolor": "white",
            "showbackground": true,
            "ticks": "",
            "zerolinecolor": "white"
           },
           "yaxis": {
            "backgroundcolor": "#E5ECF6",
            "gridcolor": "white",
            "gridwidth": 2,
            "linecolor": "white",
            "showbackground": true,
            "ticks": "",
            "zerolinecolor": "white"
           },
           "zaxis": {
            "backgroundcolor": "#E5ECF6",
            "gridcolor": "white",
            "gridwidth": 2,
            "linecolor": "white",
            "showbackground": true,
            "ticks": "",
            "zerolinecolor": "white"
           }
          },
          "shapedefaults": {
           "line": {
            "color": "#2a3f5f"
           }
          },
          "ternary": {
           "aaxis": {
            "gridcolor": "white",
            "linecolor": "white",
            "ticks": ""
           },
           "baxis": {
            "gridcolor": "white",
            "linecolor": "white",
            "ticks": ""
           },
           "bgcolor": "#E5ECF6",
           "caxis": {
            "gridcolor": "white",
            "linecolor": "white",
            "ticks": ""
           }
          },
          "title": {
           "x": 0.05
          },
          "xaxis": {
           "automargin": true,
           "gridcolor": "white",
           "linecolor": "white",
           "ticks": "",
           "title": {
            "standoff": 15
           },
           "zerolinecolor": "white",
           "zerolinewidth": 2
          },
          "yaxis": {
           "automargin": true,
           "gridcolor": "white",
           "linecolor": "white",
           "ticks": "",
           "title": {
            "standoff": 15
           },
           "zerolinecolor": "white",
           "zerolinewidth": 2
          }
         }
        },
        "title": {
         "text": "Evaluation: Mean Episode Score (Normalized) by Algo"
        },
        "width": 800,
        "xaxis": {
         "anchor": "y",
         "domain": [
          0,
          1
         ],
         "title": {
          "text": "algo"
         }
        },
        "yaxis": {
         "anchor": "x",
         "domain": [
          0,
          1
         ],
         "title": {
          "text": "Mean Episode Score"
         }
        }
       }
      }
     },
     "metadata": {},
     "output_type": "display_data"
    }
   ],
   "source": [
    "df = all_games\n",
    "title = \"Evaluation: Mean Episode Score (Normalized) by Algo\"\n",
    "labels = {'variable':'Algo', 'game':'Game', 'value':'Mean Episode Score'}\n",
    "\n",
    "fig = px.bar(df, \n",
    "             x=df.index,\n",
    "             y=df.columns,\n",
    "             barmode=\"group\",\n",
    "             width=plots_shape[0],\n",
    "             height=plots_shape[1],\n",
    "             color_discrete_sequence=plots_colors,\n",
    "             labels=labels,\n",
    "             title=title)\n",
    "fig.show()"
   ]
  },
  {
   "cell_type": "code",
   "execution_count": 12,
   "metadata": {},
   "outputs": [
    {
     "data": {
      "text/html": [
       "<div>\n",
       "<style scoped>\n",
       "    .dataframe tbody tr th:only-of-type {\n",
       "        vertical-align: middle;\n",
       "    }\n",
       "\n",
       "    .dataframe tbody tr th {\n",
       "        vertical-align: top;\n",
       "    }\n",
       "\n",
       "    .dataframe thead th {\n",
       "        text-align: right;\n",
       "    }\n",
       "</style>\n",
       "<table border=\"1\" class=\"dataframe\">\n",
       "  <thead>\n",
       "    <tr style=\"text-align: right;\">\n",
       "      <th></th>\n",
       "      <th>PPO</th>\n",
       "      <th>DQN</th>\n",
       "      <th>A2C</th>\n",
       "    </tr>\n",
       "    <tr>\n",
       "      <th>game</th>\n",
       "      <th></th>\n",
       "      <th></th>\n",
       "      <th></th>\n",
       "    </tr>\n",
       "  </thead>\n",
       "  <tbody>\n",
       "    <tr>\n",
       "      <th>Assault</th>\n",
       "      <td>4257.000000</td>\n",
       "      <td>4689.750000</td>\n",
       "      <td>2504.230769</td>\n",
       "    </tr>\n",
       "    <tr>\n",
       "      <th>Asterix</th>\n",
       "      <td>3645.000000</td>\n",
       "      <td>4439.062500</td>\n",
       "      <td>10486.111111</td>\n",
       "    </tr>\n",
       "    <tr>\n",
       "      <th>Asteroids</th>\n",
       "      <td>1766.595745</td>\n",
       "      <td>560.000000</td>\n",
       "      <td>1677.500000</td>\n",
       "    </tr>\n",
       "    <tr>\n",
       "      <th>Breakout</th>\n",
       "      <td>35.804878</td>\n",
       "      <td>30.395349</td>\n",
       "      <td>51.142857</td>\n",
       "    </tr>\n",
       "    <tr>\n",
       "      <th>Centipede</th>\n",
       "      <td>11692.125000</td>\n",
       "      <td>4170.238095</td>\n",
       "      <td>33094.000000</td>\n",
       "    </tr>\n",
       "    <tr>\n",
       "      <th>MsPacman</th>\n",
       "      <td>4382.083333</td>\n",
       "      <td>2824.358974</td>\n",
       "      <td>4122.272727</td>\n",
       "    </tr>\n",
       "    <tr>\n",
       "      <th>Pong</th>\n",
       "      <td>0.428571</td>\n",
       "      <td>10.909091</td>\n",
       "      <td>-1.000000</td>\n",
       "    </tr>\n",
       "    <tr>\n",
       "      <th>Qbert</th>\n",
       "      <td>25831.818182</td>\n",
       "      <td>13105.357143</td>\n",
       "      <td>26895.833333</td>\n",
       "    </tr>\n",
       "    <tr>\n",
       "      <th>Seaquest</th>\n",
       "      <td>3180.000000</td>\n",
       "      <td>1841.176471</td>\n",
       "      <td>1652.222222</td>\n",
       "    </tr>\n",
       "    <tr>\n",
       "      <th>SpaceInvaders</th>\n",
       "      <td>1064.531250</td>\n",
       "      <td>465.000000</td>\n",
       "      <td>1018.548387</td>\n",
       "    </tr>\n",
       "  </tbody>\n",
       "</table>\n",
       "</div>"
      ],
      "text/plain": [
       "                        PPO           DQN           A2C\n",
       "game                                                   \n",
       "Assault         4257.000000   4689.750000   2504.230769\n",
       "Asterix         3645.000000   4439.062500  10486.111111\n",
       "Asteroids       1766.595745    560.000000   1677.500000\n",
       "Breakout          35.804878     30.395349     51.142857\n",
       "Centipede      11692.125000   4170.238095  33094.000000\n",
       "MsPacman        4382.083333   2824.358974   4122.272727\n",
       "Pong               0.428571     10.909091     -1.000000\n",
       "Qbert          25831.818182  13105.357143  26895.833333\n",
       "Seaquest        3180.000000   1841.176471   1652.222222\n",
       "SpaceInvaders   1064.531250    465.000000   1018.548387"
      ]
     },
     "execution_count": 12,
     "metadata": {},
     "output_type": "execute_result"
    }
   ],
   "source": [
    "df"
   ]
  }
 ],
 "metadata": {
  "kernelspec": {
   "display_name": "gym",
   "language": "python",
   "name": "python3"
  },
  "language_info": {
   "codemirror_mode": {
    "name": "ipython",
    "version": 3
   },
   "file_extension": ".py",
   "mimetype": "text/x-python",
   "name": "python",
   "nbconvert_exporter": "python",
   "pygments_lexer": "ipython3",
   "version": "3.9.0"
  }
 },
 "nbformat": 4,
 "nbformat_minor": 2
}
